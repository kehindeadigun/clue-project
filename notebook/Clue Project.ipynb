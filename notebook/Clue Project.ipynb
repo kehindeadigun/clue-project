{
 "cells": [
  {
   "cell_type": "markdown",
   "id": "05602179",
   "metadata": {},
   "source": [
    "# Clue Project\n",
    "\n",
    "In this notebook, we split our process tasks in two. We walk through the process of normalizing our dataset and then, read in the data from our normalized database for use in predicting the result of a match between two opponents. We will use functions and the ideas from this notebook to write our processing scripts.\n",
    "\n",
    "**Task list** <br>\n",
    "As as defined below:\n",
    "Create a Python 3.* that parses the NBA statistics provided in the attached files:\n",
    "- Dump the statistics into a MySQL database in a normalized format\n",
    "- Create a user facing functionality to retrieve the following data points:\n",
    "- The best player in terms of productivity for each week of the selected season (each point/rebound/assist counts the same)\n",
    "- Prediction of a match result between two teams (the prediction model is up to you to create, the more interesting, the best)\n",
    "- (Exterior) The program can be web facing (FLASK) or command line only"
   ]
  },
  {
   "cell_type": "markdown",
   "id": "7456639d",
   "metadata": {},
   "source": [
    "## Task 1: Basketball Dataset Normalization\n",
    "\n",
    "To understand the dataset, I first searched for explanatory information on our statistics which are available here: [Wikipedia on Statistics](https://en.wikipedia.org/wiki/Basketball_statistics)\n",
    "\n",
    "Our data files in \"archive.zip\" contains 5 csv files:\n",
    "   1. 'teams.csv'\n",
    "   2. 'players.csv'\n",
    "   3. 'games.csv',\n",
    "   4. 'ranking.csv'\n",
    "   5. 'games_details.csv'\n",
    "   \n",
    "\n",
    "Our task is to breakdown our dataset into normalized (3rdNF) and write to an SQL database. Each csv is read in and parsed with the pandas library."
   ]
  },
  {
   "cell_type": "code",
   "execution_count": 820,
   "id": "b094d25e",
   "metadata": {},
   "outputs": [],
   "source": [
    "#importing necessary libraries\n",
    "import pandas as pd\n",
    "import numpy as np\n",
    "import matplotlib.pyplot as plt\n",
    "import zipfile\n",
    "import os\n",
    "from sqlalchemy import create_engine"
   ]
  },
  {
   "cell_type": "code",
   "execution_count": 821,
   "id": "36fcc01a",
   "metadata": {},
   "outputs": [],
   "source": [
    "#!pip install googledrivedownloader"
   ]
  },
  {
   "cell_type": "code",
   "execution_count": 822,
   "id": "09b47045",
   "metadata": {},
   "outputs": [],
   "source": [
    "#from google_drive_downloader import GoogleDriveDownloader as gdd\n",
    "\n",
    "#drive_path = '1N2ECsbiCkNDq4ilEVbMIkKz3WESvlG1_'\n",
    "#parent_dir = 'data'\n",
    "#file_name = '/archive.zip'\n",
    "\n",
    "#gdd.download_file_from_google_drive(file_id = drive_path,\n",
    "#                                    dest_path=parent_dir+file_name,\n",
    "#                                    unzip=True)"
   ]
  },
  {
   "cell_type": "code",
   "execution_count": 823,
   "id": "54e47253",
   "metadata": {},
   "outputs": [],
   "source": [
    "import zipfile\n",
    "\n",
    "parent_dir = 'data'\n",
    "file_name = 'archive.zip'\n",
    "\n",
    "with zipfile.ZipFile(file_name, \"r\") as zip_ref:\n",
    "    zip_ref.extractall(\"data\")"
   ]
  },
  {
   "cell_type": "code",
   "execution_count": 824,
   "id": "c94cac3b",
   "metadata": {},
   "outputs": [
    {
     "data": {
      "text/plain": [
       "['data/games.csv',\n",
       " 'data/games_details.csv',\n",
       " 'data/players.csv',\n",
       " 'data/ranking.csv',\n",
       " 'data/teams.csv']"
      ]
     },
     "execution_count": 824,
     "metadata": {},
     "output_type": "execute_result"
    }
   ],
   "source": [
    "datasets = [parent_dir+'/'+file_name for file_name in  os.listdir('data')]\n",
    "sorted(datasets)"
   ]
  },
  {
   "cell_type": "code",
   "execution_count": null,
   "id": "c1b6b99d",
   "metadata": {},
   "outputs": [],
   "source": []
  },
  {
   "cell_type": "markdown",
   "id": "29b57642",
   "metadata": {},
   "source": [
    "### 1: Refactoring the Teams CSV\n",
    "To normalize the data available in teams.csv can be split into the teams and arenas databases. "
   ]
  },
  {
   "cell_type": "code",
   "execution_count": 825,
   "id": "fa1643e8",
   "metadata": {
    "scrolled": true
   },
   "outputs": [
    {
     "data": {
      "text/html": [
       "<div>\n",
       "<style scoped>\n",
       "    .dataframe tbody tr th:only-of-type {\n",
       "        vertical-align: middle;\n",
       "    }\n",
       "\n",
       "    .dataframe tbody tr th {\n",
       "        vertical-align: top;\n",
       "    }\n",
       "\n",
       "    .dataframe thead th {\n",
       "        text-align: right;\n",
       "    }\n",
       "</style>\n",
       "<table border=\"1\" class=\"dataframe\">\n",
       "  <thead>\n",
       "    <tr style=\"text-align: right;\">\n",
       "      <th></th>\n",
       "      <th>LEAGUE_ID</th>\n",
       "      <th>TEAM_ID</th>\n",
       "      <th>MIN_YEAR</th>\n",
       "      <th>MAX_YEAR</th>\n",
       "      <th>ABBREVIATION</th>\n",
       "      <th>NICKNAME</th>\n",
       "      <th>YEARFOUNDED</th>\n",
       "      <th>CITY</th>\n",
       "      <th>ARENA</th>\n",
       "      <th>ARENACAPACITY</th>\n",
       "      <th>OWNER</th>\n",
       "      <th>GENERALMANAGER</th>\n",
       "      <th>HEADCOACH</th>\n",
       "      <th>DLEAGUEAFFILIATION</th>\n",
       "    </tr>\n",
       "  </thead>\n",
       "  <tbody>\n",
       "    <tr>\n",
       "      <th>0</th>\n",
       "      <td>0</td>\n",
       "      <td>1610612737</td>\n",
       "      <td>1949</td>\n",
       "      <td>2019</td>\n",
       "      <td>ATL</td>\n",
       "      <td>Hawks</td>\n",
       "      <td>1949</td>\n",
       "      <td>Atlanta</td>\n",
       "      <td>State Farm Arena</td>\n",
       "      <td>18729.0</td>\n",
       "      <td>Tony Ressler</td>\n",
       "      <td>Travis Schlenk</td>\n",
       "      <td>Lloyd Pierce</td>\n",
       "      <td>Erie Bayhawks</td>\n",
       "    </tr>\n",
       "    <tr>\n",
       "      <th>1</th>\n",
       "      <td>0</td>\n",
       "      <td>1610612738</td>\n",
       "      <td>1946</td>\n",
       "      <td>2019</td>\n",
       "      <td>BOS</td>\n",
       "      <td>Celtics</td>\n",
       "      <td>1946</td>\n",
       "      <td>Boston</td>\n",
       "      <td>TD Garden</td>\n",
       "      <td>18624.0</td>\n",
       "      <td>Wyc Grousbeck</td>\n",
       "      <td>Danny Ainge</td>\n",
       "      <td>Brad Stevens</td>\n",
       "      <td>Maine Red Claws</td>\n",
       "    </tr>\n",
       "    <tr>\n",
       "      <th>2</th>\n",
       "      <td>0</td>\n",
       "      <td>1610612740</td>\n",
       "      <td>2002</td>\n",
       "      <td>2019</td>\n",
       "      <td>NOP</td>\n",
       "      <td>Pelicans</td>\n",
       "      <td>2002</td>\n",
       "      <td>New Orleans</td>\n",
       "      <td>Smoothie King Center</td>\n",
       "      <td>NaN</td>\n",
       "      <td>Tom Benson</td>\n",
       "      <td>Trajan Langdon</td>\n",
       "      <td>Alvin Gentry</td>\n",
       "      <td>No Affiliate</td>\n",
       "    </tr>\n",
       "    <tr>\n",
       "      <th>3</th>\n",
       "      <td>0</td>\n",
       "      <td>1610612741</td>\n",
       "      <td>1966</td>\n",
       "      <td>2019</td>\n",
       "      <td>CHI</td>\n",
       "      <td>Bulls</td>\n",
       "      <td>1966</td>\n",
       "      <td>Chicago</td>\n",
       "      <td>United Center</td>\n",
       "      <td>21711.0</td>\n",
       "      <td>Jerry Reinsdorf</td>\n",
       "      <td>Gar Forman</td>\n",
       "      <td>Jim Boylen</td>\n",
       "      <td>Windy City Bulls</td>\n",
       "    </tr>\n",
       "    <tr>\n",
       "      <th>4</th>\n",
       "      <td>0</td>\n",
       "      <td>1610612742</td>\n",
       "      <td>1980</td>\n",
       "      <td>2019</td>\n",
       "      <td>DAL</td>\n",
       "      <td>Mavericks</td>\n",
       "      <td>1980</td>\n",
       "      <td>Dallas</td>\n",
       "      <td>American Airlines Center</td>\n",
       "      <td>19200.0</td>\n",
       "      <td>Mark Cuban</td>\n",
       "      <td>Donnie Nelson</td>\n",
       "      <td>Rick Carlisle</td>\n",
       "      <td>Texas Legends</td>\n",
       "    </tr>\n",
       "  </tbody>\n",
       "</table>\n",
       "</div>"
      ],
      "text/plain": [
       "   LEAGUE_ID     TEAM_ID  MIN_YEAR  MAX_YEAR ABBREVIATION   NICKNAME  \\\n",
       "0          0  1610612737      1949      2019          ATL      Hawks   \n",
       "1          0  1610612738      1946      2019          BOS    Celtics   \n",
       "2          0  1610612740      2002      2019          NOP   Pelicans   \n",
       "3          0  1610612741      1966      2019          CHI      Bulls   \n",
       "4          0  1610612742      1980      2019          DAL  Mavericks   \n",
       "\n",
       "   YEARFOUNDED         CITY                     ARENA  ARENACAPACITY  \\\n",
       "0         1949      Atlanta          State Farm Arena        18729.0   \n",
       "1         1946       Boston                 TD Garden        18624.0   \n",
       "2         2002  New Orleans      Smoothie King Center            NaN   \n",
       "3         1966      Chicago             United Center        21711.0   \n",
       "4         1980       Dallas  American Airlines Center        19200.0   \n",
       "\n",
       "             OWNER  GENERALMANAGER      HEADCOACH DLEAGUEAFFILIATION  \n",
       "0     Tony Ressler  Travis Schlenk   Lloyd Pierce      Erie Bayhawks  \n",
       "1    Wyc Grousbeck     Danny Ainge   Brad Stevens    Maine Red Claws  \n",
       "2       Tom Benson  Trajan Langdon   Alvin Gentry       No Affiliate  \n",
       "3  Jerry Reinsdorf      Gar Forman     Jim Boylen   Windy City Bulls  \n",
       "4       Mark Cuban   Donnie Nelson  Rick Carlisle      Texas Legends  "
      ]
     },
     "execution_count": 825,
     "metadata": {},
     "output_type": "execute_result"
    }
   ],
   "source": [
    "teams = pd.read_csv(datasets[0])\n",
    "teams.head()"
   ]
  },
  {
   "cell_type": "code",
   "execution_count": 826,
   "id": "1d1c4688",
   "metadata": {},
   "outputs": [
    {
     "data": {
      "text/plain": [
       "LEAGUE_ID               int64\n",
       "TEAM_ID                 int64\n",
       "MIN_YEAR                int64\n",
       "MAX_YEAR                int64\n",
       "ABBREVIATION           object\n",
       "NICKNAME               object\n",
       "YEARFOUNDED             int64\n",
       "CITY                   object\n",
       "ARENA                  object\n",
       "ARENACAPACITY         float64\n",
       "OWNER                  object\n",
       "GENERALMANAGER         object\n",
       "HEADCOACH              object\n",
       "DLEAGUEAFFILIATION     object\n",
       "dtype: object"
      ]
     },
     "execution_count": 826,
     "metadata": {},
     "output_type": "execute_result"
    }
   ],
   "source": [
    "teams.dtypes"
   ]
  },
  {
   "cell_type": "markdown",
   "id": "e8c6bc07",
   "metadata": {
    "scrolled": false
   },
   "source": [
    "**MISSING DATA**"
   ]
  },
  {
   "cell_type": "code",
   "execution_count": 827,
   "id": "cf2bb8ea",
   "metadata": {},
   "outputs": [
    {
     "data": {
      "text/plain": [
       "LEAGUE_ID             0\n",
       "TEAM_ID               0\n",
       "MIN_YEAR              0\n",
       "MAX_YEAR              0\n",
       "ABBREVIATION          0\n",
       "NICKNAME              0\n",
       "YEARFOUNDED           0\n",
       "CITY                  0\n",
       "ARENA                 0\n",
       "ARENACAPACITY         4\n",
       "OWNER                 0\n",
       "GENERALMANAGER        0\n",
       "HEADCOACH             0\n",
       "DLEAGUEAFFILIATION    0\n",
       "dtype: int64"
      ]
     },
     "execution_count": 827,
     "metadata": {},
     "output_type": "execute_result"
    }
   ],
   "source": [
    "teams.isna().sum()"
   ]
  },
  {
   "cell_type": "markdown",
   "id": "0b4b87e9",
   "metadata": {
    "scrolled": false
   },
   "source": [
    "**CONSISTENCY CHECK**"
   ]
  },
  {
   "cell_type": "code",
   "execution_count": 828,
   "id": "c1613ffb",
   "metadata": {},
   "outputs": [
    {
     "name": "stdout",
     "output_type": "stream",
     "text": [
      "We have 30 unique teams: \n",
      "[1610612737 1610612738 1610612740 1610612741 1610612742 1610612743\n",
      " 1610612745 1610612746 1610612747 1610612748 1610612749 1610612750\n",
      " 1610612751 1610612752 1610612753 1610612754 1610612755 1610612756\n",
      " 1610612757 1610612758 1610612759 1610612760 1610612761 1610612762\n",
      " 1610612763 1610612764 1610612765 1610612766 1610612739 1610612744]\n"
     ]
    }
   ],
   "source": [
    "print(f'We have {teams[\"TEAM_ID\"].nunique()} unique teams: ')\n",
    "print(teams[\"TEAM_ID\"].unique())"
   ]
  },
  {
   "cell_type": "code",
   "execution_count": 829,
   "id": "a93c19a4",
   "metadata": {},
   "outputs": [
    {
     "data": {
      "text/plain": [
       "0"
      ]
     },
     "execution_count": 829,
     "metadata": {},
     "output_type": "execute_result"
    }
   ],
   "source": [
    "teams.duplicated().sum()"
   ]
  },
  {
   "cell_type": "markdown",
   "id": "b63b98e3",
   "metadata": {
    "scrolled": false
   },
   "source": [
    "**FINAL SORT**"
   ]
  },
  {
   "cell_type": "markdown",
   "id": "067046dc",
   "metadata": {},
   "source": [
    "We will rearrange and rename our columns to make for clearer insertion into our db later on"
   ]
  },
  {
   "cell_type": "code",
   "execution_count": 830,
   "id": "2378f89f",
   "metadata": {},
   "outputs": [
    {
     "data": {
      "text/html": [
       "<div>\n",
       "<style scoped>\n",
       "    .dataframe tbody tr th:only-of-type {\n",
       "        vertical-align: middle;\n",
       "    }\n",
       "\n",
       "    .dataframe tbody tr th {\n",
       "        vertical-align: top;\n",
       "    }\n",
       "\n",
       "    .dataframe thead th {\n",
       "        text-align: right;\n",
       "    }\n",
       "</style>\n",
       "<table border=\"1\" class=\"dataframe\">\n",
       "  <thead>\n",
       "    <tr style=\"text-align: right;\">\n",
       "      <th></th>\n",
       "      <th>TEAM_ID</th>\n",
       "      <th>LEAGUE_ID</th>\n",
       "      <th>MIN_YEAR</th>\n",
       "      <th>MAX_YEAR</th>\n",
       "      <th>ABBREVIATION</th>\n",
       "      <th>NICKNAME</th>\n",
       "      <th>CITY</th>\n",
       "      <th>ARENA</th>\n",
       "      <th>ARENACAPACITY</th>\n",
       "      <th>OWNER</th>\n",
       "      <th>GENERALMANAGER</th>\n",
       "      <th>HEADCOACH</th>\n",
       "      <th>DLEAGUEAFFILIATION</th>\n",
       "    </tr>\n",
       "  </thead>\n",
       "  <tbody>\n",
       "    <tr>\n",
       "      <th>0</th>\n",
       "      <td>1610612737</td>\n",
       "      <td>0</td>\n",
       "      <td>1949</td>\n",
       "      <td>2019</td>\n",
       "      <td>ATL</td>\n",
       "      <td>Hawks</td>\n",
       "      <td>Atlanta</td>\n",
       "      <td>State Farm Arena</td>\n",
       "      <td>18729.0</td>\n",
       "      <td>Tony Ressler</td>\n",
       "      <td>Travis Schlenk</td>\n",
       "      <td>Lloyd Pierce</td>\n",
       "      <td>Erie Bayhawks</td>\n",
       "    </tr>\n",
       "    <tr>\n",
       "      <th>1</th>\n",
       "      <td>1610612738</td>\n",
       "      <td>0</td>\n",
       "      <td>1946</td>\n",
       "      <td>2019</td>\n",
       "      <td>BOS</td>\n",
       "      <td>Celtics</td>\n",
       "      <td>Boston</td>\n",
       "      <td>TD Garden</td>\n",
       "      <td>18624.0</td>\n",
       "      <td>Wyc Grousbeck</td>\n",
       "      <td>Danny Ainge</td>\n",
       "      <td>Brad Stevens</td>\n",
       "      <td>Maine Red Claws</td>\n",
       "    </tr>\n",
       "    <tr>\n",
       "      <th>2</th>\n",
       "      <td>1610612740</td>\n",
       "      <td>0</td>\n",
       "      <td>2002</td>\n",
       "      <td>2019</td>\n",
       "      <td>NOP</td>\n",
       "      <td>Pelicans</td>\n",
       "      <td>New Orleans</td>\n",
       "      <td>Smoothie King Center</td>\n",
       "      <td>NaN</td>\n",
       "      <td>Tom Benson</td>\n",
       "      <td>Trajan Langdon</td>\n",
       "      <td>Alvin Gentry</td>\n",
       "      <td>No Affiliate</td>\n",
       "    </tr>\n",
       "    <tr>\n",
       "      <th>3</th>\n",
       "      <td>1610612741</td>\n",
       "      <td>0</td>\n",
       "      <td>1966</td>\n",
       "      <td>2019</td>\n",
       "      <td>CHI</td>\n",
       "      <td>Bulls</td>\n",
       "      <td>Chicago</td>\n",
       "      <td>United Center</td>\n",
       "      <td>21711.0</td>\n",
       "      <td>Jerry Reinsdorf</td>\n",
       "      <td>Gar Forman</td>\n",
       "      <td>Jim Boylen</td>\n",
       "      <td>Windy City Bulls</td>\n",
       "    </tr>\n",
       "    <tr>\n",
       "      <th>4</th>\n",
       "      <td>1610612742</td>\n",
       "      <td>0</td>\n",
       "      <td>1980</td>\n",
       "      <td>2019</td>\n",
       "      <td>DAL</td>\n",
       "      <td>Mavericks</td>\n",
       "      <td>Dallas</td>\n",
       "      <td>American Airlines Center</td>\n",
       "      <td>19200.0</td>\n",
       "      <td>Mark Cuban</td>\n",
       "      <td>Donnie Nelson</td>\n",
       "      <td>Rick Carlisle</td>\n",
       "      <td>Texas Legends</td>\n",
       "    </tr>\n",
       "  </tbody>\n",
       "</table>\n",
       "</div>"
      ],
      "text/plain": [
       "      TEAM_ID  LEAGUE_ID  MIN_YEAR  MAX_YEAR ABBREVIATION   NICKNAME  \\\n",
       "0  1610612737          0      1949      2019          ATL      Hawks   \n",
       "1  1610612738          0      1946      2019          BOS    Celtics   \n",
       "2  1610612740          0      2002      2019          NOP   Pelicans   \n",
       "3  1610612741          0      1966      2019          CHI      Bulls   \n",
       "4  1610612742          0      1980      2019          DAL  Mavericks   \n",
       "\n",
       "          CITY                     ARENA  ARENACAPACITY            OWNER  \\\n",
       "0      Atlanta          State Farm Arena        18729.0     Tony Ressler   \n",
       "1       Boston                 TD Garden        18624.0    Wyc Grousbeck   \n",
       "2  New Orleans      Smoothie King Center            NaN       Tom Benson   \n",
       "3      Chicago             United Center        21711.0  Jerry Reinsdorf   \n",
       "4       Dallas  American Airlines Center        19200.0       Mark Cuban   \n",
       "\n",
       "   GENERALMANAGER      HEADCOACH DLEAGUEAFFILIATION  \n",
       "0  Travis Schlenk   Lloyd Pierce      Erie Bayhawks  \n",
       "1     Danny Ainge   Brad Stevens    Maine Red Claws  \n",
       "2  Trajan Langdon   Alvin Gentry       No Affiliate  \n",
       "3      Gar Forman     Jim Boylen   Windy City Bulls  \n",
       "4   Donnie Nelson  Rick Carlisle      Texas Legends  "
      ]
     },
     "execution_count": 830,
     "metadata": {},
     "output_type": "execute_result"
    }
   ],
   "source": [
    "#creating an arenas table from the teams table\n",
    "cols = ['TEAM_ID','LEAGUE_ID'] + list(teams.columns)[2:]\n",
    "teams = teams.reindex(columns=cols)\n",
    "\n",
    "teams = teams.drop(columns=['YEARFOUNDED'])\n",
    "\n",
    "teams.head()"
   ]
  },
  {
   "cell_type": "code",
   "execution_count": 831,
   "id": "a55223aa",
   "metadata": {},
   "outputs": [
    {
     "data": {
      "text/html": [
       "<div>\n",
       "<style scoped>\n",
       "    .dataframe tbody tr th:only-of-type {\n",
       "        vertical-align: middle;\n",
       "    }\n",
       "\n",
       "    .dataframe tbody tr th {\n",
       "        vertical-align: top;\n",
       "    }\n",
       "\n",
       "    .dataframe thead th {\n",
       "        text-align: right;\n",
       "    }\n",
       "</style>\n",
       "<table border=\"1\" class=\"dataframe\">\n",
       "  <thead>\n",
       "    <tr style=\"text-align: right;\">\n",
       "      <th></th>\n",
       "      <th>team_id</th>\n",
       "      <th>league_id</th>\n",
       "      <th>min_year</th>\n",
       "      <th>max_year</th>\n",
       "      <th>abbreviation</th>\n",
       "      <th>nickname</th>\n",
       "      <th>city</th>\n",
       "      <th>arena</th>\n",
       "      <th>arena_capacity</th>\n",
       "      <th>owner</th>\n",
       "      <th>generalmanager</th>\n",
       "      <th>headcoach</th>\n",
       "      <th>d_league_affiliation</th>\n",
       "    </tr>\n",
       "  </thead>\n",
       "  <tbody>\n",
       "    <tr>\n",
       "      <th>0</th>\n",
       "      <td>1610612737</td>\n",
       "      <td>0</td>\n",
       "      <td>1949</td>\n",
       "      <td>2019</td>\n",
       "      <td>ATL</td>\n",
       "      <td>Hawks</td>\n",
       "      <td>Atlanta</td>\n",
       "      <td>State Farm Arena</td>\n",
       "      <td>18729.0</td>\n",
       "      <td>Tony Ressler</td>\n",
       "      <td>Travis Schlenk</td>\n",
       "      <td>Lloyd Pierce</td>\n",
       "      <td>Erie Bayhawks</td>\n",
       "    </tr>\n",
       "    <tr>\n",
       "      <th>1</th>\n",
       "      <td>1610612738</td>\n",
       "      <td>0</td>\n",
       "      <td>1946</td>\n",
       "      <td>2019</td>\n",
       "      <td>BOS</td>\n",
       "      <td>Celtics</td>\n",
       "      <td>Boston</td>\n",
       "      <td>TD Garden</td>\n",
       "      <td>18624.0</td>\n",
       "      <td>Wyc Grousbeck</td>\n",
       "      <td>Danny Ainge</td>\n",
       "      <td>Brad Stevens</td>\n",
       "      <td>Maine Red Claws</td>\n",
       "    </tr>\n",
       "    <tr>\n",
       "      <th>2</th>\n",
       "      <td>1610612740</td>\n",
       "      <td>0</td>\n",
       "      <td>2002</td>\n",
       "      <td>2019</td>\n",
       "      <td>NOP</td>\n",
       "      <td>Pelicans</td>\n",
       "      <td>New Orleans</td>\n",
       "      <td>Smoothie King Center</td>\n",
       "      <td>NaN</td>\n",
       "      <td>Tom Benson</td>\n",
       "      <td>Trajan Langdon</td>\n",
       "      <td>Alvin Gentry</td>\n",
       "      <td>No Affiliate</td>\n",
       "    </tr>\n",
       "    <tr>\n",
       "      <th>3</th>\n",
       "      <td>1610612741</td>\n",
       "      <td>0</td>\n",
       "      <td>1966</td>\n",
       "      <td>2019</td>\n",
       "      <td>CHI</td>\n",
       "      <td>Bulls</td>\n",
       "      <td>Chicago</td>\n",
       "      <td>United Center</td>\n",
       "      <td>21711.0</td>\n",
       "      <td>Jerry Reinsdorf</td>\n",
       "      <td>Gar Forman</td>\n",
       "      <td>Jim Boylen</td>\n",
       "      <td>Windy City Bulls</td>\n",
       "    </tr>\n",
       "    <tr>\n",
       "      <th>4</th>\n",
       "      <td>1610612742</td>\n",
       "      <td>0</td>\n",
       "      <td>1980</td>\n",
       "      <td>2019</td>\n",
       "      <td>DAL</td>\n",
       "      <td>Mavericks</td>\n",
       "      <td>Dallas</td>\n",
       "      <td>American Airlines Center</td>\n",
       "      <td>19200.0</td>\n",
       "      <td>Mark Cuban</td>\n",
       "      <td>Donnie Nelson</td>\n",
       "      <td>Rick Carlisle</td>\n",
       "      <td>Texas Legends</td>\n",
       "    </tr>\n",
       "  </tbody>\n",
       "</table>\n",
       "</div>"
      ],
      "text/plain": [
       "      team_id  league_id  min_year  max_year abbreviation   nickname  \\\n",
       "0  1610612737          0      1949      2019          ATL      Hawks   \n",
       "1  1610612738          0      1946      2019          BOS    Celtics   \n",
       "2  1610612740          0      2002      2019          NOP   Pelicans   \n",
       "3  1610612741          0      1966      2019          CHI      Bulls   \n",
       "4  1610612742          0      1980      2019          DAL  Mavericks   \n",
       "\n",
       "          city                     arena  arena_capacity            owner  \\\n",
       "0      Atlanta          State Farm Arena         18729.0     Tony Ressler   \n",
       "1       Boston                 TD Garden         18624.0    Wyc Grousbeck   \n",
       "2  New Orleans      Smoothie King Center             NaN       Tom Benson   \n",
       "3      Chicago             United Center         21711.0  Jerry Reinsdorf   \n",
       "4       Dallas  American Airlines Center         19200.0       Mark Cuban   \n",
       "\n",
       "   generalmanager      headcoach d_league_affiliation  \n",
       "0  Travis Schlenk   Lloyd Pierce        Erie Bayhawks  \n",
       "1     Danny Ainge   Brad Stevens      Maine Red Claws  \n",
       "2  Trajan Langdon   Alvin Gentry         No Affiliate  \n",
       "3      Gar Forman     Jim Boylen     Windy City Bulls  \n",
       "4   Donnie Nelson  Rick Carlisle        Texas Legends  "
      ]
     },
     "execution_count": 831,
     "metadata": {},
     "output_type": "execute_result"
    }
   ],
   "source": [
    "teams = teams.rename(columns={'TEAM_ID': 'team_id',\n",
    "                      'LEAGUE_ID': 'league_id',\n",
    "                      'MIN_YEAR': 'min_year',\n",
    "                      'MAX_YEAR': 'max_year',\n",
    "                      'ABBREVIATION': 'abbreviation',\n",
    "                      'NICKNAME': 'nickname',\n",
    "                      'CITY': 'city',\n",
    "                      'ARENA': 'arena',\n",
    "                      'ARENACAPACITY': 'arena_capacity',\n",
    "                      'OWNER': 'owner',\n",
    "                      'GENERALMANAGER': 'generalmanager',\n",
    "                      'HEADCOACH': 'headcoach',\n",
    "                      'DLEAGUEAFFILIATION': 'd_league_affiliation'})\n",
    "teams.head()"
   ]
  },
  {
   "cell_type": "markdown",
   "id": "481f5e14",
   "metadata": {},
   "source": [
    "When creating our team data table, we want to use the Team_ID as our primary key."
   ]
  },
  {
   "cell_type": "code",
   "execution_count": null,
   "id": "96c2017a",
   "metadata": {},
   "outputs": [],
   "source": []
  },
  {
   "cell_type": "markdown",
   "id": "77c5acfb",
   "metadata": {},
   "source": [
    "### 2: Refactoring the Players CSV\n",
    "\n",
    "A look at the next, file, the players csv containing player information:"
   ]
  },
  {
   "cell_type": "code",
   "execution_count": 832,
   "id": "8c6b7041",
   "metadata": {},
   "outputs": [
    {
     "data": {
      "text/html": [
       "<div>\n",
       "<style scoped>\n",
       "    .dataframe tbody tr th:only-of-type {\n",
       "        vertical-align: middle;\n",
       "    }\n",
       "\n",
       "    .dataframe tbody tr th {\n",
       "        vertical-align: top;\n",
       "    }\n",
       "\n",
       "    .dataframe thead th {\n",
       "        text-align: right;\n",
       "    }\n",
       "</style>\n",
       "<table border=\"1\" class=\"dataframe\">\n",
       "  <thead>\n",
       "    <tr style=\"text-align: right;\">\n",
       "      <th></th>\n",
       "      <th>PLAYER_NAME</th>\n",
       "      <th>TEAM_ID</th>\n",
       "      <th>PLAYER_ID</th>\n",
       "      <th>SEASON</th>\n",
       "    </tr>\n",
       "  </thead>\n",
       "  <tbody>\n",
       "    <tr>\n",
       "      <th>6011</th>\n",
       "      <td>Jason Kidd</td>\n",
       "      <td>1610612742</td>\n",
       "      <td>467</td>\n",
       "      <td>2010</td>\n",
       "    </tr>\n",
       "    <tr>\n",
       "      <th>4716</th>\n",
       "      <td>CJ Leslie</td>\n",
       "      <td>1610612752</td>\n",
       "      <td>203466</td>\n",
       "      <td>2013</td>\n",
       "    </tr>\n",
       "    <tr>\n",
       "      <th>2320</th>\n",
       "      <td>Andrew Wiggins</td>\n",
       "      <td>1610612750</td>\n",
       "      <td>203952</td>\n",
       "      <td>2016</td>\n",
       "    </tr>\n",
       "    <tr>\n",
       "      <th>2057</th>\n",
       "      <td>Amida Brimah</td>\n",
       "      <td>1610612759</td>\n",
       "      <td>1628578</td>\n",
       "      <td>2017</td>\n",
       "    </tr>\n",
       "    <tr>\n",
       "      <th>1568</th>\n",
       "      <td>Dejounte Murray</td>\n",
       "      <td>1610612759</td>\n",
       "      <td>1627749</td>\n",
       "      <td>2017</td>\n",
       "    </tr>\n",
       "  </tbody>\n",
       "</table>\n",
       "</div>"
      ],
      "text/plain": [
       "          PLAYER_NAME     TEAM_ID  PLAYER_ID  SEASON\n",
       "6011       Jason Kidd  1610612742        467    2010\n",
       "4716        CJ Leslie  1610612752     203466    2013\n",
       "2320   Andrew Wiggins  1610612750     203952    2016\n",
       "2057     Amida Brimah  1610612759    1628578    2017\n",
       "1568  Dejounte Murray  1610612759    1627749    2017"
      ]
     },
     "execution_count": 832,
     "metadata": {},
     "output_type": "execute_result"
    }
   ],
   "source": [
    "players = pd.read_csv(datasets[1])\n",
    "players.sample(5)"
   ]
  },
  {
   "cell_type": "code",
   "execution_count": 833,
   "id": "4a6dfc92",
   "metadata": {},
   "outputs": [
    {
     "data": {
      "text/plain": [
       "PLAYER_NAME    object\n",
       "TEAM_ID         int64\n",
       "PLAYER_ID       int64\n",
       "SEASON          int64\n",
       "dtype: object"
      ]
     },
     "execution_count": 833,
     "metadata": {},
     "output_type": "execute_result"
    }
   ],
   "source": [
    "players.dtypes"
   ]
  },
  {
   "cell_type": "markdown",
   "id": "c68e3eb3",
   "metadata": {
    "scrolled": false
   },
   "source": [
    "**MISSING DATA**"
   ]
  },
  {
   "cell_type": "code",
   "execution_count": 834,
   "id": "a433b22d",
   "metadata": {},
   "outputs": [
    {
     "data": {
      "text/plain": [
       "PLAYER_NAME    0\n",
       "TEAM_ID        0\n",
       "PLAYER_ID      0\n",
       "SEASON         0\n",
       "dtype: int64"
      ]
     },
     "execution_count": 834,
     "metadata": {},
     "output_type": "execute_result"
    }
   ],
   "source": [
    "players.isna().sum()"
   ]
  },
  {
   "cell_type": "markdown",
   "id": "0d6b154a",
   "metadata": {
    "scrolled": false
   },
   "source": [
    "**CONSISTENCY CHECK**"
   ]
  },
  {
   "cell_type": "markdown",
   "id": "fe3ce2eb",
   "metadata": {},
   "source": [
    "Check to see if the team id's and id's in the players columns match"
   ]
  },
  {
   "cell_type": "code",
   "execution_count": 835,
   "id": "5bb0108d",
   "metadata": {},
   "outputs": [],
   "source": [
    "assert(sorted(players[\"TEAM_ID\"].unique()) == sorted(teams[\"team_id\"].unique()))"
   ]
  },
  {
   "cell_type": "code",
   "execution_count": 836,
   "id": "b58ba0b9",
   "metadata": {},
   "outputs": [
    {
     "data": {
      "text/plain": [
       "0"
      ]
     },
     "execution_count": 836,
     "metadata": {},
     "output_type": "execute_result"
    }
   ],
   "source": [
    "players.duplicated().sum()"
   ]
  },
  {
   "cell_type": "markdown",
   "id": "5c7685e7",
   "metadata": {
    "scrolled": false
   },
   "source": [
    "**FINAL SORT**"
   ]
  },
  {
   "cell_type": "markdown",
   "id": "0d768683",
   "metadata": {},
   "source": [
    "The data in the players csv file seems just fine and not in need of cleaning. We can break the current players table two tables for players and team_players. Team players links players to teams and seasons. We will use the Player_ID as primary key in the player table. \n",
    "\n",
    "In team_players, we use the Player_ID and TEAM_ID to reference the Teams and Players tables."
   ]
  },
  {
   "cell_type": "code",
   "execution_count": 837,
   "id": "78c618f3",
   "metadata": {
    "scrolled": true
   },
   "outputs": [
    {
     "name": "stdout",
     "output_type": "stream",
     "text": [
      "We have 1769 unique players\n"
     ]
    }
   ],
   "source": [
    "print(f'We have {players.PLAYER_ID.nunique()} unique players')"
   ]
  },
  {
   "cell_type": "code",
   "execution_count": 838,
   "id": "158317fe",
   "metadata": {},
   "outputs": [
    {
     "data": {
      "text/html": [
       "<div>\n",
       "<style scoped>\n",
       "    .dataframe tbody tr th:only-of-type {\n",
       "        vertical-align: middle;\n",
       "    }\n",
       "\n",
       "    .dataframe tbody tr th {\n",
       "        vertical-align: top;\n",
       "    }\n",
       "\n",
       "    .dataframe thead th {\n",
       "        text-align: right;\n",
       "    }\n",
       "</style>\n",
       "<table border=\"1\" class=\"dataframe\">\n",
       "  <thead>\n",
       "    <tr style=\"text-align: right;\">\n",
       "      <th></th>\n",
       "      <th>PLAYER_ID</th>\n",
       "      <th>TEAM_ID</th>\n",
       "      <th>PLAYER_NAME</th>\n",
       "      <th>SEASON</th>\n",
       "    </tr>\n",
       "  </thead>\n",
       "  <tbody>\n",
       "    <tr>\n",
       "      <th>1278</th>\n",
       "      <td>203130</td>\n",
       "      <td>1610612750</td>\n",
       "      <td>Darius Johnson-Odom</td>\n",
       "      <td>2018</td>\n",
       "    </tr>\n",
       "    <tr>\n",
       "      <th>3942</th>\n",
       "      <td>202390</td>\n",
       "      <td>1610612766</td>\n",
       "      <td>Gary Neal</td>\n",
       "      <td>2014</td>\n",
       "    </tr>\n",
       "    <tr>\n",
       "      <th>4218</th>\n",
       "      <td>200746</td>\n",
       "      <td>1610612757</td>\n",
       "      <td>LaMarcus Aldridge</td>\n",
       "      <td>2013</td>\n",
       "    </tr>\n",
       "    <tr>\n",
       "      <th>2154</th>\n",
       "      <td>203078</td>\n",
       "      <td>1610612764</td>\n",
       "      <td>Bradley Beal</td>\n",
       "      <td>2016</td>\n",
       "    </tr>\n",
       "    <tr>\n",
       "      <th>5944</th>\n",
       "      <td>202081</td>\n",
       "      <td>1610612756</td>\n",
       "      <td>Garret Siler</td>\n",
       "      <td>2011</td>\n",
       "    </tr>\n",
       "  </tbody>\n",
       "</table>\n",
       "</div>"
      ],
      "text/plain": [
       "      PLAYER_ID     TEAM_ID          PLAYER_NAME  SEASON\n",
       "1278     203130  1610612750  Darius Johnson-Odom    2018\n",
       "3942     202390  1610612766            Gary Neal    2014\n",
       "4218     200746  1610612757    LaMarcus Aldridge    2013\n",
       "2154     203078  1610612764         Bradley Beal    2016\n",
       "5944     202081  1610612756         Garret Siler    2011"
      ]
     },
     "execution_count": 838,
     "metadata": {},
     "output_type": "execute_result"
    }
   ],
   "source": [
    "cols = ['PLAYER_ID','TEAM_ID','PLAYER_NAME','SEASON']\n",
    "\n",
    "players = players.reindex(columns=cols)\n",
    "players.sample(5)"
   ]
  },
  {
   "cell_type": "code",
   "execution_count": 839,
   "id": "3fb8e63e",
   "metadata": {},
   "outputs": [
    {
     "data": {
      "text/html": [
       "<div>\n",
       "<style scoped>\n",
       "    .dataframe tbody tr th:only-of-type {\n",
       "        vertical-align: middle;\n",
       "    }\n",
       "\n",
       "    .dataframe tbody tr th {\n",
       "        vertical-align: top;\n",
       "    }\n",
       "\n",
       "    .dataframe thead th {\n",
       "        text-align: right;\n",
       "    }\n",
       "</style>\n",
       "<table border=\"1\" class=\"dataframe\">\n",
       "  <thead>\n",
       "    <tr style=\"text-align: right;\">\n",
       "      <th></th>\n",
       "      <th>player_id</th>\n",
       "      <th>team_id</th>\n",
       "      <th>player_name</th>\n",
       "      <th>season</th>\n",
       "    </tr>\n",
       "  </thead>\n",
       "  <tbody>\n",
       "    <tr>\n",
       "      <th>0</th>\n",
       "      <td>1626220</td>\n",
       "      <td>1610612762</td>\n",
       "      <td>Royce O'Neale</td>\n",
       "      <td>2019</td>\n",
       "    </tr>\n",
       "    <tr>\n",
       "      <th>1</th>\n",
       "      <td>202711</td>\n",
       "      <td>1610612762</td>\n",
       "      <td>Bojan Bogdanovic</td>\n",
       "      <td>2019</td>\n",
       "    </tr>\n",
       "    <tr>\n",
       "      <th>2</th>\n",
       "      <td>203497</td>\n",
       "      <td>1610612762</td>\n",
       "      <td>Rudy Gobert</td>\n",
       "      <td>2019</td>\n",
       "    </tr>\n",
       "    <tr>\n",
       "      <th>3</th>\n",
       "      <td>1628378</td>\n",
       "      <td>1610612762</td>\n",
       "      <td>Donovan Mitchell</td>\n",
       "      <td>2019</td>\n",
       "    </tr>\n",
       "    <tr>\n",
       "      <th>4</th>\n",
       "      <td>201144</td>\n",
       "      <td>1610612762</td>\n",
       "      <td>Mike Conley</td>\n",
       "      <td>2019</td>\n",
       "    </tr>\n",
       "  </tbody>\n",
       "</table>\n",
       "</div>"
      ],
      "text/plain": [
       "   player_id     team_id       player_name  season\n",
       "0    1626220  1610612762     Royce O'Neale    2019\n",
       "1     202711  1610612762  Bojan Bogdanovic    2019\n",
       "2     203497  1610612762       Rudy Gobert    2019\n",
       "3    1628378  1610612762  Donovan Mitchell    2019\n",
       "4     201144  1610612762       Mike Conley    2019"
      ]
     },
     "execution_count": 839,
     "metadata": {},
     "output_type": "execute_result"
    }
   ],
   "source": [
    "players = players.rename(columns={'PLAYER_ID': 'player_id',\n",
    "                                  'PLAYER_NAME':'player_name',\n",
    "                                  'TEAM_ID': 'team_id',\n",
    "                                  'SEASON': 'season'})\n",
    "players.head()"
   ]
  },
  {
   "cell_type": "code",
   "execution_count": 840,
   "id": "e34816b9",
   "metadata": {},
   "outputs": [
    {
     "data": {
      "text/html": [
       "<div>\n",
       "<style scoped>\n",
       "    .dataframe tbody tr th:only-of-type {\n",
       "        vertical-align: middle;\n",
       "    }\n",
       "\n",
       "    .dataframe tbody tr th {\n",
       "        vertical-align: top;\n",
       "    }\n",
       "\n",
       "    .dataframe thead th {\n",
       "        text-align: right;\n",
       "    }\n",
       "</style>\n",
       "<table border=\"1\" class=\"dataframe\">\n",
       "  <thead>\n",
       "    <tr style=\"text-align: right;\">\n",
       "      <th></th>\n",
       "      <th>player_id</th>\n",
       "      <th>team_id</th>\n",
       "      <th>season</th>\n",
       "    </tr>\n",
       "  </thead>\n",
       "  <tbody>\n",
       "    <tr>\n",
       "      <th>0</th>\n",
       "      <td>1626220</td>\n",
       "      <td>1610612762</td>\n",
       "      <td>2019</td>\n",
       "    </tr>\n",
       "    <tr>\n",
       "      <th>1</th>\n",
       "      <td>202711</td>\n",
       "      <td>1610612762</td>\n",
       "      <td>2019</td>\n",
       "    </tr>\n",
       "    <tr>\n",
       "      <th>2</th>\n",
       "      <td>203497</td>\n",
       "      <td>1610612762</td>\n",
       "      <td>2019</td>\n",
       "    </tr>\n",
       "    <tr>\n",
       "      <th>3</th>\n",
       "      <td>1628378</td>\n",
       "      <td>1610612762</td>\n",
       "      <td>2019</td>\n",
       "    </tr>\n",
       "    <tr>\n",
       "      <th>4</th>\n",
       "      <td>201144</td>\n",
       "      <td>1610612762</td>\n",
       "      <td>2019</td>\n",
       "    </tr>\n",
       "  </tbody>\n",
       "</table>\n",
       "</div>"
      ],
      "text/plain": [
       "   player_id     team_id  season\n",
       "0    1626220  1610612762    2019\n",
       "1     202711  1610612762    2019\n",
       "2     203497  1610612762    2019\n",
       "3    1628378  1610612762    2019\n",
       "4     201144  1610612762    2019"
      ]
     },
     "execution_count": 840,
     "metadata": {},
     "output_type": "execute_result"
    }
   ],
   "source": [
    "team_players = players.drop(columns=['player_name'])\n",
    "team_players.head()"
   ]
  },
  {
   "cell_type": "code",
   "execution_count": 841,
   "id": "4e06c3e2",
   "metadata": {},
   "outputs": [
    {
     "data": {
      "text/html": [
       "<div>\n",
       "<style scoped>\n",
       "    .dataframe tbody tr th:only-of-type {\n",
       "        vertical-align: middle;\n",
       "    }\n",
       "\n",
       "    .dataframe tbody tr th {\n",
       "        vertical-align: top;\n",
       "    }\n",
       "\n",
       "    .dataframe thead th {\n",
       "        text-align: right;\n",
       "    }\n",
       "</style>\n",
       "<table border=\"1\" class=\"dataframe\">\n",
       "  <thead>\n",
       "    <tr style=\"text-align: right;\">\n",
       "      <th></th>\n",
       "      <th>player_id</th>\n",
       "      <th>player_name</th>\n",
       "    </tr>\n",
       "  </thead>\n",
       "  <tbody>\n",
       "    <tr>\n",
       "      <th>0</th>\n",
       "      <td>1626220</td>\n",
       "      <td>Royce O'Neale</td>\n",
       "    </tr>\n",
       "    <tr>\n",
       "      <th>1</th>\n",
       "      <td>202711</td>\n",
       "      <td>Bojan Bogdanovic</td>\n",
       "    </tr>\n",
       "    <tr>\n",
       "      <th>2</th>\n",
       "      <td>203497</td>\n",
       "      <td>Rudy Gobert</td>\n",
       "    </tr>\n",
       "    <tr>\n",
       "      <th>3</th>\n",
       "      <td>1628378</td>\n",
       "      <td>Donovan Mitchell</td>\n",
       "    </tr>\n",
       "    <tr>\n",
       "      <th>4</th>\n",
       "      <td>201144</td>\n",
       "      <td>Mike Conley</td>\n",
       "    </tr>\n",
       "  </tbody>\n",
       "</table>\n",
       "</div>"
      ],
      "text/plain": [
       "   player_id       player_name\n",
       "0    1626220     Royce O'Neale\n",
       "1     202711  Bojan Bogdanovic\n",
       "2     203497       Rudy Gobert\n",
       "3    1628378  Donovan Mitchell\n",
       "4     201144       Mike Conley"
      ]
     },
     "execution_count": 841,
     "metadata": {},
     "output_type": "execute_result"
    }
   ],
   "source": [
    "players = players.drop(columns=['season','team_id'])\n",
    "players.drop_duplicates(inplace=True)\n",
    "players.head()"
   ]
  },
  {
   "cell_type": "code",
   "execution_count": null,
   "id": "c5b60433",
   "metadata": {
    "scrolled": true
   },
   "outputs": [],
   "source": []
  },
  {
   "cell_type": "code",
   "execution_count": null,
   "id": "bba47efe",
   "metadata": {},
   "outputs": [],
   "source": []
  },
  {
   "cell_type": "markdown",
   "id": "33dba631",
   "metadata": {},
   "source": [
    "### 3: Refactoring the Rankings CSV\n",
    "\n",
    "A look at the third file, rankings csv"
   ]
  },
  {
   "cell_type": "code",
   "execution_count": 842,
   "id": "7ad2737d",
   "metadata": {},
   "outputs": [
    {
     "data": {
      "text/html": [
       "<div>\n",
       "<style scoped>\n",
       "    .dataframe tbody tr th:only-of-type {\n",
       "        vertical-align: middle;\n",
       "    }\n",
       "\n",
       "    .dataframe tbody tr th {\n",
       "        vertical-align: top;\n",
       "    }\n",
       "\n",
       "    .dataframe thead th {\n",
       "        text-align: right;\n",
       "    }\n",
       "</style>\n",
       "<table border=\"1\" class=\"dataframe\">\n",
       "  <thead>\n",
       "    <tr style=\"text-align: right;\">\n",
       "      <th></th>\n",
       "      <th>TEAM_ID</th>\n",
       "      <th>LEAGUE_ID</th>\n",
       "      <th>SEASON_ID</th>\n",
       "      <th>STANDINGSDATE</th>\n",
       "      <th>CONFERENCE</th>\n",
       "      <th>TEAM</th>\n",
       "      <th>G</th>\n",
       "      <th>W</th>\n",
       "      <th>L</th>\n",
       "      <th>W_PCT</th>\n",
       "      <th>HOME_RECORD</th>\n",
       "      <th>ROAD_RECORD</th>\n",
       "      <th>RETURNTOPLAY</th>\n",
       "    </tr>\n",
       "  </thead>\n",
       "  <tbody>\n",
       "    <tr>\n",
       "      <th>32085</th>\n",
       "      <td>1610612759</td>\n",
       "      <td>0</td>\n",
       "      <td>22010</td>\n",
       "      <td>2010-12-01</td>\n",
       "      <td>West</td>\n",
       "      <td>San Antonio</td>\n",
       "      <td>18</td>\n",
       "      <td>15</td>\n",
       "      <td>3</td>\n",
       "      <td>0.833</td>\n",
       "      <td>7-2</td>\n",
       "      <td>8-1</td>\n",
       "      <td>NaN</td>\n",
       "    </tr>\n",
       "    <tr>\n",
       "      <th>69044</th>\n",
       "      <td>1610612744</td>\n",
       "      <td>0</td>\n",
       "      <td>22003</td>\n",
       "      <td>2004-02-17</td>\n",
       "      <td>West</td>\n",
       "      <td>Golden State</td>\n",
       "      <td>51</td>\n",
       "      <td>23</td>\n",
       "      <td>28</td>\n",
       "      <td>0.451</td>\n",
       "      <td>17-8</td>\n",
       "      <td>6-20</td>\n",
       "      <td>NaN</td>\n",
       "    </tr>\n",
       "  </tbody>\n",
       "</table>\n",
       "</div>"
      ],
      "text/plain": [
       "          TEAM_ID  LEAGUE_ID  SEASON_ID STANDINGSDATE CONFERENCE  \\\n",
       "32085  1610612759          0      22010    2010-12-01       West   \n",
       "69044  1610612744          0      22003    2004-02-17       West   \n",
       "\n",
       "               TEAM   G   W   L  W_PCT HOME_RECORD ROAD_RECORD  RETURNTOPLAY  \n",
       "32085   San Antonio  18  15   3  0.833         7-2         8-1           NaN  \n",
       "69044  Golden State  51  23  28  0.451        17-8        6-20           NaN  "
      ]
     },
     "execution_count": 842,
     "metadata": {},
     "output_type": "execute_result"
    }
   ],
   "source": [
    "ranking = pd.read_csv(datasets[3])\n",
    "ranking.sample(2)"
   ]
  },
  {
   "cell_type": "code",
   "execution_count": 843,
   "id": "27b94a09",
   "metadata": {},
   "outputs": [
    {
     "data": {
      "text/plain": [
       "TEAM_ID            int64\n",
       "LEAGUE_ID          int64\n",
       "SEASON_ID          int64\n",
       "STANDINGSDATE     object\n",
       "CONFERENCE        object\n",
       "TEAM              object\n",
       "G                  int64\n",
       "W                  int64\n",
       "L                  int64\n",
       "W_PCT            float64\n",
       "HOME_RECORD       object\n",
       "ROAD_RECORD       object\n",
       "RETURNTOPLAY     float64\n",
       "dtype: object"
      ]
     },
     "execution_count": 843,
     "metadata": {},
     "output_type": "execute_result"
    }
   ],
   "source": [
    "ranking.dtypes"
   ]
  },
  {
   "cell_type": "markdown",
   "id": "e3f9b6c3",
   "metadata": {},
   "source": [
    "Checking for unique dates and season ids"
   ]
  },
  {
   "cell_type": "code",
   "execution_count": 844,
   "id": "1a48dde0",
   "metadata": {},
   "outputs": [
    {
     "data": {
      "text/plain": [
       "(6292,)"
      ]
     },
     "execution_count": 844,
     "metadata": {},
     "output_type": "execute_result"
    }
   ],
   "source": [
    "ranking.STANDINGSDATE.unique().shape"
   ]
  },
  {
   "cell_type": "code",
   "execution_count": 845,
   "id": "3530d92c",
   "metadata": {},
   "outputs": [
    {
     "name": "stdout",
     "output_type": "stream",
     "text": [
      "[12003, 12004, 12005, 12006, 12007, 12008, 12009, 12010, 12011, 12012, 12013, 12014, 12015, 12016, 12017, 12018, 12019, 12020, 22002, 22003, 22004, 22005, 22006, 22007, 22008, 22009, 22010, 22011, 22012, 22013, 22014, 22015, 22016, 22017, 22018, 22019]\n"
     ]
    }
   ],
   "source": [
    "print(sorted(ranking['SEASON_ID'].unique()))"
   ]
  },
  {
   "cell_type": "markdown",
   "id": "0d8d2495",
   "metadata": {
    "scrolled": false
   },
   "source": [
    "**MISSING DATA**"
   ]
  },
  {
   "cell_type": "code",
   "execution_count": 846,
   "id": "e50e0bfa",
   "metadata": {},
   "outputs": [
    {
     "data": {
      "text/plain": [
       "TEAM_ID               0\n",
       "LEAGUE_ID             0\n",
       "SEASON_ID             0\n",
       "STANDINGSDATE         0\n",
       "CONFERENCE            0\n",
       "TEAM                  0\n",
       "G                     0\n",
       "W                     0\n",
       "L                     0\n",
       "W_PCT                 0\n",
       "HOME_RECORD           0\n",
       "ROAD_RECORD           0\n",
       "RETURNTOPLAY     184393\n",
       "dtype: int64"
      ]
     },
     "execution_count": 846,
     "metadata": {},
     "output_type": "execute_result"
    }
   ],
   "source": [
    "ranking.isna().sum()"
   ]
  },
  {
   "cell_type": "markdown",
   "id": "e75409c5",
   "metadata": {},
   "source": [
    "Note: some missing values in the RETURNTOPLAY column we will have to deal with. Lets take a look."
   ]
  },
  {
   "cell_type": "code",
   "execution_count": 847,
   "id": "f3eea3ba",
   "metadata": {},
   "outputs": [
    {
     "data": {
      "text/html": [
       "<div>\n",
       "<style scoped>\n",
       "    .dataframe tbody tr th:only-of-type {\n",
       "        vertical-align: middle;\n",
       "    }\n",
       "\n",
       "    .dataframe tbody tr th {\n",
       "        vertical-align: top;\n",
       "    }\n",
       "\n",
       "    .dataframe thead th {\n",
       "        text-align: right;\n",
       "    }\n",
       "</style>\n",
       "<table border=\"1\" class=\"dataframe\">\n",
       "  <thead>\n",
       "    <tr style=\"text-align: right;\">\n",
       "      <th></th>\n",
       "      <th>TEAM_ID</th>\n",
       "      <th>LEAGUE_ID</th>\n",
       "      <th>SEASON_ID</th>\n",
       "      <th>STANDINGSDATE</th>\n",
       "      <th>CONFERENCE</th>\n",
       "      <th>TEAM</th>\n",
       "      <th>G</th>\n",
       "      <th>W</th>\n",
       "      <th>L</th>\n",
       "      <th>W_PCT</th>\n",
       "      <th>HOME_RECORD</th>\n",
       "      <th>ROAD_RECORD</th>\n",
       "      <th>RETURNTOPLAY</th>\n",
       "    </tr>\n",
       "  </thead>\n",
       "  <tbody>\n",
       "    <tr>\n",
       "      <th>0</th>\n",
       "      <td>1610612747</td>\n",
       "      <td>0</td>\n",
       "      <td>12020</td>\n",
       "      <td>2020-12-21</td>\n",
       "      <td>West</td>\n",
       "      <td>L.A. Lakers</td>\n",
       "      <td>4</td>\n",
       "      <td>4</td>\n",
       "      <td>0</td>\n",
       "      <td>1.00</td>\n",
       "      <td>2-0</td>\n",
       "      <td>2-0</td>\n",
       "      <td>NaN</td>\n",
       "    </tr>\n",
       "    <tr>\n",
       "      <th>1</th>\n",
       "      <td>1610612762</td>\n",
       "      <td>0</td>\n",
       "      <td>12020</td>\n",
       "      <td>2020-12-21</td>\n",
       "      <td>West</td>\n",
       "      <td>Utah</td>\n",
       "      <td>3</td>\n",
       "      <td>3</td>\n",
       "      <td>0</td>\n",
       "      <td>1.00</td>\n",
       "      <td>2-0</td>\n",
       "      <td>1-0</td>\n",
       "      <td>NaN</td>\n",
       "    </tr>\n",
       "    <tr>\n",
       "      <th>2</th>\n",
       "      <td>1610612740</td>\n",
       "      <td>0</td>\n",
       "      <td>12020</td>\n",
       "      <td>2020-12-21</td>\n",
       "      <td>West</td>\n",
       "      <td>New Orleans</td>\n",
       "      <td>2</td>\n",
       "      <td>2</td>\n",
       "      <td>0</td>\n",
       "      <td>1.00</td>\n",
       "      <td>1-0</td>\n",
       "      <td>1-0</td>\n",
       "      <td>NaN</td>\n",
       "    </tr>\n",
       "    <tr>\n",
       "      <th>3</th>\n",
       "      <td>1610612745</td>\n",
       "      <td>0</td>\n",
       "      <td>12020</td>\n",
       "      <td>2020-12-21</td>\n",
       "      <td>West</td>\n",
       "      <td>Houston</td>\n",
       "      <td>4</td>\n",
       "      <td>3</td>\n",
       "      <td>1</td>\n",
       "      <td>0.75</td>\n",
       "      <td>2-0</td>\n",
       "      <td>1-1</td>\n",
       "      <td>NaN</td>\n",
       "    </tr>\n",
       "    <tr>\n",
       "      <th>4</th>\n",
       "      <td>1610612763</td>\n",
       "      <td>0</td>\n",
       "      <td>12020</td>\n",
       "      <td>2020-12-21</td>\n",
       "      <td>West</td>\n",
       "      <td>Memphis</td>\n",
       "      <td>4</td>\n",
       "      <td>3</td>\n",
       "      <td>1</td>\n",
       "      <td>0.75</td>\n",
       "      <td>1-1</td>\n",
       "      <td>2-0</td>\n",
       "      <td>NaN</td>\n",
       "    </tr>\n",
       "  </tbody>\n",
       "</table>\n",
       "</div>"
      ],
      "text/plain": [
       "      TEAM_ID  LEAGUE_ID  SEASON_ID STANDINGSDATE CONFERENCE         TEAM  G  \\\n",
       "0  1610612747          0      12020    2020-12-21       West  L.A. Lakers  4   \n",
       "1  1610612762          0      12020    2020-12-21       West         Utah  3   \n",
       "2  1610612740          0      12020    2020-12-21       West  New Orleans  2   \n",
       "3  1610612745          0      12020    2020-12-21       West      Houston  4   \n",
       "4  1610612763          0      12020    2020-12-21       West      Memphis  4   \n",
       "\n",
       "   W  L  W_PCT HOME_RECORD ROAD_RECORD  RETURNTOPLAY  \n",
       "0  4  0   1.00         2-0         2-0           NaN  \n",
       "1  3  0   1.00         2-0         1-0           NaN  \n",
       "2  2  0   1.00         1-0         1-0           NaN  \n",
       "3  3  1   0.75         2-0         1-1           NaN  \n",
       "4  3  1   0.75         1-1         2-0           NaN  "
      ]
     },
     "execution_count": 847,
     "metadata": {},
     "output_type": "execute_result"
    }
   ],
   "source": [
    "ranking[ranking.RETURNTOPLAY.isna()].head()"
   ]
  },
  {
   "cell_type": "markdown",
   "id": "a93d3345",
   "metadata": {
    "scrolled": false
   },
   "source": [
    "**CONSISTENCY CHECK**"
   ]
  },
  {
   "cell_type": "code",
   "execution_count": 848,
   "id": "89ae8379",
   "metadata": {},
   "outputs": [],
   "source": [
    "assert(sorted(ranking[\"TEAM_ID\"].unique()) == sorted(teams[\"team_id\"].unique()))"
   ]
  },
  {
   "cell_type": "code",
   "execution_count": 849,
   "id": "00b8e14a",
   "metadata": {},
   "outputs": [
    {
     "data": {
      "text/plain": [
       "0"
      ]
     },
     "execution_count": 849,
     "metadata": {},
     "output_type": "execute_result"
    }
   ],
   "source": [
    "ranking.duplicated().sum()"
   ]
  },
  {
   "cell_type": "markdown",
   "id": "6542c72c",
   "metadata": {
    "scrolled": false
   },
   "source": [
    "**FINAL SORT**"
   ]
  },
  {
   "cell_type": "markdown",
   "id": "45385801",
   "metadata": {},
   "source": [
    "The *LEAGUE_ID*, *TEAM_ID* are duplicates from the Teams table and hence we do not need it. Also, win percentage W_PCT is equal to $\\frac{W}{G}$\n",
    "\n",
    "While this could be normalized further with the information from the games table, we will leave this as is because the information in the games data (as we will see soon) has some missing info that may make recalculating the standings difficult"
   ]
  },
  {
   "cell_type": "code",
   "execution_count": 850,
   "id": "2a278ca7",
   "metadata": {},
   "outputs": [
    {
     "data": {
      "text/html": [
       "<div>\n",
       "<style scoped>\n",
       "    .dataframe tbody tr th:only-of-type {\n",
       "        vertical-align: middle;\n",
       "    }\n",
       "\n",
       "    .dataframe tbody tr th {\n",
       "        vertical-align: top;\n",
       "    }\n",
       "\n",
       "    .dataframe thead th {\n",
       "        text-align: right;\n",
       "    }\n",
       "</style>\n",
       "<table border=\"1\" class=\"dataframe\">\n",
       "  <thead>\n",
       "    <tr style=\"text-align: right;\">\n",
       "      <th></th>\n",
       "      <th>team_id</th>\n",
       "      <th>season_id</th>\n",
       "      <th>standings_date</th>\n",
       "      <th>conference</th>\n",
       "      <th>games</th>\n",
       "      <th>wins</th>\n",
       "      <th>loses</th>\n",
       "      <th>home_record</th>\n",
       "      <th>road_record</th>\n",
       "      <th>return_to_play</th>\n",
       "    </tr>\n",
       "  </thead>\n",
       "  <tbody>\n",
       "    <tr>\n",
       "      <th>0</th>\n",
       "      <td>1610612747</td>\n",
       "      <td>12020</td>\n",
       "      <td>2020-12-21</td>\n",
       "      <td>West</td>\n",
       "      <td>4</td>\n",
       "      <td>4</td>\n",
       "      <td>0</td>\n",
       "      <td>2-0</td>\n",
       "      <td>2-0</td>\n",
       "      <td>NaN</td>\n",
       "    </tr>\n",
       "    <tr>\n",
       "      <th>1</th>\n",
       "      <td>1610612762</td>\n",
       "      <td>12020</td>\n",
       "      <td>2020-12-21</td>\n",
       "      <td>West</td>\n",
       "      <td>3</td>\n",
       "      <td>3</td>\n",
       "      <td>0</td>\n",
       "      <td>2-0</td>\n",
       "      <td>1-0</td>\n",
       "      <td>NaN</td>\n",
       "    </tr>\n",
       "  </tbody>\n",
       "</table>\n",
       "</div>"
      ],
      "text/plain": [
       "      team_id  season_id standings_date conference  games  wins  loses  \\\n",
       "0  1610612747      12020     2020-12-21       West      4     4      0   \n",
       "1  1610612762      12020     2020-12-21       West      3     3      0   \n",
       "\n",
       "  home_record road_record  return_to_play  \n",
       "0         2-0         2-0             NaN  \n",
       "1         2-0         1-0             NaN  "
      ]
     },
     "execution_count": 850,
     "metadata": {},
     "output_type": "execute_result"
    }
   ],
   "source": [
    "ranking.drop(columns=['LEAGUE_ID','TEAM','W_PCT'], inplace=True)\n",
    "\n",
    "ranking = ranking.rename(columns={'TEAM_ID': 'team_id','SEASON_ID': 'season_id',\n",
    "                          'STANDINGSDATE': 'standings_date','CONFERENCE': 'conference',\n",
    "                          'G': 'games','W': 'wins',\n",
    "                          'L': 'loses','HOME_RECORD': 'home_record',\n",
    "                          'ROAD_RECORD': 'road_record','RETURNTOPLAY': 'return_to_play'})\n",
    "\n",
    "ranking.head(2)"
   ]
  },
  {
   "cell_type": "markdown",
   "id": "0253a81c",
   "metadata": {},
   "source": [
    "The data in the rankings csv file seems just fine and not in need of normalizing. We will use the rank_id as primary key, the TEAM_ID referencing the Teams table and the player_id for the Players table."
   ]
  },
  {
   "cell_type": "code",
   "execution_count": null,
   "id": "0c8840fe",
   "metadata": {},
   "outputs": [],
   "source": []
  },
  {
   "cell_type": "code",
   "execution_count": null,
   "id": "e0ee5924",
   "metadata": {},
   "outputs": [],
   "source": []
  },
  {
   "cell_type": "markdown",
   "id": "a8ed29f5",
   "metadata": {},
   "source": [
    "### 4: Refactoring the Games CSVs\n",
    "\n",
    "The last two datasets hold a lot of the same information. This is especially true of the games csv file which holds a number of summary details already avaialable in the game details file. By removing all repeated and summary columns, we normalize of data and we reduce data redundancy and increase integrity."
   ]
  },
  {
   "cell_type": "code",
   "execution_count": 851,
   "id": "134fbebf",
   "metadata": {
    "scrolled": true
   },
   "outputs": [
    {
     "data": {
      "text/html": [
       "<div>\n",
       "<style scoped>\n",
       "    .dataframe tbody tr th:only-of-type {\n",
       "        vertical-align: middle;\n",
       "    }\n",
       "\n",
       "    .dataframe tbody tr th {\n",
       "        vertical-align: top;\n",
       "    }\n",
       "\n",
       "    .dataframe thead th {\n",
       "        text-align: right;\n",
       "    }\n",
       "</style>\n",
       "<table border=\"1\" class=\"dataframe\">\n",
       "  <thead>\n",
       "    <tr style=\"text-align: right;\">\n",
       "      <th></th>\n",
       "      <th>GAME_DATE_EST</th>\n",
       "      <th>GAME_ID</th>\n",
       "      <th>GAME_STATUS_TEXT</th>\n",
       "      <th>HOME_TEAM_ID</th>\n",
       "      <th>VISITOR_TEAM_ID</th>\n",
       "      <th>SEASON</th>\n",
       "      <th>TEAM_ID_home</th>\n",
       "      <th>PTS_home</th>\n",
       "      <th>FG_PCT_home</th>\n",
       "      <th>FT_PCT_home</th>\n",
       "      <th>...</th>\n",
       "      <th>AST_home</th>\n",
       "      <th>REB_home</th>\n",
       "      <th>TEAM_ID_away</th>\n",
       "      <th>PTS_away</th>\n",
       "      <th>FG_PCT_away</th>\n",
       "      <th>FT_PCT_away</th>\n",
       "      <th>FG3_PCT_away</th>\n",
       "      <th>AST_away</th>\n",
       "      <th>REB_away</th>\n",
       "      <th>HOME_TEAM_WINS</th>\n",
       "    </tr>\n",
       "  </thead>\n",
       "  <tbody>\n",
       "    <tr>\n",
       "      <th>8479</th>\n",
       "      <td>2009-01-13</td>\n",
       "      <td>20800564</td>\n",
       "      <td>Final</td>\n",
       "      <td>1610612756</td>\n",
       "      <td>1610612737</td>\n",
       "      <td>2008</td>\n",
       "      <td>1610612756</td>\n",
       "      <td>107.0</td>\n",
       "      <td>0.514</td>\n",
       "      <td>0.800</td>\n",
       "      <td>...</td>\n",
       "      <td>26.0</td>\n",
       "      <td>43.0</td>\n",
       "      <td>1610612737</td>\n",
       "      <td>102.0</td>\n",
       "      <td>0.416</td>\n",
       "      <td>0.750</td>\n",
       "      <td>0.267</td>\n",
       "      <td>10.0</td>\n",
       "      <td>45.0</td>\n",
       "      <td>1</td>\n",
       "    </tr>\n",
       "    <tr>\n",
       "      <th>13701</th>\n",
       "      <td>2005-03-26</td>\n",
       "      <td>20401031</td>\n",
       "      <td>Final</td>\n",
       "      <td>1610612762</td>\n",
       "      <td>1610612749</td>\n",
       "      <td>2004</td>\n",
       "      <td>1610612762</td>\n",
       "      <td>94.0</td>\n",
       "      <td>0.471</td>\n",
       "      <td>0.719</td>\n",
       "      <td>...</td>\n",
       "      <td>20.0</td>\n",
       "      <td>38.0</td>\n",
       "      <td>1610612749</td>\n",
       "      <td>89.0</td>\n",
       "      <td>0.438</td>\n",
       "      <td>0.909</td>\n",
       "      <td>0.455</td>\n",
       "      <td>13.0</td>\n",
       "      <td>34.0</td>\n",
       "      <td>1</td>\n",
       "    </tr>\n",
       "    <tr>\n",
       "      <th>16244</th>\n",
       "      <td>2019-11-20</td>\n",
       "      <td>21900202</td>\n",
       "      <td>Final</td>\n",
       "      <td>1610612755</td>\n",
       "      <td>1610612752</td>\n",
       "      <td>2019</td>\n",
       "      <td>1610612755</td>\n",
       "      <td>109.0</td>\n",
       "      <td>0.438</td>\n",
       "      <td>0.692</td>\n",
       "      <td>...</td>\n",
       "      <td>30.0</td>\n",
       "      <td>44.0</td>\n",
       "      <td>1610612752</td>\n",
       "      <td>104.0</td>\n",
       "      <td>0.476</td>\n",
       "      <td>0.733</td>\n",
       "      <td>0.520</td>\n",
       "      <td>17.0</td>\n",
       "      <td>42.0</td>\n",
       "      <td>1</td>\n",
       "    </tr>\n",
       "    <tr>\n",
       "      <th>408</th>\n",
       "      <td>2020-02-13</td>\n",
       "      <td>21900819</td>\n",
       "      <td>Final</td>\n",
       "      <td>1610612740</td>\n",
       "      <td>1610612760</td>\n",
       "      <td>2019</td>\n",
       "      <td>1610612740</td>\n",
       "      <td>118.0</td>\n",
       "      <td>0.488</td>\n",
       "      <td>0.741</td>\n",
       "      <td>...</td>\n",
       "      <td>31.0</td>\n",
       "      <td>46.0</td>\n",
       "      <td>1610612760</td>\n",
       "      <td>123.0</td>\n",
       "      <td>0.500</td>\n",
       "      <td>0.818</td>\n",
       "      <td>0.481</td>\n",
       "      <td>28.0</td>\n",
       "      <td>40.0</td>\n",
       "      <td>0</td>\n",
       "    </tr>\n",
       "    <tr>\n",
       "      <th>22350</th>\n",
       "      <td>2015-03-25</td>\n",
       "      <td>21401068</td>\n",
       "      <td>Final</td>\n",
       "      <td>1610612740</td>\n",
       "      <td>1610612745</td>\n",
       "      <td>2014</td>\n",
       "      <td>1610612740</td>\n",
       "      <td>93.0</td>\n",
       "      <td>0.453</td>\n",
       "      <td>0.625</td>\n",
       "      <td>...</td>\n",
       "      <td>20.0</td>\n",
       "      <td>37.0</td>\n",
       "      <td>1610612745</td>\n",
       "      <td>95.0</td>\n",
       "      <td>0.494</td>\n",
       "      <td>0.750</td>\n",
       "      <td>0.273</td>\n",
       "      <td>29.0</td>\n",
       "      <td>43.0</td>\n",
       "      <td>0</td>\n",
       "    </tr>\n",
       "  </tbody>\n",
       "</table>\n",
       "<p>5 rows × 21 columns</p>\n",
       "</div>"
      ],
      "text/plain": [
       "      GAME_DATE_EST   GAME_ID GAME_STATUS_TEXT  HOME_TEAM_ID  VISITOR_TEAM_ID  \\\n",
       "8479     2009-01-13  20800564            Final    1610612756       1610612737   \n",
       "13701    2005-03-26  20401031            Final    1610612762       1610612749   \n",
       "16244    2019-11-20  21900202            Final    1610612755       1610612752   \n",
       "408      2020-02-13  21900819            Final    1610612740       1610612760   \n",
       "22350    2015-03-25  21401068            Final    1610612740       1610612745   \n",
       "\n",
       "       SEASON  TEAM_ID_home  PTS_home  FG_PCT_home  FT_PCT_home  ...  \\\n",
       "8479     2008    1610612756     107.0        0.514        0.800  ...   \n",
       "13701    2004    1610612762      94.0        0.471        0.719  ...   \n",
       "16244    2019    1610612755     109.0        0.438        0.692  ...   \n",
       "408      2019    1610612740     118.0        0.488        0.741  ...   \n",
       "22350    2014    1610612740      93.0        0.453        0.625  ...   \n",
       "\n",
       "       AST_home  REB_home  TEAM_ID_away  PTS_away  FG_PCT_away  FT_PCT_away  \\\n",
       "8479       26.0      43.0    1610612737     102.0        0.416        0.750   \n",
       "13701      20.0      38.0    1610612749      89.0        0.438        0.909   \n",
       "16244      30.0      44.0    1610612752     104.0        0.476        0.733   \n",
       "408        31.0      46.0    1610612760     123.0        0.500        0.818   \n",
       "22350      20.0      37.0    1610612745      95.0        0.494        0.750   \n",
       "\n",
       "       FG3_PCT_away  AST_away  REB_away  HOME_TEAM_WINS  \n",
       "8479          0.267      10.0      45.0               1  \n",
       "13701         0.455      13.0      34.0               1  \n",
       "16244         0.520      17.0      42.0               1  \n",
       "408           0.481      28.0      40.0               0  \n",
       "22350         0.273      29.0      43.0               0  \n",
       "\n",
       "[5 rows x 21 columns]"
      ]
     },
     "execution_count": 851,
     "metadata": {},
     "output_type": "execute_result"
    }
   ],
   "source": [
    "games = pd.read_csv(datasets[2])\n",
    "games.sample(5)"
   ]
  },
  {
   "cell_type": "code",
   "execution_count": 852,
   "id": "cd0f1f5c",
   "metadata": {},
   "outputs": [
    {
     "data": {
      "text/plain": [
       "GAME_DATE_EST        object\n",
       "GAME_ID               int64\n",
       "GAME_STATUS_TEXT     object\n",
       "HOME_TEAM_ID          int64\n",
       "VISITOR_TEAM_ID       int64\n",
       "SEASON                int64\n",
       "TEAM_ID_home          int64\n",
       "PTS_home            float64\n",
       "FG_PCT_home         float64\n",
       "FT_PCT_home         float64\n",
       "FG3_PCT_home        float64\n",
       "AST_home            float64\n",
       "REB_home            float64\n",
       "TEAM_ID_away          int64\n",
       "PTS_away            float64\n",
       "FG_PCT_away         float64\n",
       "FT_PCT_away         float64\n",
       "FG3_PCT_away        float64\n",
       "AST_away            float64\n",
       "REB_away            float64\n",
       "HOME_TEAM_WINS        int64\n",
       "dtype: object"
      ]
     },
     "execution_count": 852,
     "metadata": {},
     "output_type": "execute_result"
    }
   ],
   "source": [
    "games.dtypes"
   ]
  },
  {
   "cell_type": "code",
   "execution_count": 853,
   "id": "649af5cb",
   "metadata": {},
   "outputs": [
    {
     "data": {
      "text/plain": [
       "GAME_DATE_EST       datetime64[ns]\n",
       "GAME_ID                      int64\n",
       "GAME_STATUS_TEXT            object\n",
       "HOME_TEAM_ID                 int64\n",
       "VISITOR_TEAM_ID              int64\n",
       "SEASON                       int64\n",
       "TEAM_ID_home                 int64\n",
       "PTS_home                   float64\n",
       "FG_PCT_home                float64\n",
       "FT_PCT_home                float64\n",
       "FG3_PCT_home               float64\n",
       "AST_home                   float64\n",
       "REB_home                   float64\n",
       "TEAM_ID_away                 int64\n",
       "PTS_away                   float64\n",
       "FG_PCT_away                float64\n",
       "FT_PCT_away                float64\n",
       "FG3_PCT_away               float64\n",
       "AST_away                   float64\n",
       "REB_away                   float64\n",
       "HOME_TEAM_WINS               int64\n",
       "dtype: object"
      ]
     },
     "execution_count": 853,
     "metadata": {},
     "output_type": "execute_result"
    }
   ],
   "source": [
    "games['GAME_DATE_EST'] = pd.to_datetime(games['GAME_DATE_EST'], format='%Y-%m-%d')\n",
    "games.dtypes"
   ]
  },
  {
   "cell_type": "code",
   "execution_count": 854,
   "id": "c94c0cfc",
   "metadata": {},
   "outputs": [],
   "source": [
    "assert((np.unique(sorted(games['SEASON'])) != np.arange(2003,2021)).sum() == 0)"
   ]
  },
  {
   "cell_type": "markdown",
   "id": "59b6fdc3",
   "metadata": {
    "scrolled": false
   },
   "source": [
    "**MISSING DATA**"
   ]
  },
  {
   "cell_type": "code",
   "execution_count": 855,
   "id": "f432d43e",
   "metadata": {
    "scrolled": false
   },
   "outputs": [
    {
     "data": {
      "text/plain": [
       "GAME_DATE_EST        0\n",
       "GAME_ID              0\n",
       "GAME_STATUS_TEXT     0\n",
       "HOME_TEAM_ID         0\n",
       "VISITOR_TEAM_ID      0\n",
       "SEASON               0\n",
       "TEAM_ID_home         0\n",
       "PTS_home            99\n",
       "FG_PCT_home         99\n",
       "FT_PCT_home         99\n",
       "FG3_PCT_home        99\n",
       "AST_home            99\n",
       "REB_home            99\n",
       "TEAM_ID_away         0\n",
       "PTS_away            99\n",
       "FG_PCT_away         99\n",
       "FT_PCT_away         99\n",
       "FG3_PCT_away        99\n",
       "AST_away            99\n",
       "REB_away            99\n",
       "HOME_TEAM_WINS       0\n",
       "dtype: int64"
      ]
     },
     "execution_count": 855,
     "metadata": {},
     "output_type": "execute_result"
    }
   ],
   "source": [
    "games.isna().sum()"
   ]
  },
  {
   "cell_type": "markdown",
   "id": "cff7a235",
   "metadata": {
    "scrolled": false
   },
   "source": [
    "Let's look into one column of the null games to see if they are consistent across rows"
   ]
  },
  {
   "cell_type": "code",
   "execution_count": 856,
   "id": "f5db9071",
   "metadata": {
    "scrolled": false
   },
   "outputs": [
    {
     "data": {
      "text/plain": [
       "GAME_DATE_EST        0\n",
       "GAME_ID              0\n",
       "GAME_STATUS_TEXT     0\n",
       "HOME_TEAM_ID         0\n",
       "VISITOR_TEAM_ID      0\n",
       "SEASON               0\n",
       "TEAM_ID_home         0\n",
       "PTS_home            99\n",
       "FG_PCT_home         99\n",
       "FT_PCT_home         99\n",
       "FG3_PCT_home        99\n",
       "AST_home            99\n",
       "REB_home            99\n",
       "TEAM_ID_away         0\n",
       "PTS_away            99\n",
       "FG_PCT_away         99\n",
       "FT_PCT_away         99\n",
       "FG3_PCT_away        99\n",
       "AST_away            99\n",
       "REB_away            99\n",
       "HOME_TEAM_WINS       0\n",
       "dtype: int64"
      ]
     },
     "execution_count": 856,
     "metadata": {},
     "output_type": "execute_result"
    }
   ],
   "source": [
    "games[games.PTS_home.isna()].isna().sum()"
   ]
  },
  {
   "cell_type": "code",
   "execution_count": 857,
   "id": "6eaeeae0",
   "metadata": {
    "scrolled": false
   },
   "outputs": [
    {
     "name": "stdout",
     "output_type": "stream",
     "text": [
      "Values in Columns, for Games with missing data\n"
     ]
    },
    {
     "data": {
      "text/plain": [
       "{'GAME_DATE_EST': array(['2003-10-24T00:00:00.000000000', '2003-10-23T00:00:00.000000000',\n",
       "        '2003-10-22T00:00:00.000000000', '2003-10-21T00:00:00.000000000',\n",
       "        '2003-10-20T00:00:00.000000000', '2003-10-19T00:00:00.000000000',\n",
       "        '2003-10-18T00:00:00.000000000', '2003-10-17T00:00:00.000000000',\n",
       "        '2003-10-16T00:00:00.000000000', '2003-10-15T00:00:00.000000000',\n",
       "        '2003-10-14T00:00:00.000000000', '2003-10-13T00:00:00.000000000',\n",
       "        '2003-10-12T00:00:00.000000000', '2003-10-11T00:00:00.000000000',\n",
       "        '2003-10-10T00:00:00.000000000', '2003-10-09T00:00:00.000000000',\n",
       "        '2003-10-08T00:00:00.000000000', '2003-10-07T00:00:00.000000000'],\n",
       "       dtype='datetime64[ns]'),\n",
       " 'GAME_ID': array([10300116, 10300108, 10300109, 10300113, 10300112, 10300110,\n",
       "        10300111, 10300114, 10300115, 10300103, 10300106, 10300107,\n",
       "        10300104, 10300102, 10300105, 10300094, 10300095, 10300101,\n",
       "        10300097, 10300099, 10300096, 10300098, 10300100, 10300089,\n",
       "        10300091, 10300093, 10300090, 10300092, 10300085, 10300088,\n",
       "        10300087, 10300086, 10300080, 10300082, 10300083, 10300084,\n",
       "        10300081, 10300074, 10300077, 10300073, 10300079, 10300075,\n",
       "        10300076, 10300078, 10300069, 10300064, 10300071, 10300066,\n",
       "        10300067, 10300070, 10300068, 10300065, 10300072, 10300058,\n",
       "        10300062, 10300059, 10300060, 10300061, 10300063, 10300057,\n",
       "        10300054, 10300055, 10300056, 10300051, 10300049, 10300050,\n",
       "        10300048, 10300044, 10300052, 10300046, 10300053, 10300045,\n",
       "        10300047, 10300043, 10300042, 10300039, 10300040, 10300041,\n",
       "        10300034, 10300035, 10300036, 10300030, 10300031, 10300032,\n",
       "        10300033, 10300037, 10300038, 10300023, 10300027, 10300024,\n",
       "        10300025, 10300026, 10300020, 10300021, 10300019, 10300022,\n",
       "        10300013, 10300015, 10300006]),\n",
       " 'GAME_STATUS_TEXT': array(['Final'], dtype=object),\n",
       " 'HOME_TEAM_ID': array([1610612753, 1610612737, 1610612738, 1610612759, 1610612749,\n",
       "        1610612756, 1610612743, 1610612746, 1610612747, 1610612761,\n",
       "        1610612755, 1610612752, 1610612750, 1610612741, 1610612739,\n",
       "        1610612745, 1610612758, 1610612760, 1610612757, 1610612765,\n",
       "        1610612751, 1610612742, 1610612748, 1610612764, 1610612744,\n",
       "        1610612763, 1610612740, 1610612754, 1610612762]),\n",
       " 'VISITOR_TEAM_ID': array([1610612762, 1610612764, 1610612751, 1610612745, 1610612765,\n",
       "        1610612757, 1610612754, 1610612744, 1610612758, 1610612739,\n",
       "        1610612763, 1610612746, 1610612737, 1610612750, 1610612743,\n",
       "        1610612740, 1610612742, 1610612756, 1610612741, 1610612749,\n",
       "        1610612752, 1610612760, 1610612761, 1610612755, 1610612738,\n",
       "        1610612748, 1610612753, 1610612759]),\n",
       " 'SEASON': array([2003]),\n",
       " 'HOME_TEAM_WINS': array([0])}"
      ]
     },
     "execution_count": 857,
     "metadata": {},
     "output_type": "execute_result"
    }
   ],
   "source": [
    "missing_games = games[games.PTS_home.isna()]\n",
    "\n",
    "#avoid cols with no data and the two repeated cols\n",
    "no_check_cols = ['TEAM_ID_home','TEAM_ID_away','PTS_home','FG_PCT_home', \n",
    "                 'FT_PCT_home','FG3_PCT_home','AST_home','REB_home','PTS_away',\n",
    "                 'FG_PCT_away','FT_PCT_away','FG3_PCT_away','AST_away','REB_away']\n",
    "missing_in_cols = {}\n",
    "for col in missing_games.columns:\n",
    "    if col not in no_check_cols:\n",
    "        missing_in_cols[col] = missing_games[col].unique()\n",
    "\n",
    "print('Values in Columns, for Games with missing data')\n",
    "missing_in_cols"
   ]
  },
  {
   "cell_type": "markdown",
   "id": "788f9ff7",
   "metadata": {
    "scrolled": false
   },
   "source": [
    "Apparently, the games with missing info happen on the same year (2003), likely on the same date, in final games as can be seen above. But, we will be dropping these columns in the games dataset. We should however suspect these missing values will show up in the game details csv dataset. Let's take a look at some missing games and save them to review the games details column."
   ]
  },
  {
   "cell_type": "code",
   "execution_count": 858,
   "id": "4f4f51d7",
   "metadata": {
    "scrolled": false
   },
   "outputs": [
    {
     "data": {
      "text/html": [
       "<div>\n",
       "<style scoped>\n",
       "    .dataframe tbody tr th:only-of-type {\n",
       "        vertical-align: middle;\n",
       "    }\n",
       "\n",
       "    .dataframe tbody tr th {\n",
       "        vertical-align: top;\n",
       "    }\n",
       "\n",
       "    .dataframe thead th {\n",
       "        text-align: right;\n",
       "    }\n",
       "</style>\n",
       "<table border=\"1\" class=\"dataframe\">\n",
       "  <thead>\n",
       "    <tr style=\"text-align: right;\">\n",
       "      <th></th>\n",
       "      <th>GAME_DATE_EST</th>\n",
       "      <th>GAME_ID</th>\n",
       "      <th>GAME_STATUS_TEXT</th>\n",
       "      <th>HOME_TEAM_ID</th>\n",
       "      <th>VISITOR_TEAM_ID</th>\n",
       "      <th>SEASON</th>\n",
       "      <th>TEAM_ID_home</th>\n",
       "      <th>PTS_home</th>\n",
       "      <th>FG_PCT_home</th>\n",
       "      <th>FT_PCT_home</th>\n",
       "      <th>...</th>\n",
       "      <th>AST_home</th>\n",
       "      <th>REB_home</th>\n",
       "      <th>TEAM_ID_away</th>\n",
       "      <th>PTS_away</th>\n",
       "      <th>FG_PCT_away</th>\n",
       "      <th>FT_PCT_away</th>\n",
       "      <th>FG3_PCT_away</th>\n",
       "      <th>AST_away</th>\n",
       "      <th>REB_away</th>\n",
       "      <th>HOME_TEAM_WINS</th>\n",
       "    </tr>\n",
       "  </thead>\n",
       "  <tbody>\n",
       "    <tr>\n",
       "      <th>16044</th>\n",
       "      <td>2003-10-24</td>\n",
       "      <td>10300116</td>\n",
       "      <td>Final</td>\n",
       "      <td>1610612753</td>\n",
       "      <td>1610612762</td>\n",
       "      <td>2003</td>\n",
       "      <td>1610612753</td>\n",
       "      <td>NaN</td>\n",
       "      <td>NaN</td>\n",
       "      <td>NaN</td>\n",
       "      <td>...</td>\n",
       "      <td>NaN</td>\n",
       "      <td>NaN</td>\n",
       "      <td>1610612762</td>\n",
       "      <td>NaN</td>\n",
       "      <td>NaN</td>\n",
       "      <td>NaN</td>\n",
       "      <td>NaN</td>\n",
       "      <td>NaN</td>\n",
       "      <td>NaN</td>\n",
       "      <td>0</td>\n",
       "    </tr>\n",
       "    <tr>\n",
       "      <th>16045</th>\n",
       "      <td>2003-10-24</td>\n",
       "      <td>10300108</td>\n",
       "      <td>Final</td>\n",
       "      <td>1610612737</td>\n",
       "      <td>1610612764</td>\n",
       "      <td>2003</td>\n",
       "      <td>1610612737</td>\n",
       "      <td>NaN</td>\n",
       "      <td>NaN</td>\n",
       "      <td>NaN</td>\n",
       "      <td>...</td>\n",
       "      <td>NaN</td>\n",
       "      <td>NaN</td>\n",
       "      <td>1610612764</td>\n",
       "      <td>NaN</td>\n",
       "      <td>NaN</td>\n",
       "      <td>NaN</td>\n",
       "      <td>NaN</td>\n",
       "      <td>NaN</td>\n",
       "      <td>NaN</td>\n",
       "      <td>0</td>\n",
       "    </tr>\n",
       "    <tr>\n",
       "      <th>16046</th>\n",
       "      <td>2003-10-24</td>\n",
       "      <td>10300109</td>\n",
       "      <td>Final</td>\n",
       "      <td>1610612738</td>\n",
       "      <td>1610612751</td>\n",
       "      <td>2003</td>\n",
       "      <td>1610612738</td>\n",
       "      <td>NaN</td>\n",
       "      <td>NaN</td>\n",
       "      <td>NaN</td>\n",
       "      <td>...</td>\n",
       "      <td>NaN</td>\n",
       "      <td>NaN</td>\n",
       "      <td>1610612751</td>\n",
       "      <td>NaN</td>\n",
       "      <td>NaN</td>\n",
       "      <td>NaN</td>\n",
       "      <td>NaN</td>\n",
       "      <td>NaN</td>\n",
       "      <td>NaN</td>\n",
       "      <td>0</td>\n",
       "    </tr>\n",
       "    <tr>\n",
       "      <th>16047</th>\n",
       "      <td>2003-10-24</td>\n",
       "      <td>10300113</td>\n",
       "      <td>Final</td>\n",
       "      <td>1610612759</td>\n",
       "      <td>1610612745</td>\n",
       "      <td>2003</td>\n",
       "      <td>1610612759</td>\n",
       "      <td>NaN</td>\n",
       "      <td>NaN</td>\n",
       "      <td>NaN</td>\n",
       "      <td>...</td>\n",
       "      <td>NaN</td>\n",
       "      <td>NaN</td>\n",
       "      <td>1610612745</td>\n",
       "      <td>NaN</td>\n",
       "      <td>NaN</td>\n",
       "      <td>NaN</td>\n",
       "      <td>NaN</td>\n",
       "      <td>NaN</td>\n",
       "      <td>NaN</td>\n",
       "      <td>0</td>\n",
       "    </tr>\n",
       "    <tr>\n",
       "      <th>16048</th>\n",
       "      <td>2003-10-24</td>\n",
       "      <td>10300112</td>\n",
       "      <td>Final</td>\n",
       "      <td>1610612749</td>\n",
       "      <td>1610612765</td>\n",
       "      <td>2003</td>\n",
       "      <td>1610612749</td>\n",
       "      <td>NaN</td>\n",
       "      <td>NaN</td>\n",
       "      <td>NaN</td>\n",
       "      <td>...</td>\n",
       "      <td>NaN</td>\n",
       "      <td>NaN</td>\n",
       "      <td>1610612765</td>\n",
       "      <td>NaN</td>\n",
       "      <td>NaN</td>\n",
       "      <td>NaN</td>\n",
       "      <td>NaN</td>\n",
       "      <td>NaN</td>\n",
       "      <td>NaN</td>\n",
       "      <td>0</td>\n",
       "    </tr>\n",
       "    <tr>\n",
       "      <th>16049</th>\n",
       "      <td>2003-10-24</td>\n",
       "      <td>10300110</td>\n",
       "      <td>Final</td>\n",
       "      <td>1610612756</td>\n",
       "      <td>1610612757</td>\n",
       "      <td>2003</td>\n",
       "      <td>1610612756</td>\n",
       "      <td>NaN</td>\n",
       "      <td>NaN</td>\n",
       "      <td>NaN</td>\n",
       "      <td>...</td>\n",
       "      <td>NaN</td>\n",
       "      <td>NaN</td>\n",
       "      <td>1610612757</td>\n",
       "      <td>NaN</td>\n",
       "      <td>NaN</td>\n",
       "      <td>NaN</td>\n",
       "      <td>NaN</td>\n",
       "      <td>NaN</td>\n",
       "      <td>NaN</td>\n",
       "      <td>0</td>\n",
       "    </tr>\n",
       "    <tr>\n",
       "      <th>16050</th>\n",
       "      <td>2003-10-24</td>\n",
       "      <td>10300111</td>\n",
       "      <td>Final</td>\n",
       "      <td>1610612743</td>\n",
       "      <td>1610612754</td>\n",
       "      <td>2003</td>\n",
       "      <td>1610612743</td>\n",
       "      <td>NaN</td>\n",
       "      <td>NaN</td>\n",
       "      <td>NaN</td>\n",
       "      <td>...</td>\n",
       "      <td>NaN</td>\n",
       "      <td>NaN</td>\n",
       "      <td>1610612754</td>\n",
       "      <td>NaN</td>\n",
       "      <td>NaN</td>\n",
       "      <td>NaN</td>\n",
       "      <td>NaN</td>\n",
       "      <td>NaN</td>\n",
       "      <td>NaN</td>\n",
       "      <td>0</td>\n",
       "    </tr>\n",
       "    <tr>\n",
       "      <th>16051</th>\n",
       "      <td>2003-10-24</td>\n",
       "      <td>10300114</td>\n",
       "      <td>Final</td>\n",
       "      <td>1610612746</td>\n",
       "      <td>1610612744</td>\n",
       "      <td>2003</td>\n",
       "      <td>1610612746</td>\n",
       "      <td>NaN</td>\n",
       "      <td>NaN</td>\n",
       "      <td>NaN</td>\n",
       "      <td>...</td>\n",
       "      <td>NaN</td>\n",
       "      <td>NaN</td>\n",
       "      <td>1610612744</td>\n",
       "      <td>NaN</td>\n",
       "      <td>NaN</td>\n",
       "      <td>NaN</td>\n",
       "      <td>NaN</td>\n",
       "      <td>NaN</td>\n",
       "      <td>NaN</td>\n",
       "      <td>0</td>\n",
       "    </tr>\n",
       "    <tr>\n",
       "      <th>16052</th>\n",
       "      <td>2003-10-24</td>\n",
       "      <td>10300115</td>\n",
       "      <td>Final</td>\n",
       "      <td>1610612747</td>\n",
       "      <td>1610612758</td>\n",
       "      <td>2003</td>\n",
       "      <td>1610612747</td>\n",
       "      <td>NaN</td>\n",
       "      <td>NaN</td>\n",
       "      <td>NaN</td>\n",
       "      <td>...</td>\n",
       "      <td>NaN</td>\n",
       "      <td>NaN</td>\n",
       "      <td>1610612758</td>\n",
       "      <td>NaN</td>\n",
       "      <td>NaN</td>\n",
       "      <td>NaN</td>\n",
       "      <td>NaN</td>\n",
       "      <td>NaN</td>\n",
       "      <td>NaN</td>\n",
       "      <td>0</td>\n",
       "    </tr>\n",
       "  </tbody>\n",
       "</table>\n",
       "<p>9 rows × 21 columns</p>\n",
       "</div>"
      ],
      "text/plain": [
       "      GAME_DATE_EST   GAME_ID GAME_STATUS_TEXT  HOME_TEAM_ID  VISITOR_TEAM_ID  \\\n",
       "16044    2003-10-24  10300116            Final    1610612753       1610612762   \n",
       "16045    2003-10-24  10300108            Final    1610612737       1610612764   \n",
       "16046    2003-10-24  10300109            Final    1610612738       1610612751   \n",
       "16047    2003-10-24  10300113            Final    1610612759       1610612745   \n",
       "16048    2003-10-24  10300112            Final    1610612749       1610612765   \n",
       "16049    2003-10-24  10300110            Final    1610612756       1610612757   \n",
       "16050    2003-10-24  10300111            Final    1610612743       1610612754   \n",
       "16051    2003-10-24  10300114            Final    1610612746       1610612744   \n",
       "16052    2003-10-24  10300115            Final    1610612747       1610612758   \n",
       "\n",
       "       SEASON  TEAM_ID_home  PTS_home  FG_PCT_home  FT_PCT_home  ...  \\\n",
       "16044    2003    1610612753       NaN          NaN          NaN  ...   \n",
       "16045    2003    1610612737       NaN          NaN          NaN  ...   \n",
       "16046    2003    1610612738       NaN          NaN          NaN  ...   \n",
       "16047    2003    1610612759       NaN          NaN          NaN  ...   \n",
       "16048    2003    1610612749       NaN          NaN          NaN  ...   \n",
       "16049    2003    1610612756       NaN          NaN          NaN  ...   \n",
       "16050    2003    1610612743       NaN          NaN          NaN  ...   \n",
       "16051    2003    1610612746       NaN          NaN          NaN  ...   \n",
       "16052    2003    1610612747       NaN          NaN          NaN  ...   \n",
       "\n",
       "       AST_home  REB_home  TEAM_ID_away  PTS_away  FG_PCT_away  FT_PCT_away  \\\n",
       "16044       NaN       NaN    1610612762       NaN          NaN          NaN   \n",
       "16045       NaN       NaN    1610612764       NaN          NaN          NaN   \n",
       "16046       NaN       NaN    1610612751       NaN          NaN          NaN   \n",
       "16047       NaN       NaN    1610612745       NaN          NaN          NaN   \n",
       "16048       NaN       NaN    1610612765       NaN          NaN          NaN   \n",
       "16049       NaN       NaN    1610612757       NaN          NaN          NaN   \n",
       "16050       NaN       NaN    1610612754       NaN          NaN          NaN   \n",
       "16051       NaN       NaN    1610612744       NaN          NaN          NaN   \n",
       "16052       NaN       NaN    1610612758       NaN          NaN          NaN   \n",
       "\n",
       "       FG3_PCT_away  AST_away  REB_away  HOME_TEAM_WINS  \n",
       "16044           NaN       NaN       NaN               0  \n",
       "16045           NaN       NaN       NaN               0  \n",
       "16046           NaN       NaN       NaN               0  \n",
       "16047           NaN       NaN       NaN               0  \n",
       "16048           NaN       NaN       NaN               0  \n",
       "16049           NaN       NaN       NaN               0  \n",
       "16050           NaN       NaN       NaN               0  \n",
       "16051           NaN       NaN       NaN               0  \n",
       "16052           NaN       NaN       NaN               0  \n",
       "\n",
       "[9 rows x 21 columns]"
      ]
     },
     "execution_count": 858,
     "metadata": {},
     "output_type": "execute_result"
    }
   ],
   "source": [
    "games[games['GAME_DATE_EST'] == '2003-10-24']"
   ]
  },
  {
   "cell_type": "markdown",
   "id": "117e15e7",
   "metadata": {
    "scrolled": false
   },
   "source": [
    "The date and the season year should also be synonymous."
   ]
  },
  {
   "cell_type": "code",
   "execution_count": 859,
   "id": "6f6dd2e9",
   "metadata": {
    "scrolled": false
   },
   "outputs": [
    {
     "data": {
      "text/plain": [
       "14"
      ]
     },
     "execution_count": 859,
     "metadata": {},
     "output_type": "execute_result"
    }
   ],
   "source": [
    "#since new seasons start in october\n",
    "season_part = games.GAME_DATE_EST.dt.month.apply(lambda x: 0 if x > 9 else 1)\n",
    "(games.GAME_DATE_EST.dt.year - season_part != games.SEASON).sum()"
   ]
  },
  {
   "cell_type": "markdown",
   "id": "55726f27",
   "metadata": {
    "scrolled": false
   },
   "source": [
    "Then perhaps we keep the season column since 14 games are subject to some variation by season"
   ]
  },
  {
   "cell_type": "code",
   "execution_count": 860,
   "id": "4fa59fbc",
   "metadata": {
    "scrolled": false
   },
   "outputs": [
    {
     "data": {
      "text/html": [
       "<div>\n",
       "<style scoped>\n",
       "    .dataframe tbody tr th:only-of-type {\n",
       "        vertical-align: middle;\n",
       "    }\n",
       "\n",
       "    .dataframe tbody tr th {\n",
       "        vertical-align: top;\n",
       "    }\n",
       "\n",
       "    .dataframe thead th {\n",
       "        text-align: right;\n",
       "    }\n",
       "</style>\n",
       "<table border=\"1\" class=\"dataframe\">\n",
       "  <thead>\n",
       "    <tr style=\"text-align: right;\">\n",
       "      <th></th>\n",
       "      <th>GAME_DATE_EST</th>\n",
       "      <th>GAME_ID</th>\n",
       "      <th>GAME_STATUS_TEXT</th>\n",
       "      <th>HOME_TEAM_ID</th>\n",
       "      <th>VISITOR_TEAM_ID</th>\n",
       "      <th>SEASON</th>\n",
       "      <th>TEAM_ID_home</th>\n",
       "      <th>PTS_home</th>\n",
       "      <th>FG_PCT_home</th>\n",
       "      <th>FT_PCT_home</th>\n",
       "      <th>...</th>\n",
       "      <th>AST_home</th>\n",
       "      <th>REB_home</th>\n",
       "      <th>TEAM_ID_away</th>\n",
       "      <th>PTS_away</th>\n",
       "      <th>FG_PCT_away</th>\n",
       "      <th>FT_PCT_away</th>\n",
       "      <th>FG3_PCT_away</th>\n",
       "      <th>AST_away</th>\n",
       "      <th>REB_away</th>\n",
       "      <th>HOME_TEAM_WINS</th>\n",
       "    </tr>\n",
       "  </thead>\n",
       "  <tbody>\n",
       "    <tr>\n",
       "      <th>49</th>\n",
       "      <td>2020-10-11</td>\n",
       "      <td>41900406</td>\n",
       "      <td>Final</td>\n",
       "      <td>1610612748</td>\n",
       "      <td>1610612747</td>\n",
       "      <td>2019</td>\n",
       "      <td>1610612748</td>\n",
       "      <td>93.0</td>\n",
       "      <td>0.443</td>\n",
       "      <td>0.591</td>\n",
       "      <td>...</td>\n",
       "      <td>25.0</td>\n",
       "      <td>41.0</td>\n",
       "      <td>1610612747</td>\n",
       "      <td>106.0</td>\n",
       "      <td>0.483</td>\n",
       "      <td>0.643</td>\n",
       "      <td>0.314</td>\n",
       "      <td>23.0</td>\n",
       "      <td>46.0</td>\n",
       "      <td>0</td>\n",
       "    </tr>\n",
       "    <tr>\n",
       "      <th>50</th>\n",
       "      <td>2020-10-09</td>\n",
       "      <td>41900405</td>\n",
       "      <td>Final</td>\n",
       "      <td>1610612747</td>\n",
       "      <td>1610612748</td>\n",
       "      <td>2019</td>\n",
       "      <td>1610612747</td>\n",
       "      <td>108.0</td>\n",
       "      <td>0.463</td>\n",
       "      <td>0.857</td>\n",
       "      <td>...</td>\n",
       "      <td>21.0</td>\n",
       "      <td>41.0</td>\n",
       "      <td>1610612748</td>\n",
       "      <td>111.0</td>\n",
       "      <td>0.458</td>\n",
       "      <td>0.955</td>\n",
       "      <td>0.424</td>\n",
       "      <td>26.0</td>\n",
       "      <td>35.0</td>\n",
       "      <td>0</td>\n",
       "    </tr>\n",
       "    <tr>\n",
       "      <th>51</th>\n",
       "      <td>2020-10-06</td>\n",
       "      <td>41900404</td>\n",
       "      <td>Final</td>\n",
       "      <td>1610612748</td>\n",
       "      <td>1610612747</td>\n",
       "      <td>2019</td>\n",
       "      <td>1610612748</td>\n",
       "      <td>96.0</td>\n",
       "      <td>0.427</td>\n",
       "      <td>0.808</td>\n",
       "      <td>...</td>\n",
       "      <td>18.0</td>\n",
       "      <td>39.0</td>\n",
       "      <td>1610612747</td>\n",
       "      <td>102.0</td>\n",
       "      <td>0.443</td>\n",
       "      <td>0.857</td>\n",
       "      <td>0.359</td>\n",
       "      <td>25.0</td>\n",
       "      <td>42.0</td>\n",
       "      <td>0</td>\n",
       "    </tr>\n",
       "    <tr>\n",
       "      <th>52</th>\n",
       "      <td>2020-10-04</td>\n",
       "      <td>41900403</td>\n",
       "      <td>Final</td>\n",
       "      <td>1610612748</td>\n",
       "      <td>1610612747</td>\n",
       "      <td>2019</td>\n",
       "      <td>1610612748</td>\n",
       "      <td>115.0</td>\n",
       "      <td>0.513</td>\n",
       "      <td>0.913</td>\n",
       "      <td>...</td>\n",
       "      <td>25.0</td>\n",
       "      <td>37.0</td>\n",
       "      <td>1610612747</td>\n",
       "      <td>104.0</td>\n",
       "      <td>0.430</td>\n",
       "      <td>0.759</td>\n",
       "      <td>0.333</td>\n",
       "      <td>23.0</td>\n",
       "      <td>43.0</td>\n",
       "      <td>1</td>\n",
       "    </tr>\n",
       "    <tr>\n",
       "      <th>53</th>\n",
       "      <td>2020-10-02</td>\n",
       "      <td>41900402</td>\n",
       "      <td>Final</td>\n",
       "      <td>1610612747</td>\n",
       "      <td>1610612748</td>\n",
       "      <td>2019</td>\n",
       "      <td>1610612747</td>\n",
       "      <td>124.0</td>\n",
       "      <td>0.505</td>\n",
       "      <td>0.588</td>\n",
       "      <td>...</td>\n",
       "      <td>32.0</td>\n",
       "      <td>44.0</td>\n",
       "      <td>1610612748</td>\n",
       "      <td>114.0</td>\n",
       "      <td>0.507</td>\n",
       "      <td>0.912</td>\n",
       "      <td>0.407</td>\n",
       "      <td>29.0</td>\n",
       "      <td>37.0</td>\n",
       "      <td>1</td>\n",
       "    </tr>\n",
       "    <tr>\n",
       "      <th>...</th>\n",
       "      <td>...</td>\n",
       "      <td>...</td>\n",
       "      <td>...</td>\n",
       "      <td>...</td>\n",
       "      <td>...</td>\n",
       "      <td>...</td>\n",
       "      <td>...</td>\n",
       "      <td>...</td>\n",
       "      <td>...</td>\n",
       "      <td>...</td>\n",
       "      <td>...</td>\n",
       "      <td>...</td>\n",
       "      <td>...</td>\n",
       "      <td>...</td>\n",
       "      <td>...</td>\n",
       "      <td>...</td>\n",
       "      <td>...</td>\n",
       "      <td>...</td>\n",
       "      <td>...</td>\n",
       "      <td>...</td>\n",
       "      <td>...</td>\n",
       "    </tr>\n",
       "    <tr>\n",
       "      <th>22927</th>\n",
       "      <td>2015-01-02</td>\n",
       "      <td>21400492</td>\n",
       "      <td>Final</td>\n",
       "      <td>1610612762</td>\n",
       "      <td>1610612737</td>\n",
       "      <td>2014</td>\n",
       "      <td>1610612762</td>\n",
       "      <td>92.0</td>\n",
       "      <td>0.372</td>\n",
       "      <td>0.750</td>\n",
       "      <td>...</td>\n",
       "      <td>18.0</td>\n",
       "      <td>47.0</td>\n",
       "      <td>1610612737</td>\n",
       "      <td>98.0</td>\n",
       "      <td>0.407</td>\n",
       "      <td>0.867</td>\n",
       "      <td>0.261</td>\n",
       "      <td>24.0</td>\n",
       "      <td>47.0</td>\n",
       "      <td>0</td>\n",
       "    </tr>\n",
       "    <tr>\n",
       "      <th>22928</th>\n",
       "      <td>2015-01-02</td>\n",
       "      <td>21400493</td>\n",
       "      <td>Final</td>\n",
       "      <td>1610612744</td>\n",
       "      <td>1610612761</td>\n",
       "      <td>2014</td>\n",
       "      <td>1610612744</td>\n",
       "      <td>126.0</td>\n",
       "      <td>0.533</td>\n",
       "      <td>0.800</td>\n",
       "      <td>...</td>\n",
       "      <td>35.0</td>\n",
       "      <td>45.0</td>\n",
       "      <td>1610612761</td>\n",
       "      <td>105.0</td>\n",
       "      <td>0.465</td>\n",
       "      <td>0.750</td>\n",
       "      <td>0.400</td>\n",
       "      <td>23.0</td>\n",
       "      <td>37.0</td>\n",
       "      <td>1</td>\n",
       "    </tr>\n",
       "    <tr>\n",
       "      <th>22929</th>\n",
       "      <td>2015-01-02</td>\n",
       "      <td>21400494</td>\n",
       "      <td>Final</td>\n",
       "      <td>1610612747</td>\n",
       "      <td>1610612763</td>\n",
       "      <td>2014</td>\n",
       "      <td>1610612747</td>\n",
       "      <td>106.0</td>\n",
       "      <td>0.531</td>\n",
       "      <td>0.737</td>\n",
       "      <td>...</td>\n",
       "      <td>24.0</td>\n",
       "      <td>38.0</td>\n",
       "      <td>1610612763</td>\n",
       "      <td>109.0</td>\n",
       "      <td>0.488</td>\n",
       "      <td>0.677</td>\n",
       "      <td>0.429</td>\n",
       "      <td>27.0</td>\n",
       "      <td>46.0</td>\n",
       "      <td>0</td>\n",
       "    </tr>\n",
       "    <tr>\n",
       "      <th>22930</th>\n",
       "      <td>2015-01-01</td>\n",
       "      <td>21400482</td>\n",
       "      <td>Final</td>\n",
       "      <td>1610612741</td>\n",
       "      <td>1610612743</td>\n",
       "      <td>2014</td>\n",
       "      <td>1610612741</td>\n",
       "      <td>106.0</td>\n",
       "      <td>0.418</td>\n",
       "      <td>0.880</td>\n",
       "      <td>...</td>\n",
       "      <td>22.0</td>\n",
       "      <td>46.0</td>\n",
       "      <td>1610612743</td>\n",
       "      <td>101.0</td>\n",
       "      <td>0.402</td>\n",
       "      <td>0.815</td>\n",
       "      <td>0.357</td>\n",
       "      <td>19.0</td>\n",
       "      <td>57.0</td>\n",
       "      <td>1</td>\n",
       "    </tr>\n",
       "    <tr>\n",
       "      <th>22931</th>\n",
       "      <td>2015-01-01</td>\n",
       "      <td>21400483</td>\n",
       "      <td>Final</td>\n",
       "      <td>1610612750</td>\n",
       "      <td>1610612758</td>\n",
       "      <td>2014</td>\n",
       "      <td>1610612750</td>\n",
       "      <td>107.0</td>\n",
       "      <td>0.462</td>\n",
       "      <td>0.727</td>\n",
       "      <td>...</td>\n",
       "      <td>22.0</td>\n",
       "      <td>38.0</td>\n",
       "      <td>1610612758</td>\n",
       "      <td>110.0</td>\n",
       "      <td>0.541</td>\n",
       "      <td>0.862</td>\n",
       "      <td>0.417</td>\n",
       "      <td>23.0</td>\n",
       "      <td>42.0</td>\n",
       "      <td>0</td>\n",
       "    </tr>\n",
       "  </tbody>\n",
       "</table>\n",
       "<p>14212 rows × 21 columns</p>\n",
       "</div>"
      ],
      "text/plain": [
       "      GAME_DATE_EST   GAME_ID GAME_STATUS_TEXT  HOME_TEAM_ID  VISITOR_TEAM_ID  \\\n",
       "49       2020-10-11  41900406            Final    1610612748       1610612747   \n",
       "50       2020-10-09  41900405            Final    1610612747       1610612748   \n",
       "51       2020-10-06  41900404            Final    1610612748       1610612747   \n",
       "52       2020-10-04  41900403            Final    1610612748       1610612747   \n",
       "53       2020-10-02  41900402            Final    1610612747       1610612748   \n",
       "...             ...       ...              ...           ...              ...   \n",
       "22927    2015-01-02  21400492            Final    1610612762       1610612737   \n",
       "22928    2015-01-02  21400493            Final    1610612744       1610612761   \n",
       "22929    2015-01-02  21400494            Final    1610612747       1610612763   \n",
       "22930    2015-01-01  21400482            Final    1610612741       1610612743   \n",
       "22931    2015-01-01  21400483            Final    1610612750       1610612758   \n",
       "\n",
       "       SEASON  TEAM_ID_home  PTS_home  FG_PCT_home  FT_PCT_home  ...  \\\n",
       "49       2019    1610612748      93.0        0.443        0.591  ...   \n",
       "50       2019    1610612747     108.0        0.463        0.857  ...   \n",
       "51       2019    1610612748      96.0        0.427        0.808  ...   \n",
       "52       2019    1610612748     115.0        0.513        0.913  ...   \n",
       "53       2019    1610612747     124.0        0.505        0.588  ...   \n",
       "...       ...           ...       ...          ...          ...  ...   \n",
       "22927    2014    1610612762      92.0        0.372        0.750  ...   \n",
       "22928    2014    1610612744     126.0        0.533        0.800  ...   \n",
       "22929    2014    1610612747     106.0        0.531        0.737  ...   \n",
       "22930    2014    1610612741     106.0        0.418        0.880  ...   \n",
       "22931    2014    1610612750     107.0        0.462        0.727  ...   \n",
       "\n",
       "       AST_home  REB_home  TEAM_ID_away  PTS_away  FG_PCT_away  FT_PCT_away  \\\n",
       "49         25.0      41.0    1610612747     106.0        0.483        0.643   \n",
       "50         21.0      41.0    1610612748     111.0        0.458        0.955   \n",
       "51         18.0      39.0    1610612747     102.0        0.443        0.857   \n",
       "52         25.0      37.0    1610612747     104.0        0.430        0.759   \n",
       "53         32.0      44.0    1610612748     114.0        0.507        0.912   \n",
       "...         ...       ...           ...       ...          ...          ...   \n",
       "22927      18.0      47.0    1610612737      98.0        0.407        0.867   \n",
       "22928      35.0      45.0    1610612761     105.0        0.465        0.750   \n",
       "22929      24.0      38.0    1610612763     109.0        0.488        0.677   \n",
       "22930      22.0      46.0    1610612743     101.0        0.402        0.815   \n",
       "22931      22.0      38.0    1610612758     110.0        0.541        0.862   \n",
       "\n",
       "       FG3_PCT_away  AST_away  REB_away  HOME_TEAM_WINS  \n",
       "49            0.314      23.0      46.0               0  \n",
       "50            0.424      26.0      35.0               0  \n",
       "51            0.359      25.0      42.0               0  \n",
       "52            0.333      23.0      43.0               1  \n",
       "53            0.407      29.0      37.0               1  \n",
       "...             ...       ...       ...             ...  \n",
       "22927         0.261      24.0      47.0               0  \n",
       "22928         0.400      23.0      37.0               1  \n",
       "22929         0.429      27.0      46.0               0  \n",
       "22930         0.357      19.0      57.0               1  \n",
       "22931         0.417      23.0      42.0               0  \n",
       "\n",
       "[14212 rows x 21 columns]"
      ]
     },
     "execution_count": 860,
     "metadata": {},
     "output_type": "execute_result"
    }
   ],
   "source": [
    "season_part = games.GAME_DATE_EST.dt.month.apply(lambda x: 0 if x > 9 else 1)\n",
    "\n",
    "games[games.GAME_DATE_EST.dt.year != games.SEASON]"
   ]
  },
  {
   "cell_type": "markdown",
   "id": "f889b07f",
   "metadata": {
    "scrolled": false
   },
   "source": [
    "**CONSISTENCY CHECK**"
   ]
  },
  {
   "cell_type": "markdown",
   "id": "d715ccda",
   "metadata": {
    "scrolled": false
   },
   "source": [
    "Before we clean out the missing data, lets look for consistency across our files for columns we intend to use as primary or foreign keys"
   ]
  },
  {
   "cell_type": "code",
   "execution_count": 861,
   "id": "9bdcc00d",
   "metadata": {},
   "outputs": [],
   "source": [
    "assert(sorted(ranking[\"team_id\"].unique()) == sorted(games['HOME_TEAM_ID'].append(games['VISITOR_TEAM_ID']).unique()))"
   ]
  },
  {
   "cell_type": "code",
   "execution_count": 862,
   "id": "b10417dd",
   "metadata": {},
   "outputs": [
    {
     "data": {
      "text/plain": [
       "0"
      ]
     },
     "execution_count": 862,
     "metadata": {},
     "output_type": "execute_result"
    }
   ],
   "source": [
    "games.duplicated().sum()"
   ]
  },
  {
   "cell_type": "markdown",
   "id": "0342c991",
   "metadata": {
    "scrolled": false
   },
   "source": [
    "**FINAL SORT**"
   ]
  },
  {
   "cell_type": "code",
   "execution_count": 863,
   "id": "0cbba5e2",
   "metadata": {
    "scrolled": true
   },
   "outputs": [
    {
     "data": {
      "text/html": [
       "<div>\n",
       "<style scoped>\n",
       "    .dataframe tbody tr th:only-of-type {\n",
       "        vertical-align: middle;\n",
       "    }\n",
       "\n",
       "    .dataframe tbody tr th {\n",
       "        vertical-align: top;\n",
       "    }\n",
       "\n",
       "    .dataframe thead th {\n",
       "        text-align: right;\n",
       "    }\n",
       "</style>\n",
       "<table border=\"1\" class=\"dataframe\">\n",
       "  <thead>\n",
       "    <tr style=\"text-align: right;\">\n",
       "      <th></th>\n",
       "      <th>GAME_DATE_EST</th>\n",
       "      <th>GAME_ID</th>\n",
       "      <th>GAME_STATUS_TEXT</th>\n",
       "      <th>HOME_TEAM_ID</th>\n",
       "      <th>VISITOR_TEAM_ID</th>\n",
       "      <th>SEASON</th>\n",
       "    </tr>\n",
       "  </thead>\n",
       "  <tbody>\n",
       "    <tr>\n",
       "      <th>0</th>\n",
       "      <td>2020-12-19</td>\n",
       "      <td>12000047</td>\n",
       "      <td>Final</td>\n",
       "      <td>1610612753</td>\n",
       "      <td>1610612766</td>\n",
       "      <td>2020</td>\n",
       "    </tr>\n",
       "    <tr>\n",
       "      <th>1</th>\n",
       "      <td>2020-12-19</td>\n",
       "      <td>12000048</td>\n",
       "      <td>Final</td>\n",
       "      <td>1610612764</td>\n",
       "      <td>1610612765</td>\n",
       "      <td>2020</td>\n",
       "    </tr>\n",
       "    <tr>\n",
       "      <th>2</th>\n",
       "      <td>2020-12-19</td>\n",
       "      <td>12000049</td>\n",
       "      <td>Final</td>\n",
       "      <td>1610612763</td>\n",
       "      <td>1610612737</td>\n",
       "      <td>2020</td>\n",
       "    </tr>\n",
       "    <tr>\n",
       "      <th>3</th>\n",
       "      <td>2020-12-18</td>\n",
       "      <td>12000039</td>\n",
       "      <td>Final</td>\n",
       "      <td>1610612754</td>\n",
       "      <td>1610612755</td>\n",
       "      <td>2020</td>\n",
       "    </tr>\n",
       "    <tr>\n",
       "      <th>4</th>\n",
       "      <td>2020-12-18</td>\n",
       "      <td>12000040</td>\n",
       "      <td>Final</td>\n",
       "      <td>1610612761</td>\n",
       "      <td>1610612748</td>\n",
       "      <td>2020</td>\n",
       "    </tr>\n",
       "  </tbody>\n",
       "</table>\n",
       "</div>"
      ],
      "text/plain": [
       "  GAME_DATE_EST   GAME_ID GAME_STATUS_TEXT  HOME_TEAM_ID  VISITOR_TEAM_ID  \\\n",
       "0    2020-12-19  12000047            Final    1610612753       1610612766   \n",
       "1    2020-12-19  12000048            Final    1610612764       1610612765   \n",
       "2    2020-12-19  12000049            Final    1610612763       1610612737   \n",
       "3    2020-12-18  12000039            Final    1610612754       1610612755   \n",
       "4    2020-12-18  12000040            Final    1610612761       1610612748   \n",
       "\n",
       "   SEASON  \n",
       "0    2020  \n",
       "1    2020  \n",
       "2    2020  \n",
       "3    2020  \n",
       "4    2020  "
      ]
     },
     "execution_count": 863,
     "metadata": {},
     "output_type": "execute_result"
    }
   ],
   "source": [
    "games.drop(columns =['TEAM_ID_home','PTS_home','FG_PCT_home','FG_PCT_home',\n",
    "                     'FG_PCT_home','FT_PCT_home','FG3_PCT_home','AST_home',\n",
    "                     'REB_home','TEAM_ID_away','PTS_away','FG_PCT_away','FT_PCT_away',\n",
    "                     'FG3_PCT_away','AST_away','REB_away','HOME_TEAM_WINS'], inplace=True)\n",
    "games.head()"
   ]
  },
  {
   "cell_type": "code",
   "execution_count": 864,
   "id": "a73bdfef",
   "metadata": {
    "scrolled": false
   },
   "outputs": [
    {
     "data": {
      "text/plain": [
       "array(['Final'], dtype=object)"
      ]
     },
     "execution_count": 864,
     "metadata": {},
     "output_type": "execute_result"
    }
   ],
   "source": [
    "games.GAME_STATUS_TEXT.unique()"
   ]
  },
  {
   "cell_type": "code",
   "execution_count": 865,
   "id": "a3b1ba11",
   "metadata": {
    "scrolled": true
   },
   "outputs": [
    {
     "data": {
      "text/html": [
       "<div>\n",
       "<style scoped>\n",
       "    .dataframe tbody tr th:only-of-type {\n",
       "        vertical-align: middle;\n",
       "    }\n",
       "\n",
       "    .dataframe tbody tr th {\n",
       "        vertical-align: top;\n",
       "    }\n",
       "\n",
       "    .dataframe thead th {\n",
       "        text-align: right;\n",
       "    }\n",
       "</style>\n",
       "<table border=\"1\" class=\"dataframe\">\n",
       "  <thead>\n",
       "    <tr style=\"text-align: right;\">\n",
       "      <th></th>\n",
       "      <th>game_id</th>\n",
       "      <th>game_date_est</th>\n",
       "      <th>home_team_id</th>\n",
       "      <th>visitor_team_id</th>\n",
       "      <th>game_status_text</th>\n",
       "      <th>season</th>\n",
       "    </tr>\n",
       "  </thead>\n",
       "  <tbody>\n",
       "    <tr>\n",
       "      <th>0</th>\n",
       "      <td>12000047</td>\n",
       "      <td>2020-12-19</td>\n",
       "      <td>1610612753</td>\n",
       "      <td>1610612766</td>\n",
       "      <td>Final</td>\n",
       "      <td>2020</td>\n",
       "    </tr>\n",
       "    <tr>\n",
       "      <th>1</th>\n",
       "      <td>12000048</td>\n",
       "      <td>2020-12-19</td>\n",
       "      <td>1610612764</td>\n",
       "      <td>1610612765</td>\n",
       "      <td>Final</td>\n",
       "      <td>2020</td>\n",
       "    </tr>\n",
       "    <tr>\n",
       "      <th>2</th>\n",
       "      <td>12000049</td>\n",
       "      <td>2020-12-19</td>\n",
       "      <td>1610612763</td>\n",
       "      <td>1610612737</td>\n",
       "      <td>Final</td>\n",
       "      <td>2020</td>\n",
       "    </tr>\n",
       "    <tr>\n",
       "      <th>3</th>\n",
       "      <td>12000039</td>\n",
       "      <td>2020-12-18</td>\n",
       "      <td>1610612754</td>\n",
       "      <td>1610612755</td>\n",
       "      <td>Final</td>\n",
       "      <td>2020</td>\n",
       "    </tr>\n",
       "    <tr>\n",
       "      <th>4</th>\n",
       "      <td>12000040</td>\n",
       "      <td>2020-12-18</td>\n",
       "      <td>1610612761</td>\n",
       "      <td>1610612748</td>\n",
       "      <td>Final</td>\n",
       "      <td>2020</td>\n",
       "    </tr>\n",
       "  </tbody>\n",
       "</table>\n",
       "</div>"
      ],
      "text/plain": [
       "    game_id game_date_est  home_team_id  visitor_team_id game_status_text  \\\n",
       "0  12000047    2020-12-19    1610612753       1610612766            Final   \n",
       "1  12000048    2020-12-19    1610612764       1610612765            Final   \n",
       "2  12000049    2020-12-19    1610612763       1610612737            Final   \n",
       "3  12000039    2020-12-18    1610612754       1610612755            Final   \n",
       "4  12000040    2020-12-18    1610612761       1610612748            Final   \n",
       "\n",
       "   season  \n",
       "0    2020  \n",
       "1    2020  \n",
       "2    2020  \n",
       "3    2020  \n",
       "4    2020  "
      ]
     },
     "execution_count": 865,
     "metadata": {},
     "output_type": "execute_result"
    }
   ],
   "source": [
    "cols = ['GAME_ID','GAME_DATE_EST','HOME_TEAM_ID','VISITOR_TEAM_ID','GAME_STATUS_TEXT','SEASON']\n",
    "\n",
    "games = games.reindex(columns=cols)\n",
    "\n",
    "games = games.rename(columns=({'GAME_ID': 'game_id',\n",
    "                    'GAME_DATE_EST': 'game_date_est',\n",
    "                    'HOME_TEAM_ID': 'home_team_id',\n",
    "                    'VISITOR_TEAM_ID': 'visitor_team_id',\n",
    "                    'GAME_STATUS_TEXT': 'game_status_text',\n",
    "                    'SEASON': 'season'}))\n",
    "games.head()"
   ]
  },
  {
   "cell_type": "code",
   "execution_count": 866,
   "id": "b1e3fa11",
   "metadata": {
    "scrolled": false
   },
   "outputs": [
    {
     "data": {
      "text/plain": [
       "game_id             0\n",
       "game_date_est       0\n",
       "home_team_id        0\n",
       "visitor_team_id     0\n",
       "game_status_text    0\n",
       "season              0\n",
       "dtype: int64"
      ]
     },
     "execution_count": 866,
     "metadata": {},
     "output_type": "execute_result"
    }
   ],
   "source": [
    "games.isna().sum()"
   ]
  },
  {
   "cell_type": "markdown",
   "id": "94455862",
   "metadata": {
    "scrolled": false
   },
   "source": [
    "And now, no more missing data"
   ]
  },
  {
   "cell_type": "code",
   "execution_count": null,
   "id": "19b3a817",
   "metadata": {
    "scrolled": false
   },
   "outputs": [],
   "source": []
  },
  {
   "cell_type": "markdown",
   "id": "32564378",
   "metadata": {},
   "source": [
    "### 5: Refactoring the Games Details CSVs\n",
    "\n",
    "Finally we work on the games details csv which holds a lot of the summary information held by games as well as some summary data of its own. By removing all repeated and summary columns, we normalize of data and we reduce data redundancy and increase integrity."
   ]
  },
  {
   "cell_type": "code",
   "execution_count": 867,
   "id": "246f0228",
   "metadata": {
    "scrolled": true
   },
   "outputs": [
    {
     "data": {
      "text/html": [
       "<div>\n",
       "<style scoped>\n",
       "    .dataframe tbody tr th:only-of-type {\n",
       "        vertical-align: middle;\n",
       "    }\n",
       "\n",
       "    .dataframe tbody tr th {\n",
       "        vertical-align: top;\n",
       "    }\n",
       "\n",
       "    .dataframe thead th {\n",
       "        text-align: right;\n",
       "    }\n",
       "</style>\n",
       "<table border=\"1\" class=\"dataframe\">\n",
       "  <thead>\n",
       "    <tr style=\"text-align: right;\">\n",
       "      <th></th>\n",
       "      <th>GAME_ID</th>\n",
       "      <th>TEAM_ID</th>\n",
       "      <th>TEAM_ABBREVIATION</th>\n",
       "      <th>TEAM_CITY</th>\n",
       "      <th>PLAYER_ID</th>\n",
       "      <th>PLAYER_NAME</th>\n",
       "      <th>START_POSITION</th>\n",
       "      <th>COMMENT</th>\n",
       "      <th>MIN</th>\n",
       "      <th>FGM</th>\n",
       "      <th>...</th>\n",
       "      <th>OREB</th>\n",
       "      <th>DREB</th>\n",
       "      <th>REB</th>\n",
       "      <th>AST</th>\n",
       "      <th>STL</th>\n",
       "      <th>BLK</th>\n",
       "      <th>TO</th>\n",
       "      <th>PF</th>\n",
       "      <th>PTS</th>\n",
       "      <th>PLUS_MINUS</th>\n",
       "    </tr>\n",
       "  </thead>\n",
       "  <tbody>\n",
       "    <tr>\n",
       "      <th>0</th>\n",
       "      <td>12000047</td>\n",
       "      <td>1610612766</td>\n",
       "      <td>CHA</td>\n",
       "      <td>Charlotte</td>\n",
       "      <td>1628998</td>\n",
       "      <td>Cody Martin</td>\n",
       "      <td>F</td>\n",
       "      <td>NaN</td>\n",
       "      <td>17:06</td>\n",
       "      <td>0.0</td>\n",
       "      <td>...</td>\n",
       "      <td>0.0</td>\n",
       "      <td>2.0</td>\n",
       "      <td>2.0</td>\n",
       "      <td>1.0</td>\n",
       "      <td>0.0</td>\n",
       "      <td>1.0</td>\n",
       "      <td>1.0</td>\n",
       "      <td>2.0</td>\n",
       "      <td>0.0</td>\n",
       "      <td>-31.0</td>\n",
       "    </tr>\n",
       "    <tr>\n",
       "      <th>1</th>\n",
       "      <td>12000047</td>\n",
       "      <td>1610612766</td>\n",
       "      <td>CHA</td>\n",
       "      <td>Charlotte</td>\n",
       "      <td>1629023</td>\n",
       "      <td>P.J. Washington</td>\n",
       "      <td>F</td>\n",
       "      <td>NaN</td>\n",
       "      <td>24:58</td>\n",
       "      <td>4.0</td>\n",
       "      <td>...</td>\n",
       "      <td>1.0</td>\n",
       "      <td>6.0</td>\n",
       "      <td>7.0</td>\n",
       "      <td>2.0</td>\n",
       "      <td>2.0</td>\n",
       "      <td>1.0</td>\n",
       "      <td>5.0</td>\n",
       "      <td>3.0</td>\n",
       "      <td>9.0</td>\n",
       "      <td>-2.0</td>\n",
       "    </tr>\n",
       "    <tr>\n",
       "      <th>2</th>\n",
       "      <td>12000047</td>\n",
       "      <td>1610612766</td>\n",
       "      <td>CHA</td>\n",
       "      <td>Charlotte</td>\n",
       "      <td>203469</td>\n",
       "      <td>Cody Zeller</td>\n",
       "      <td>C</td>\n",
       "      <td>NaN</td>\n",
       "      <td>22:45</td>\n",
       "      <td>5.0</td>\n",
       "      <td>...</td>\n",
       "      <td>2.0</td>\n",
       "      <td>2.0</td>\n",
       "      <td>4.0</td>\n",
       "      <td>0.0</td>\n",
       "      <td>0.0</td>\n",
       "      <td>1.0</td>\n",
       "      <td>0.0</td>\n",
       "      <td>2.0</td>\n",
       "      <td>13.0</td>\n",
       "      <td>-23.0</td>\n",
       "    </tr>\n",
       "  </tbody>\n",
       "</table>\n",
       "<p>3 rows × 28 columns</p>\n",
       "</div>"
      ],
      "text/plain": [
       "    GAME_ID     TEAM_ID TEAM_ABBREVIATION  TEAM_CITY  PLAYER_ID  \\\n",
       "0  12000047  1610612766               CHA  Charlotte    1628998   \n",
       "1  12000047  1610612766               CHA  Charlotte    1629023   \n",
       "2  12000047  1610612766               CHA  Charlotte     203469   \n",
       "\n",
       "       PLAYER_NAME START_POSITION COMMENT    MIN  FGM  ...  OREB  DREB  REB  \\\n",
       "0      Cody Martin              F     NaN  17:06  0.0  ...   0.0   2.0  2.0   \n",
       "1  P.J. Washington              F     NaN  24:58  4.0  ...   1.0   6.0  7.0   \n",
       "2      Cody Zeller              C     NaN  22:45  5.0  ...   2.0   2.0  4.0   \n",
       "\n",
       "   AST  STL  BLK   TO   PF   PTS  PLUS_MINUS  \n",
       "0  1.0  0.0  1.0  1.0  2.0   0.0       -31.0  \n",
       "1  2.0  2.0  1.0  5.0  3.0   9.0        -2.0  \n",
       "2  0.0  0.0  1.0  0.0  2.0  13.0       -23.0  \n",
       "\n",
       "[3 rows x 28 columns]"
      ]
     },
     "execution_count": 867,
     "metadata": {},
     "output_type": "execute_result"
    }
   ],
   "source": [
    "games_details = pd.read_csv(datasets[4])\n",
    "games_details.head(3)"
   ]
  },
  {
   "cell_type": "code",
   "execution_count": 868,
   "id": "f5e219ae",
   "metadata": {},
   "outputs": [
    {
     "data": {
      "text/plain": [
       "GAME_ID                int64\n",
       "TEAM_ID                int64\n",
       "TEAM_ABBREVIATION     object\n",
       "TEAM_CITY             object\n",
       "PLAYER_ID              int64\n",
       "PLAYER_NAME           object\n",
       "START_POSITION        object\n",
       "COMMENT               object\n",
       "MIN                   object\n",
       "FGM                  float64\n",
       "FGA                  float64\n",
       "FG_PCT               float64\n",
       "FG3M                 float64\n",
       "FG3A                 float64\n",
       "FG3_PCT              float64\n",
       "FTM                  float64\n",
       "FTA                  float64\n",
       "FT_PCT               float64\n",
       "OREB                 float64\n",
       "DREB                 float64\n",
       "REB                  float64\n",
       "AST                  float64\n",
       "STL                  float64\n",
       "BLK                  float64\n",
       "TO                   float64\n",
       "PF                   float64\n",
       "PTS                  float64\n",
       "PLUS_MINUS           float64\n",
       "dtype: object"
      ]
     },
     "execution_count": 868,
     "metadata": {},
     "output_type": "execute_result"
    }
   ],
   "source": [
    "games_details.dtypes"
   ]
  },
  {
   "cell_type": "markdown",
   "id": "912e8954",
   "metadata": {
    "scrolled": false
   },
   "source": [
    "**MISSING DATA**\n",
    "\n",
    "First look at the missing data"
   ]
  },
  {
   "cell_type": "code",
   "execution_count": 869,
   "id": "2d23b7eb",
   "metadata": {
    "scrolled": false
   },
   "outputs": [
    {
     "data": {
      "text/plain": [
       "GAME_ID                   0\n",
       "TEAM_ID                   0\n",
       "TEAM_ABBREVIATION         0\n",
       "TEAM_CITY                 0\n",
       "PLAYER_ID                 0\n",
       "PLAYER_NAME               0\n",
       "START_POSITION       361170\n",
       "COMMENT              491738\n",
       "MIN                   94057\n",
       "FGM                   94057\n",
       "FGA                   94057\n",
       "FG_PCT                94057\n",
       "FG3M                  94057\n",
       "FG3A                  94057\n",
       "FG3_PCT               94057\n",
       "FTM                   94057\n",
       "FTA                   94057\n",
       "FT_PCT                94057\n",
       "OREB                  94057\n",
       "DREB                  94057\n",
       "REB                   94057\n",
       "AST                   94057\n",
       "STL                   94057\n",
       "BLK                   94057\n",
       "TO                    94057\n",
       "PF                    94057\n",
       "PTS                   94057\n",
       "PLUS_MINUS           117718\n",
       "dtype: int64"
      ]
     },
     "execution_count": 869,
     "metadata": {},
     "output_type": "execute_result"
    }
   ],
   "source": [
    "games_details.isnull().sum()"
   ]
  },
  {
   "cell_type": "markdown",
   "id": "dccd3b42",
   "metadata": {
    "scrolled": false
   },
   "source": [
    "We expect that there will be missing data in the COMMENT, START_POSITION and PLUS_MINUS COLUMNS as not all players are in a game, join a game, or give comments or for many other reasons. There does seem to be some data missing collectively across columns again."
   ]
  },
  {
   "cell_type": "code",
   "execution_count": 870,
   "id": "a45b194a",
   "metadata": {
    "scrolled": false
   },
   "outputs": [
    {
     "data": {
      "text/plain": [
       "GAME_ID                  0\n",
       "TEAM_ID                  0\n",
       "TEAM_ABBREVIATION        0\n",
       "TEAM_CITY                0\n",
       "PLAYER_ID                0\n",
       "PLAYER_NAME              0\n",
       "START_POSITION       94057\n",
       "COMMENT                  1\n",
       "MIN                  94057\n",
       "FGM                  94057\n",
       "FGA                  94057\n",
       "FG_PCT               94057\n",
       "FG3M                 94057\n",
       "FG3A                 94057\n",
       "FG3_PCT              94057\n",
       "FTM                  94057\n",
       "FTA                  94057\n",
       "FT_PCT               94057\n",
       "OREB                 94057\n",
       "DREB                 94057\n",
       "REB                  94057\n",
       "AST                  94057\n",
       "STL                  94057\n",
       "BLK                  94057\n",
       "TO                   94057\n",
       "PF                   94057\n",
       "PTS                  94057\n",
       "PLUS_MINUS           94057\n",
       "dtype: int64"
      ]
     },
     "execution_count": 870,
     "metadata": {},
     "output_type": "execute_result"
    }
   ],
   "source": [
    "games_details[games_details['MIN'].isna()].isna().sum()"
   ]
  },
  {
   "cell_type": "markdown",
   "id": "f16c9727",
   "metadata": {
    "scrolled": false
   },
   "source": [
    "This confirms 94,057 rows have data that is missing collectively across the rows."
   ]
  },
  {
   "cell_type": "code",
   "execution_count": 871,
   "id": "51723ea8",
   "metadata": {},
   "outputs": [
    {
     "data": {
      "text/plain": [
       "array([12000047, 12000048, 12000049, ..., 21200002, 21200003, 21200001])"
      ]
     },
     "execution_count": 871,
     "metadata": {},
     "output_type": "execute_result"
    }
   ],
   "source": [
    "games_details[games_details['MIN'].isna()].GAME_ID.unique()"
   ]
  },
  {
   "cell_type": "markdown",
   "id": "aec18003",
   "metadata": {
    "scrolled": false
   },
   "source": [
    "It might be in our interest to drop these games from our dataset as the most relevant data from the details column is missing. But first, lets do some other checks."
   ]
  },
  {
   "cell_type": "code",
   "execution_count": 872,
   "id": "21f33b62",
   "metadata": {},
   "outputs": [
    {
     "name": "stdout",
     "output_type": "stream",
     "text": [
      "No of ID's in games, not present in details: 99\n",
      "No of ID's in games, present in details: 23421\n",
      "No of game IDs in games: 23520\n",
      "No of IDs in details: 23421\n"
     ]
    }
   ],
   "source": [
    "print(f\"No of ID's in games, not present in details: \\\n",
    "{(~games['game_id'].isin(games_details['GAME_ID'])).sum()}\")\n",
    "\n",
    "print(f\"No of ID's in games, present in details: \\\n",
    "{(games['game_id'].isin(games_details['GAME_ID'])).sum()}\")\n",
    "\n",
    "print(f'No of game IDs in games: {games[\"game_id\"].nunique()}')\n",
    "\n",
    "print(f'No of IDs in details: {games_details[\"GAME_ID\"].nunique()}')"
   ]
  },
  {
   "cell_type": "markdown",
   "id": "77e13d85",
   "metadata": {},
   "source": [
    "All the ids in the games details are present in the games table.\n",
    "\n",
    "We check if these 99 missing games match those 99 rows from the previously noted missing rows in games"
   ]
  },
  {
   "cell_type": "code",
   "execution_count": 873,
   "id": "35fd9d01",
   "metadata": {},
   "outputs": [
    {
     "name": "stdout",
     "output_type": "stream",
     "text": [
      "Number of ids with missing rows data in games, present in details: 0\n",
      "Number of game ids missing from details that match the ids with missing rows data in games: 99\n"
     ]
    }
   ],
   "source": [
    "print(f'Number of ids with missing rows data in games, present in details: \\\n",
    "{(games_details[\"GAME_ID\"].isin(missing_in_cols[\"GAME_ID\"])).sum()}')\n",
    "\n",
    "print('Number of game ids missing from details that match the ids with missing rows data in games: {}'.format(\\\n",
    "       games[~games[\"game_id\"].isin(games_details[\"GAME_ID\"])][\"game_id\"] #ids in games not present in games details\n",
    "                               .isin(missing_in_cols[\"GAME_ID\"]).sum())) #ids matching missing_in_cols games"
   ]
  },
  {
   "cell_type": "markdown",
   "id": "d8c0fa9f",
   "metadata": {},
   "source": [
    "Lastly, we want to check the ids in game details that are not present in games"
   ]
  },
  {
   "cell_type": "code",
   "execution_count": 874,
   "id": "eb5a97da",
   "metadata": {},
   "outputs": [
    {
     "name": "stdout",
     "output_type": "stream",
     "text": [
      "Number of ids with missing rows data in games, present in details: 0\n",
      "Number of game ids missing from details that match the ids with missing rows data in games: 99\n"
     ]
    }
   ],
   "source": [
    "print(f'Number of ids with missing rows data in games, present in details: \\\n",
    "{(games_details[\"GAME_ID\"].isin(missing_in_cols[\"GAME_ID\"])).sum()}')\n",
    "\n",
    "print('Number of game ids missing from details that match the ids with missing rows data in games: {}'.format(\\\n",
    "       games[~games[\"game_id\"].isin(games_details[\"GAME_ID\"])][\"game_id\"] #ids in games not present in games details\n",
    "                               .isin(missing_in_cols[\"GAME_ID\"]).sum())) #ids matching missing_in_cols games"
   ]
  },
  {
   "cell_type": "markdown",
   "id": "c63f5783",
   "metadata": {
    "scrolled": false
   },
   "source": [
    "**DROP NULL FILLED ROWS**"
   ]
  },
  {
   "cell_type": "code",
   "execution_count": 875,
   "id": "60f0b2de",
   "metadata": {},
   "outputs": [
    {
     "data": {
      "text/plain": [
       "GAME_ID                   0\n",
       "TEAM_ID                   0\n",
       "TEAM_ABBREVIATION         0\n",
       "TEAM_CITY                 0\n",
       "PLAYER_ID                 0\n",
       "PLAYER_NAME               0\n",
       "START_POSITION       267113\n",
       "COMMENT              491737\n",
       "MIN                       0\n",
       "FGM                       0\n",
       "FGA                       0\n",
       "FG_PCT                    0\n",
       "FG3M                      0\n",
       "FG3A                      0\n",
       "FG3_PCT                   0\n",
       "FTM                       0\n",
       "FTA                       0\n",
       "FT_PCT                    0\n",
       "OREB                      0\n",
       "DREB                      0\n",
       "REB                       0\n",
       "AST                       0\n",
       "STL                       0\n",
       "BLK                       0\n",
       "TO                        0\n",
       "PF                        0\n",
       "PTS                       0\n",
       "PLUS_MINUS            23661\n",
       "dtype: int64"
      ]
     },
     "execution_count": 875,
     "metadata": {},
     "output_type": "execute_result"
    }
   ],
   "source": [
    "games_details = games_details.drop(games_details[games_details['MIN'].isna()].index)\n",
    "games_details.isna().sum()"
   ]
  },
  {
   "cell_type": "markdown",
   "id": "65509eeb",
   "metadata": {
    "scrolled": false
   },
   "source": [
    "We can proceed to the defined rows as stated:"
   ]
  },
  {
   "cell_type": "markdown",
   "id": "72c6edb8",
   "metadata": {
    "scrolled": false
   },
   "source": [
    "**CONSISTENCY CHECK**"
   ]
  },
  {
   "cell_type": "code",
   "execution_count": 876,
   "id": "a99aaa3f",
   "metadata": {},
   "outputs": [],
   "source": [
    "assert((~games['game_id'].isin(games_details['GAME_ID'])).sum() == 99)\n",
    "assert(sorted(teams[\"team_id\"].unique()) == sorted(games_details['TEAM_ID'].unique()))"
   ]
  },
  {
   "cell_type": "code",
   "execution_count": 877,
   "id": "a2364442",
   "metadata": {},
   "outputs": [
    {
     "name": "stdout",
     "output_type": "stream",
     "text": [
      "check failed\n"
     ]
    }
   ],
   "source": [
    "try:\n",
    "    assert(sorted(players[\"player_id\"]) == sorted(games_details['PLAYER_ID'].unique()))\n",
    "except AssertionError:\n",
    "    print('check failed')"
   ]
  },
  {
   "cell_type": "markdown",
   "id": "e5565519",
   "metadata": {
    "scrolled": false
   },
   "source": [
    "Because our third check fails, we should look into the games"
   ]
  },
  {
   "cell_type": "code",
   "execution_count": 878,
   "id": "619d3e8a",
   "metadata": {},
   "outputs": [
    {
     "name": "stdout",
     "output_type": "stream",
     "text": [
      "We have 1723 players in common, 1769 in the players dataframe, and, 2369 players in games details\n"
     ]
    }
   ],
   "source": [
    "count=0\n",
    "missing_players = np.array([])\n",
    "player_ids = players[\"player_id\"]\n",
    "game_players = games_details[\"PLAYER_ID\"].unique()\n",
    "\n",
    "for player in player_ids: \n",
    "    if player in game_players:\n",
    "        count+=1\n",
    "    else:\n",
    "        missing_players = np.append(missing_players, player)\n",
    "\n",
    "print(f'We have {count} players in common, {player_ids.shape[0]} in the players dataframe, \\\n",
    "and, {game_players.shape[0]} players in games details')"
   ]
  },
  {
   "cell_type": "code",
   "execution_count": 879,
   "id": "e12559b8",
   "metadata": {},
   "outputs": [
    {
     "data": {
      "text/plain": [
       "0"
      ]
     },
     "execution_count": 879,
     "metadata": {},
     "output_type": "execute_result"
    }
   ],
   "source": [
    "games.duplicated().sum()"
   ]
  },
  {
   "cell_type": "markdown",
   "id": "76acd025",
   "metadata": {
    "scrolled": false
   },
   "source": [
    "**FINAL SORT**"
   ]
  },
  {
   "cell_type": "code",
   "execution_count": 880,
   "id": "77155636",
   "metadata": {
    "scrolled": true
   },
   "outputs": [],
   "source": [
    "games_details.drop(columns =['TEAM_ABBREVIATION','TEAM_CITY',\\\n",
    "                             'PLAYER_NAME', 'START_POSITION',\\\n",
    "                             'FG_PCT','FT_PCT','FG3_PCT','REB'], inplace=True)\n",
    "\n",
    "games_details['COMMENT'] = games_details.COMMENT.str.strip()"
   ]
  },
  {
   "cell_type": "code",
   "execution_count": 881,
   "id": "0d8cd8a6",
   "metadata": {
    "scrolled": true
   },
   "outputs": [],
   "source": [
    "#player_game_reports = games_details[['PLAYER_ID','GAME_ID', 'START_POSITION', 'COMMENT']].copy()\n",
    "games_details = games_details.rename(columns={'GAME_ID': 'game_id', 'TEAM_ID':'team_id',\n",
    "                                            'PLAYER_ID': 'player_id','COMMENT': 'comment',\n",
    "                                            'MIN': 'minute','FGM': 'field_g_made','FGA': 'field_g_attempts',\n",
    "                                            'FG3M': 'field_g3_made', 'FG3A': 'field_g3_attempts',\n",
    "                                            'FTM': 'free_throws_made','FTA': 'free_throw_attempts',\n",
    "                                            'OREB': 'off_rebound','DREB': 'def_rebound','AST': 'assist',\n",
    "                                            'STL': 'steal', 'BLK': 'block','TO': 'turnover',\n",
    "                                            'PF': 'personal_foul','PTS':'points','PLUS_MINUS': 'plus_minus'})"
   ]
  },
  {
   "cell_type": "code",
   "execution_count": 882,
   "id": "b8134057",
   "metadata": {
    "scrolled": true
   },
   "outputs": [
    {
     "data": {
      "text/html": [
       "<div>\n",
       "<style scoped>\n",
       "    .dataframe tbody tr th:only-of-type {\n",
       "        vertical-align: middle;\n",
       "    }\n",
       "\n",
       "    .dataframe tbody tr th {\n",
       "        vertical-align: top;\n",
       "    }\n",
       "\n",
       "    .dataframe thead th {\n",
       "        text-align: right;\n",
       "    }\n",
       "</style>\n",
       "<table border=\"1\" class=\"dataframe\">\n",
       "  <thead>\n",
       "    <tr style=\"text-align: right;\">\n",
       "      <th></th>\n",
       "      <th>game_id</th>\n",
       "      <th>team_id</th>\n",
       "      <th>player_id</th>\n",
       "      <th>comment</th>\n",
       "      <th>minute</th>\n",
       "      <th>field_g_made</th>\n",
       "      <th>field_g_attempts</th>\n",
       "      <th>field_g3_made</th>\n",
       "      <th>field_g3_attempts</th>\n",
       "      <th>free_throws_made</th>\n",
       "      <th>free_throw_attempts</th>\n",
       "      <th>off_rebound</th>\n",
       "      <th>def_rebound</th>\n",
       "      <th>assist</th>\n",
       "      <th>steal</th>\n",
       "      <th>block</th>\n",
       "      <th>turnover</th>\n",
       "      <th>personal_foul</th>\n",
       "      <th>points</th>\n",
       "      <th>plus_minus</th>\n",
       "    </tr>\n",
       "  </thead>\n",
       "  <tbody>\n",
       "    <tr>\n",
       "      <th>357543</th>\n",
       "      <td>21800243</td>\n",
       "      <td>1610612746</td>\n",
       "      <td>1628983</td>\n",
       "      <td>NaN</td>\n",
       "      <td>29:09</td>\n",
       "      <td>5.0</td>\n",
       "      <td>9.0</td>\n",
       "      <td>0.0</td>\n",
       "      <td>2.0</td>\n",
       "      <td>6.0</td>\n",
       "      <td>8.0</td>\n",
       "      <td>2.0</td>\n",
       "      <td>0.0</td>\n",
       "      <td>1.0</td>\n",
       "      <td>1.0</td>\n",
       "      <td>1.0</td>\n",
       "      <td>3.0</td>\n",
       "      <td>1.0</td>\n",
       "      <td>16.0</td>\n",
       "      <td>-7.0</td>\n",
       "    </tr>\n",
       "    <tr>\n",
       "      <th>531061</th>\n",
       "      <td>21300617</td>\n",
       "      <td>1610612748</td>\n",
       "      <td>2365</td>\n",
       "      <td>NaN</td>\n",
       "      <td>24:36</td>\n",
       "      <td>5.0</td>\n",
       "      <td>5.0</td>\n",
       "      <td>0.0</td>\n",
       "      <td>0.0</td>\n",
       "      <td>3.0</td>\n",
       "      <td>4.0</td>\n",
       "      <td>3.0</td>\n",
       "      <td>4.0</td>\n",
       "      <td>0.0</td>\n",
       "      <td>1.0</td>\n",
       "      <td>1.0</td>\n",
       "      <td>2.0</td>\n",
       "      <td>1.0</td>\n",
       "      <td>13.0</td>\n",
       "      <td>3.0</td>\n",
       "    </tr>\n",
       "    <tr>\n",
       "      <th>489333</th>\n",
       "      <td>21400790</td>\n",
       "      <td>1610612759</td>\n",
       "      <td>201168</td>\n",
       "      <td>NaN</td>\n",
       "      <td>16:39</td>\n",
       "      <td>3.0</td>\n",
       "      <td>6.0</td>\n",
       "      <td>0.0</td>\n",
       "      <td>0.0</td>\n",
       "      <td>0.0</td>\n",
       "      <td>0.0</td>\n",
       "      <td>3.0</td>\n",
       "      <td>4.0</td>\n",
       "      <td>1.0</td>\n",
       "      <td>0.0</td>\n",
       "      <td>0.0</td>\n",
       "      <td>1.0</td>\n",
       "      <td>2.0</td>\n",
       "      <td>6.0</td>\n",
       "      <td>2.0</td>\n",
       "    </tr>\n",
       "  </tbody>\n",
       "</table>\n",
       "</div>"
      ],
      "text/plain": [
       "         game_id     team_id  player_id comment minute  field_g_made  \\\n",
       "357543  21800243  1610612746    1628983     NaN  29:09           5.0   \n",
       "531061  21300617  1610612748       2365     NaN  24:36           5.0   \n",
       "489333  21400790  1610612759     201168     NaN  16:39           3.0   \n",
       "\n",
       "        field_g_attempts  field_g3_made  field_g3_attempts  free_throws_made  \\\n",
       "357543               9.0            0.0                2.0               6.0   \n",
       "531061               5.0            0.0                0.0               3.0   \n",
       "489333               6.0            0.0                0.0               0.0   \n",
       "\n",
       "        free_throw_attempts  off_rebound  def_rebound  assist  steal  block  \\\n",
       "357543                  8.0          2.0          0.0     1.0    1.0    1.0   \n",
       "531061                  4.0          3.0          4.0     0.0    1.0    1.0   \n",
       "489333                  0.0          3.0          4.0     1.0    0.0    0.0   \n",
       "\n",
       "        turnover  personal_foul  points  plus_minus  \n",
       "357543       3.0            1.0    16.0        -7.0  \n",
       "531061       2.0            1.0    13.0         3.0  \n",
       "489333       1.0            2.0     6.0         2.0  "
      ]
     },
     "execution_count": 882,
     "metadata": {},
     "output_type": "execute_result"
    }
   ],
   "source": [
    "games_details.sample(3)"
   ]
  },
  {
   "cell_type": "markdown",
   "id": "0dc223c4",
   "metadata": {},
   "source": [
    "In the commented code below are notes on how to calculate all the statistics we have dropped from either game details or games"
   ]
  },
  {
   "cell_type": "code",
   "execution_count": 883,
   "id": "7307bf47",
   "metadata": {},
   "outputs": [],
   "source": [
    "#Notes for statistics we have deleted\n",
    "\n",
    "#points  home/away , calc: gsd.groupby(['GAME_ID','TEAM_ID'])['PTS'].sum()  PTS\n",
    "#rebound home/away, calc: gsd.groupby([GAME_ID,'TEAM_ID'])['REB'].sum()     REB\n",
    "#assists home/away, calc: gsd.groupby([GAME_ID,'TEAM_ID'])['AST'].sum()     AST\n",
    "\n",
    "#percentage summaries:    gsd.groupby(['GAME_ID','TEAM_ID'])[[\n",
    "#fg_pct home/away, calc: GM/GA         'FGM','FGA',                         FIELDGOAL% \n",
    "#fg3_pct home/away, calc: G3M/G3A      'FG3M', 'FG3A',                      FIELDGOAL3PTS%\n",
    "#ft3_pct home/away, calc: TM/TA        'FTM', 'FTA']].sum().reset_index()   FREETHROW%\n",
    "\n",
    "#rankings[w_pct] , calc: ranking[W_PCT] = ranking['W'] / ranking['G'] #Divide by 0 possible\n",
    "\n",
    "#'REB' calc: games_details['REB'] = games_details['OREB'] + games_details['DREB']  TOTAL REBOUNDS"
   ]
  },
  {
   "cell_type": "code",
   "execution_count": null,
   "id": "052e0dde",
   "metadata": {},
   "outputs": [],
   "source": []
  },
  {
   "cell_type": "markdown",
   "id": "d3679b9b",
   "metadata": {},
   "source": [
    "### Deleting the CSV and the Data Folder"
   ]
  },
  {
   "cell_type": "markdown",
   "id": "62c01292",
   "metadata": {},
   "source": [
    "Cleaning out our downloaded files as we have the data in memory"
   ]
  },
  {
   "cell_type": "code",
   "execution_count": 884,
   "id": "5c84aeae",
   "metadata": {},
   "outputs": [],
   "source": [
    "#from pathlib import Path\n",
    "#import shutil\n",
    "\n",
    "#dirpath = 'data'\n",
    "\n",
    "#dirpath = Path(dirpath)\n",
    "#if dirpath.exists() and dirpath.is_dir():\n",
    "#    shutil.rmtree(dirpath)"
   ]
  },
  {
   "cell_type": "code",
   "execution_count": null,
   "id": "af5e99c1",
   "metadata": {},
   "outputs": [],
   "source": []
  },
  {
   "cell_type": "markdown",
   "id": "84c99813",
   "metadata": {},
   "source": [
    "### Saving our data to an SQL database\n",
    "\n",
    "In this section, we write queries to create the tables for our database. We end up with 7 tables in total:\n",
    "\n",
    "1. teams table\n",
    "2. players table\n",
    "3. team_players table\n",
    "4. ranking table\n",
    "5. games table\n",
    "6. games_details table"
   ]
  },
  {
   "cell_type": "markdown",
   "id": "4c07e6ce",
   "metadata": {},
   "source": [
    "#### Connecting to a database and Creating our Tables"
   ]
  },
  {
   "cell_type": "code",
   "execution_count": 885,
   "id": "b334eb55",
   "metadata": {},
   "outputs": [],
   "source": [
    "#Might change the bd to sql alchemy in the app"
   ]
  },
  {
   "cell_type": "code",
   "execution_count": 886,
   "id": "d46d553a",
   "metadata": {},
   "outputs": [],
   "source": [
    "import sqlalchemy\n",
    "from sqlalchemy import create_engine\n",
    "\n",
    "database_filename = 'testdb.db'\n",
    "\n",
    "engine = create_engine('sqlite:///'+database_filename)\n",
    "\n",
    "# get a cursor\n",
    "cur = engine.connect()"
   ]
  },
  {
   "cell_type": "code",
   "execution_count": 888,
   "id": "f844c679",
   "metadata": {},
   "outputs": [
    {
     "data": {
      "text/plain": [
       "<sqlalchemy.engine.cursor.LegacyCursorResult at 0x7f8669545100>"
      ]
     },
     "execution_count": 888,
     "metadata": {},
     "output_type": "execute_result"
    }
   ],
   "source": [
    "#1. Teams Table\n",
    "cur.execute(\"DROP TABLE IF EXISTS teams\")\n",
    "cur.execute(f'''CREATE TABLE teams (team_id INT, \n",
    "                                    league_id INT,\n",
    "                                    min_year INT,\n",
    "                                    max_year INT,\n",
    "                                    abbreviation VARCHAR(60),\n",
    "                                    nickname VARCHAR(60),\n",
    "                                    city VARCHAR(100),\n",
    "                                    arena VARCHAR(100),\n",
    "                                    arena_capacity FLOAT,\n",
    "                                    owner VARCHAR(100),\n",
    "                                    generalmanager VARCHAR(100),\n",
    "                                    headcoach VARCHAR(100),\n",
    "                                    d_league_affiliation VARCHAR(100),\n",
    "                PRIMARY KEY (team_id));''')"
   ]
  },
  {
   "cell_type": "code",
   "execution_count": 889,
   "id": "9cdf41f4",
   "metadata": {},
   "outputs": [
    {
     "data": {
      "text/plain": [
       "<sqlalchemy.engine.cursor.LegacyCursorResult at 0x7f8666589c40>"
      ]
     },
     "execution_count": 889,
     "metadata": {},
     "output_type": "execute_result"
    }
   ],
   "source": [
    "#3. Players Table\n",
    "cur.execute(\"DROP TABLE IF EXISTS players\")\n",
    "cur.execute(f'''CREATE TABLE players (player_id TEXT NOT NULL,\n",
    "                                      player_name VARCHAR(60),\n",
    "                PRIMARY KEY (player_id));''')"
   ]
  },
  {
   "cell_type": "code",
   "execution_count": 890,
   "id": "949ab001",
   "metadata": {},
   "outputs": [
    {
     "data": {
      "text/plain": [
       "<sqlalchemy.engine.cursor.LegacyCursorResult at 0x7f86106525b0>"
      ]
     },
     "execution_count": 890,
     "metadata": {},
     "output_type": "execute_result"
    }
   ],
   "source": [
    "#4. Team_Players Table\n",
    "cur.execute(\"DROP TABLE IF EXISTS team_players\")\n",
    "cur.execute(f'''CREATE TABLE team_players (id INTEGER,\n",
    "                                           player_id INT NOT NULL,\n",
    "                                           team_id INT NOT NULL,\n",
    "                                           season INT,\n",
    "                PRIMARY KEY (id),\n",
    "                CONSTRAINT 'player_fk' FOREIGN KEY (player_id) REFERENCES players (player_id)\n",
    "                CONSTRAINT 'teams_fk' FOREIGN KEY (team_id) REFERENCES teams (team_id));''')"
   ]
  },
  {
   "cell_type": "code",
   "execution_count": 891,
   "id": "998101b6",
   "metadata": {},
   "outputs": [
    {
     "data": {
      "text/plain": [
       "<sqlalchemy.engine.cursor.LegacyCursorResult at 0x7f8663519f40>"
      ]
     },
     "execution_count": 891,
     "metadata": {},
     "output_type": "execute_result"
    }
   ],
   "source": [
    "#5. Rankings Table\n",
    "cur.execute(\"DROP TABLE IF EXISTS rankings\")\n",
    "cur.execute(f'''CREATE TABLE rankings (rank_id INT,\n",
    "                                       team_id INT,\n",
    "                                       season_id INT,\n",
    "                                       standings_date DATE,\n",
    "                                       conference VARCHAR(60),\n",
    "                                       games INT,\n",
    "                                       wins INT,\n",
    "                                       loses INT,\n",
    "                                       home_record VARCHAR(10),\n",
    "                                       road_record VARCHAR(10),\n",
    "                                       return_to_play VARCHAR(10),\n",
    "                PRIMARY KEY (rank_id),\n",
    "                CONSTRAINT 'teams_fk' FOREIGN KEY (team_id) REFERENCES teams (team_id));''')"
   ]
  },
  {
   "cell_type": "code",
   "execution_count": 892,
   "id": "ad8c2d66",
   "metadata": {},
   "outputs": [
    {
     "data": {
      "text/plain": [
       "<sqlalchemy.engine.cursor.LegacyCursorResult at 0x7f866763c880>"
      ]
     },
     "execution_count": 892,
     "metadata": {},
     "output_type": "execute_result"
    }
   ],
   "source": [
    "#6. Games Table\n",
    "cur.execute(\"DROP TABLE IF EXISTS games\")\n",
    "cur.execute(f'''CREATE TABLE games (game_id INT,\n",
    "                                    game_date_est DATE,\n",
    "                                    home_team_id INT,\n",
    "                                    visitor_team_id INT,\n",
    "                                    game_status_text VARCHAR(60),\n",
    "                                    season INT,\n",
    "                PRIMARY KEY (game_id),\n",
    "                CONSTRAINT 'teams_fk' FOREIGN KEY (home_team_id) REFERENCES teams (team_id),\n",
    "                CONSTRAINT 'teams_fk' FOREIGN KEY (visitor_team_id) REFERENCES teams (team_id));''')"
   ]
  },
  {
   "cell_type": "code",
   "execution_count": 893,
   "id": "69ed7a07",
   "metadata": {},
   "outputs": [
    {
     "data": {
      "text/plain": [
       "<sqlalchemy.engine.cursor.LegacyCursorResult at 0x7f8605974e50>"
      ]
     },
     "execution_count": 893,
     "metadata": {},
     "output_type": "execute_result"
    }
   ],
   "source": [
    "#7. Games Details\n",
    "cur.execute(\"DROP TABLE IF EXISTS details\")\n",
    "cur.execute(f'''CREATE TABLE details (stat_id INT,\n",
    "                                            game_id INT,\n",
    "                                            team_id INT,\n",
    "                                            player_id INT,\n",
    "                                            comment VARCHAR(300) DEFAULT 'Empty Comment',\n",
    "                                            minute VARCHAR(10),\n",
    "                                            field_g_made FLOAT,\n",
    "                                            field_g_attempts FLOAT,\n",
    "                                            field_g3_made FLOAT,\n",
    "                                            field_g3_attempts FLOAT,\n",
    "                                            free_throws_made FLOAT,\n",
    "                                            free_throw_attempts FLOAT,\n",
    "                                            off_rebound FLOAT,\n",
    "                                            def_rebound FLOAT,\n",
    "                                            assist FLOAT,\n",
    "                                            steal FLOAT,\n",
    "                                            block FLOAT,\n",
    "                                            turnover FLOAT,\n",
    "                                            personal_foul FLOAT,\n",
    "                                            points FLOAT,\n",
    "                                            plus_minus REAL,\n",
    "                PRIMARY KEY (stat_id),\n",
    "                CONSTRAINT 'games_fk' FOREIGN KEY (game_id) REFERENCES games (game_id),\n",
    "                CONSTRAINT 'players_fk' FOREIGN KEY (player_id) REFERENCES teams (player_id),\n",
    "                CONSTRAINT 'players_fk' FOREIGN KEY (team_id) REFERENCES teams (team_id)\n",
    "                );''')"
   ]
  },
  {
   "cell_type": "markdown",
   "id": "84fd498c",
   "metadata": {},
   "source": [
    "#### Writing Our Data To Tables"
   ]
  },
  {
   "cell_type": "code",
   "execution_count": 894,
   "id": "cd6eebaf",
   "metadata": {},
   "outputs": [],
   "source": [
    "teams.to_sql('teams', engine, index=False, if_exists='append')\n",
    "\n",
    "players.to_sql('players', engine, index=False, if_exists='append')\n",
    "\n",
    "team_players.to_sql('team_players', engine, index=False, if_exists='append')\n",
    "\n",
    "ranking.to_sql('rankings', engine, index=False, if_exists='append')\n",
    "\n",
    "games.to_sql('games', engine, index=False, if_exists='append')\n",
    "\n",
    "games_details.to_sql('details', engine, index=False, if_exists='append')"
   ]
  },
  {
   "cell_type": "code",
   "execution_count": 895,
   "id": "61a29c06",
   "metadata": {},
   "outputs": [
    {
     "data": {
      "text/html": [
       "<div>\n",
       "<style scoped>\n",
       "    .dataframe tbody tr th:only-of-type {\n",
       "        vertical-align: middle;\n",
       "    }\n",
       "\n",
       "    .dataframe tbody tr th {\n",
       "        vertical-align: top;\n",
       "    }\n",
       "\n",
       "    .dataframe thead th {\n",
       "        text-align: right;\n",
       "    }\n",
       "</style>\n",
       "<table border=\"1\" class=\"dataframe\">\n",
       "  <thead>\n",
       "    <tr style=\"text-align: right;\">\n",
       "      <th></th>\n",
       "      <th>stat_id</th>\n",
       "      <th>game_id</th>\n",
       "      <th>team_id</th>\n",
       "      <th>player_id</th>\n",
       "      <th>comment</th>\n",
       "      <th>minute</th>\n",
       "      <th>field_g_made</th>\n",
       "      <th>field_g_attempts</th>\n",
       "      <th>field_g3_made</th>\n",
       "      <th>field_g3_attempts</th>\n",
       "      <th>...</th>\n",
       "      <th>free_throw_attempts</th>\n",
       "      <th>off_rebound</th>\n",
       "      <th>def_rebound</th>\n",
       "      <th>assist</th>\n",
       "      <th>steal</th>\n",
       "      <th>block</th>\n",
       "      <th>turnover</th>\n",
       "      <th>personal_foul</th>\n",
       "      <th>points</th>\n",
       "      <th>plus_minus</th>\n",
       "    </tr>\n",
       "  </thead>\n",
       "  <tbody>\n",
       "    <tr>\n",
       "      <th>0</th>\n",
       "      <td>None</td>\n",
       "      <td>12000047</td>\n",
       "      <td>1610612766</td>\n",
       "      <td>1628998</td>\n",
       "      <td>None</td>\n",
       "      <td>17:06</td>\n",
       "      <td>0.0</td>\n",
       "      <td>2.0</td>\n",
       "      <td>0.0</td>\n",
       "      <td>1.0</td>\n",
       "      <td>...</td>\n",
       "      <td>0.0</td>\n",
       "      <td>0.0</td>\n",
       "      <td>2.0</td>\n",
       "      <td>1.0</td>\n",
       "      <td>0.0</td>\n",
       "      <td>1.0</td>\n",
       "      <td>1.0</td>\n",
       "      <td>2.0</td>\n",
       "      <td>0.0</td>\n",
       "      <td>-31.0</td>\n",
       "    </tr>\n",
       "    <tr>\n",
       "      <th>1</th>\n",
       "      <td>None</td>\n",
       "      <td>12000047</td>\n",
       "      <td>1610612766</td>\n",
       "      <td>1629023</td>\n",
       "      <td>None</td>\n",
       "      <td>24:58</td>\n",
       "      <td>4.0</td>\n",
       "      <td>17.0</td>\n",
       "      <td>0.0</td>\n",
       "      <td>3.0</td>\n",
       "      <td>...</td>\n",
       "      <td>2.0</td>\n",
       "      <td>1.0</td>\n",
       "      <td>6.0</td>\n",
       "      <td>2.0</td>\n",
       "      <td>2.0</td>\n",
       "      <td>1.0</td>\n",
       "      <td>5.0</td>\n",
       "      <td>3.0</td>\n",
       "      <td>9.0</td>\n",
       "      <td>-2.0</td>\n",
       "    </tr>\n",
       "    <tr>\n",
       "      <th>2</th>\n",
       "      <td>None</td>\n",
       "      <td>12000047</td>\n",
       "      <td>1610612766</td>\n",
       "      <td>203469</td>\n",
       "      <td>None</td>\n",
       "      <td>22:45</td>\n",
       "      <td>5.0</td>\n",
       "      <td>8.0</td>\n",
       "      <td>1.0</td>\n",
       "      <td>1.0</td>\n",
       "      <td>...</td>\n",
       "      <td>2.0</td>\n",
       "      <td>2.0</td>\n",
       "      <td>2.0</td>\n",
       "      <td>0.0</td>\n",
       "      <td>0.0</td>\n",
       "      <td>1.0</td>\n",
       "      <td>0.0</td>\n",
       "      <td>2.0</td>\n",
       "      <td>13.0</td>\n",
       "      <td>-23.0</td>\n",
       "    </tr>\n",
       "    <tr>\n",
       "      <th>3</th>\n",
       "      <td>None</td>\n",
       "      <td>12000047</td>\n",
       "      <td>1610612766</td>\n",
       "      <td>1628984</td>\n",
       "      <td>None</td>\n",
       "      <td>31:30</td>\n",
       "      <td>8.0</td>\n",
       "      <td>15.0</td>\n",
       "      <td>6.0</td>\n",
       "      <td>11.0</td>\n",
       "      <td>...</td>\n",
       "      <td>3.0</td>\n",
       "      <td>1.0</td>\n",
       "      <td>3.0</td>\n",
       "      <td>3.0</td>\n",
       "      <td>2.0</td>\n",
       "      <td>0.0</td>\n",
       "      <td>4.0</td>\n",
       "      <td>0.0</td>\n",
       "      <td>25.0</td>\n",
       "      <td>-7.0</td>\n",
       "    </tr>\n",
       "    <tr>\n",
       "      <th>4</th>\n",
       "      <td>None</td>\n",
       "      <td>12000047</td>\n",
       "      <td>1610612766</td>\n",
       "      <td>1626179</td>\n",
       "      <td>None</td>\n",
       "      <td>26:48</td>\n",
       "      <td>8.0</td>\n",
       "      <td>14.0</td>\n",
       "      <td>5.0</td>\n",
       "      <td>9.0</td>\n",
       "      <td>...</td>\n",
       "      <td>3.0</td>\n",
       "      <td>1.0</td>\n",
       "      <td>4.0</td>\n",
       "      <td>6.0</td>\n",
       "      <td>1.0</td>\n",
       "      <td>0.0</td>\n",
       "      <td>0.0</td>\n",
       "      <td>2.0</td>\n",
       "      <td>24.0</td>\n",
       "      <td>22.0</td>\n",
       "    </tr>\n",
       "  </tbody>\n",
       "</table>\n",
       "<p>5 rows × 21 columns</p>\n",
       "</div>"
      ],
      "text/plain": [
       "  stat_id   game_id     team_id  player_id comment minute  field_g_made  \\\n",
       "0    None  12000047  1610612766    1628998    None  17:06           0.0   \n",
       "1    None  12000047  1610612766    1629023    None  24:58           4.0   \n",
       "2    None  12000047  1610612766     203469    None  22:45           5.0   \n",
       "3    None  12000047  1610612766    1628984    None  31:30           8.0   \n",
       "4    None  12000047  1610612766    1626179    None  26:48           8.0   \n",
       "\n",
       "   field_g_attempts  field_g3_made  field_g3_attempts  ...  \\\n",
       "0               2.0            0.0                1.0  ...   \n",
       "1              17.0            0.0                3.0  ...   \n",
       "2               8.0            1.0                1.0  ...   \n",
       "3              15.0            6.0               11.0  ...   \n",
       "4              14.0            5.0                9.0  ...   \n",
       "\n",
       "   free_throw_attempts  off_rebound  def_rebound  assist  steal  block  \\\n",
       "0                  0.0          0.0          2.0     1.0    0.0    1.0   \n",
       "1                  2.0          1.0          6.0     2.0    2.0    1.0   \n",
       "2                  2.0          2.0          2.0     0.0    0.0    1.0   \n",
       "3                  3.0          1.0          3.0     3.0    2.0    0.0   \n",
       "4                  3.0          1.0          4.0     6.0    1.0    0.0   \n",
       "\n",
       "   turnover  personal_foul  points  plus_minus  \n",
       "0       1.0            2.0     0.0       -31.0  \n",
       "1       5.0            3.0     9.0        -2.0  \n",
       "2       0.0            2.0    13.0       -23.0  \n",
       "3       4.0            0.0    25.0        -7.0  \n",
       "4       0.0            2.0    24.0        22.0  \n",
       "\n",
       "[5 rows x 21 columns]"
      ]
     },
     "execution_count": 895,
     "metadata": {},
     "output_type": "execute_result"
    }
   ],
   "source": [
    "gs = pd.read_sql('SELECT * from details', engine).head()\n",
    "gs.head()"
   ]
  },
  {
   "cell_type": "code",
   "execution_count": 896,
   "id": "b1ffa621",
   "metadata": {},
   "outputs": [
    {
     "data": {
      "text/html": [
       "<div>\n",
       "<style scoped>\n",
       "    .dataframe tbody tr th:only-of-type {\n",
       "        vertical-align: middle;\n",
       "    }\n",
       "\n",
       "    .dataframe tbody tr th {\n",
       "        vertical-align: top;\n",
       "    }\n",
       "\n",
       "    .dataframe thead th {\n",
       "        text-align: right;\n",
       "    }\n",
       "</style>\n",
       "<table border=\"1\" class=\"dataframe\">\n",
       "  <thead>\n",
       "    <tr style=\"text-align: right;\">\n",
       "      <th></th>\n",
       "      <th>stat_id</th>\n",
       "      <th>game_id</th>\n",
       "      <th>team_id</th>\n",
       "      <th>player_id</th>\n",
       "      <th>comment</th>\n",
       "      <th>minute</th>\n",
       "      <th>field_g_made</th>\n",
       "      <th>field_g_attempts</th>\n",
       "      <th>field_g3_made</th>\n",
       "      <th>field_g3_attempts</th>\n",
       "      <th>...</th>\n",
       "      <th>free_throw_attempts</th>\n",
       "      <th>off_rebound</th>\n",
       "      <th>def_rebound</th>\n",
       "      <th>assist</th>\n",
       "      <th>steal</th>\n",
       "      <th>block</th>\n",
       "      <th>turnover</th>\n",
       "      <th>personal_foul</th>\n",
       "      <th>points</th>\n",
       "      <th>plus_minus</th>\n",
       "    </tr>\n",
       "  </thead>\n",
       "  <tbody>\n",
       "    <tr>\n",
       "      <th>0</th>\n",
       "      <td>None</td>\n",
       "      <td>12000047</td>\n",
       "      <td>1610612766</td>\n",
       "      <td>1628998</td>\n",
       "      <td>None</td>\n",
       "      <td>17:06</td>\n",
       "      <td>0.0</td>\n",
       "      <td>2.0</td>\n",
       "      <td>0.0</td>\n",
       "      <td>1.0</td>\n",
       "      <td>...</td>\n",
       "      <td>0.0</td>\n",
       "      <td>0.0</td>\n",
       "      <td>2.0</td>\n",
       "      <td>1.0</td>\n",
       "      <td>0.0</td>\n",
       "      <td>1.0</td>\n",
       "      <td>1.0</td>\n",
       "      <td>2.0</td>\n",
       "      <td>0.0</td>\n",
       "      <td>-31.0</td>\n",
       "    </tr>\n",
       "    <tr>\n",
       "      <th>1</th>\n",
       "      <td>None</td>\n",
       "      <td>12000047</td>\n",
       "      <td>1610612766</td>\n",
       "      <td>1629023</td>\n",
       "      <td>None</td>\n",
       "      <td>24:58</td>\n",
       "      <td>4.0</td>\n",
       "      <td>17.0</td>\n",
       "      <td>0.0</td>\n",
       "      <td>3.0</td>\n",
       "      <td>...</td>\n",
       "      <td>2.0</td>\n",
       "      <td>1.0</td>\n",
       "      <td>6.0</td>\n",
       "      <td>2.0</td>\n",
       "      <td>2.0</td>\n",
       "      <td>1.0</td>\n",
       "      <td>5.0</td>\n",
       "      <td>3.0</td>\n",
       "      <td>9.0</td>\n",
       "      <td>-2.0</td>\n",
       "    </tr>\n",
       "    <tr>\n",
       "      <th>2</th>\n",
       "      <td>None</td>\n",
       "      <td>12000047</td>\n",
       "      <td>1610612766</td>\n",
       "      <td>203469</td>\n",
       "      <td>None</td>\n",
       "      <td>22:45</td>\n",
       "      <td>5.0</td>\n",
       "      <td>8.0</td>\n",
       "      <td>1.0</td>\n",
       "      <td>1.0</td>\n",
       "      <td>...</td>\n",
       "      <td>2.0</td>\n",
       "      <td>2.0</td>\n",
       "      <td>2.0</td>\n",
       "      <td>0.0</td>\n",
       "      <td>0.0</td>\n",
       "      <td>1.0</td>\n",
       "      <td>0.0</td>\n",
       "      <td>2.0</td>\n",
       "      <td>13.0</td>\n",
       "      <td>-23.0</td>\n",
       "    </tr>\n",
       "    <tr>\n",
       "      <th>3</th>\n",
       "      <td>None</td>\n",
       "      <td>12000047</td>\n",
       "      <td>1610612766</td>\n",
       "      <td>1628984</td>\n",
       "      <td>None</td>\n",
       "      <td>31:30</td>\n",
       "      <td>8.0</td>\n",
       "      <td>15.0</td>\n",
       "      <td>6.0</td>\n",
       "      <td>11.0</td>\n",
       "      <td>...</td>\n",
       "      <td>3.0</td>\n",
       "      <td>1.0</td>\n",
       "      <td>3.0</td>\n",
       "      <td>3.0</td>\n",
       "      <td>2.0</td>\n",
       "      <td>0.0</td>\n",
       "      <td>4.0</td>\n",
       "      <td>0.0</td>\n",
       "      <td>25.0</td>\n",
       "      <td>-7.0</td>\n",
       "    </tr>\n",
       "    <tr>\n",
       "      <th>4</th>\n",
       "      <td>None</td>\n",
       "      <td>12000047</td>\n",
       "      <td>1610612766</td>\n",
       "      <td>1626179</td>\n",
       "      <td>None</td>\n",
       "      <td>26:48</td>\n",
       "      <td>8.0</td>\n",
       "      <td>14.0</td>\n",
       "      <td>5.0</td>\n",
       "      <td>9.0</td>\n",
       "      <td>...</td>\n",
       "      <td>3.0</td>\n",
       "      <td>1.0</td>\n",
       "      <td>4.0</td>\n",
       "      <td>6.0</td>\n",
       "      <td>1.0</td>\n",
       "      <td>0.0</td>\n",
       "      <td>0.0</td>\n",
       "      <td>2.0</td>\n",
       "      <td>24.0</td>\n",
       "      <td>22.0</td>\n",
       "    </tr>\n",
       "  </tbody>\n",
       "</table>\n",
       "<p>5 rows × 21 columns</p>\n",
       "</div>"
      ],
      "text/plain": [
       "  stat_id   game_id     team_id  player_id comment minute  field_g_made  \\\n",
       "0    None  12000047  1610612766    1628998    None  17:06           0.0   \n",
       "1    None  12000047  1610612766    1629023    None  24:58           4.0   \n",
       "2    None  12000047  1610612766     203469    None  22:45           5.0   \n",
       "3    None  12000047  1610612766    1628984    None  31:30           8.0   \n",
       "4    None  12000047  1610612766    1626179    None  26:48           8.0   \n",
       "\n",
       "   field_g_attempts  field_g3_made  field_g3_attempts  ...  \\\n",
       "0               2.0            0.0                1.0  ...   \n",
       "1              17.0            0.0                3.0  ...   \n",
       "2               8.0            1.0                1.0  ...   \n",
       "3              15.0            6.0               11.0  ...   \n",
       "4              14.0            5.0                9.0  ...   \n",
       "\n",
       "   free_throw_attempts  off_rebound  def_rebound  assist  steal  block  \\\n",
       "0                  0.0          0.0          2.0     1.0    0.0    1.0   \n",
       "1                  2.0          1.0          6.0     2.0    2.0    1.0   \n",
       "2                  2.0          2.0          2.0     0.0    0.0    1.0   \n",
       "3                  3.0          1.0          3.0     3.0    2.0    0.0   \n",
       "4                  3.0          1.0          4.0     6.0    1.0    0.0   \n",
       "\n",
       "   turnover  personal_foul  points  plus_minus  \n",
       "0       1.0            2.0     0.0       -31.0  \n",
       "1       5.0            3.0     9.0        -2.0  \n",
       "2       0.0            2.0    13.0       -23.0  \n",
       "3       4.0            0.0    25.0        -7.0  \n",
       "4       0.0            2.0    24.0        22.0  \n",
       "\n",
       "[5 rows x 21 columns]"
      ]
     },
     "execution_count": 896,
     "metadata": {},
     "output_type": "execute_result"
    }
   ],
   "source": [
    "gs2 = pd.read_sql('SELECT * from details', engine).head()\n",
    "gs2.head()"
   ]
  },
  {
   "cell_type": "code",
   "execution_count": null,
   "id": "1b60f66f",
   "metadata": {},
   "outputs": [],
   "source": []
  },
  {
   "cell_type": "code",
   "execution_count": null,
   "id": "626580d1",
   "metadata": {},
   "outputs": [],
   "source": []
  },
  {
   "cell_type": "code",
   "execution_count": null,
   "id": "a55f68ed",
   "metadata": {},
   "outputs": [],
   "source": []
  },
  {
   "cell_type": "code",
   "execution_count": null,
   "id": "fa818ddb",
   "metadata": {},
   "outputs": [],
   "source": []
  },
  {
   "cell_type": "markdown",
   "id": "225794b3",
   "metadata": {},
   "source": [
    "## Part B: Calculating Player Efficiency"
   ]
  },
  {
   "cell_type": "markdown",
   "id": "3559307c",
   "metadata": {},
   "source": [
    "2. The best player in terms of productivity for each week of the selected season (each point/rebound/assist counts the same) Derived from this Wikipedia link, [Efficiency in Basketball Wiki](https://en.wikipedia.org/wiki/Efficiency_(basketball) , given a season, we can calculate:\n",
    " - (PTS + REB + AST + STL + BLK − (Missed_FG + Missed_FT + TO)) / GP"
   ]
  },
  {
   "cell_type": "code",
   "execution_count": 897,
   "id": "d59015c2",
   "metadata": {
    "scrolled": true
   },
   "outputs": [],
   "source": [
    "def show_results(iterable, spacing=15):\n",
    "    \"\"\"\n",
    "    Prints the values from an iterable to the command line screen with spacing\n",
    "    \"\"\"\n",
    "    screen_print = '|   '\n",
    "    for value in iterable:\n",
    "        value = str(value)\n",
    "        screen_print += value\n",
    "        if len(value) < spacing:\n",
    "            screen_print += ' '*(spacing-len(value)) + '|'\n",
    "    print(screen_print)"
   ]
  },
  {
   "cell_type": "code",
   "execution_count": 898,
   "id": "c57d0641",
   "metadata": {
    "scrolled": true
   },
   "outputs": [
    {
     "name": "stdout",
     "output_type": "stream",
     "text": [
      "|   player_id      |efficiency     |player_name    |week_start     |week_end       |\n",
      "|   1740           |38.0           |Rashard Lewis  |2003-10-05     |2003-10-12     |\n",
      "|   1882           |38.0           |Elton Brand    |2003-10-26     |2003-11-02     |\n",
      "|   1894           |32.0           |Corey Maggette |2003-11-02     |2003-11-09     |\n",
      "|   708            |32.5           |Kevin Garnett  |2003-11-09     |2003-11-16     |\n",
      "|   708            |35.67          |Kevin Garnett  |2003-11-16     |2003-11-23     |\n",
      "|   708            |39.0           |Kevin Garnett  |2003-11-23     |2003-11-30     |\n",
      "|   708            |33.75          |Kevin Garnett  |2003-11-30     |2003-12-07     |\n",
      "|   708            |36.0           |Kevin Garnett  |2003-12-07     |2003-12-14     |\n",
      "|   708            |39.0           |Kevin Garnett  |2003-12-14     |2003-12-21     |\n",
      "|   708            |36.0           |Kevin Garnett  |2003-12-21     |2003-12-28     |\n",
      "|   708            |32.5           |Kevin Garnett  |2003-12-28     |2004-01-04     |\n",
      "|   708            |35.75          |Kevin Garnett  |2004-01-04     |2004-01-11     |\n",
      "|   1882           |29.5           |Elton Brand    |2004-01-11     |2004-01-18     |\n",
      "|   2430           |33.75          |Carlos Boozer  |2004-01-18     |2004-01-25     |\n",
      "|   708            |33.8           |Kevin Garnett  |2004-01-25     |2004-02-01     |\n",
      "|   708            |36.6           |Kevin Garnett  |2004-02-01     |2004-02-08     |\n",
      "|   708            |34.0           |Kevin Garnett  |2004-02-08     |2004-02-15     |\n",
      "|   977            |36.0           |Kobe Bryant    |2004-02-15     |2004-02-22     |\n",
      "|   977            |31.0           |Kobe Bryant    |2004-02-22     |2004-02-29     |\n",
      "|   708            |38.0           |Kevin Garnett  |2004-02-29     |2004-03-07     |\n",
      "|   980            |29.25          |Zydrunas Ilgauskas2004-03-07     |2004-03-14     |\n",
      "|   406            |31.8           |Shaquille O'Neal2004-03-14     |2004-03-21     |\n",
      "|   406            |34.0           |Shaquille O'Neal2004-03-21     |2004-03-28     |\n",
      "|   1717           |35.5           |Dirk Nowitzki  |2004-03-28     |2004-04-04     |\n",
      "|   708            |37.67          |Kevin Garnett  |2004-04-04     |2004-04-11     |\n",
      "|   708            |33.67          |Kevin Garnett  |2004-04-11     |2004-04-18     |\n",
      "|   708            |32.33          |Kevin Garnett  |2004-04-18     |2004-04-25     |\n",
      "|   2030           |43.0           |Kenyon Martin  |2004-04-25     |2004-05-02     |\n",
      "|   406            |33.67          |Shaquille O'Neal2004-05-02     |2004-05-09     |\n",
      "|   406            |31.0           |Shaquille O'Neal2004-05-09     |2004-05-16     |\n",
      "|   406            |29.67          |Shaquille O'Neal2004-05-16     |2004-05-23     |\n",
      "|   708            |31.0           |Kevin Garnett  |2004-05-23     |2004-05-30     |\n",
      "|   708            |31.5           |Kevin Garnett  |2004-05-30     |2004-06-06     |\n",
      "|   406            |28.5           |Shaquille O'Neal2004-06-06     |2004-06-13     |\n",
      "|   406            |29.0           |Shaquille O'Neal2004-06-13     |2004-06-20     |\n",
      "|   948            |33.0           |Marcus Camby   |2004-10-17     |2004-10-24     |\n",
      "|   1714           |23.0           |Unknown        |2004-10-24     |2004-10-31     |\n",
      "|   708            |41.0           |Kevin Garnett  |2004-10-31     |2004-11-07     |\n",
      "|   2548           |30.67          |Dwyane Wade    |2004-11-07     |2004-11-14     |\n",
      "|   708            |34.0           |Kevin Garnett  |2004-11-14     |2004-11-21     |\n",
      "|   708            |33.17          |Kevin Garnett  |2004-11-21     |2004-11-28     |\n",
      "|   1717           |35.5           |Dirk Nowitzki  |2004-11-28     |2004-12-05     |\n",
      "|   708            |35.4           |Kevin Garnett  |2004-12-05     |2004-12-12     |\n",
      "|   947            |31.25          |Allen Iverson  |2004-12-12     |2004-12-19     |\n",
      "|   947            |37.0           |Allen Iverson  |2004-12-19     |2004-12-26     |\n",
      "|   708            |33.0           |Kevin Garnett  |2004-12-26     |2005-01-02     |\n",
      "|   708            |39.8           |Kevin Garnett  |2005-01-02     |2005-01-09     |\n",
      "|   1717           |32.25          |Dirk Nowitzki  |2005-01-09     |2005-01-16     |\n",
      "|   2544           |31.2           |LeBron James   |2005-01-16     |2005-01-23     |\n",
      "|   2544           |36.0           |LeBron James   |2005-01-23     |2005-01-30     |\n",
      "|   1713           |32.0           |Vince Carter   |2005-01-30     |2005-02-06     |\n",
      "|   1717           |30.75          |Dirk Nowitzki  |2005-02-06     |2005-02-13     |\n",
      "|   1717           |32.67          |Dirk Nowitzki  |2005-02-13     |2005-02-20     |\n",
      "|   1495           |34.0           |Tim Duncan     |2005-02-20     |2005-02-27     |\n",
      "|   708            |33.25          |Kevin Garnett  |2005-02-27     |2005-03-06     |\n",
      "|   1510           |37.0           |Unknown        |2005-03-06     |2005-03-13     |\n",
      "|   708            |32.6           |Kevin Garnett  |2005-03-13     |2005-03-20     |\n",
      "|   406            |32.0           |Shaquille O'Neal2005-03-20     |2005-03-27     |\n",
      "|   406            |31.25          |Shaquille O'Neal2005-03-27     |2005-04-03     |\n",
      "|   406            |42.0           |Shaquille O'Neal2005-04-03     |2005-04-10     |\n",
      "|   708            |32.25          |Kevin Garnett  |2005-04-10     |2005-04-17     |\n",
      "|   2544           |28.33          |LeBron James   |2005-04-17     |2005-04-24     |\n",
      "|   2548           |28.0           |Dwyane Wade    |2005-04-24     |2005-05-01     |\n",
      "|   1890           |34.0           |Shawn Marion   |2005-05-01     |2005-05-08     |\n",
      "|   2397           |37.0           |Yao Ming       |2005-05-08     |2005-05-15     |\n",
      "|   2548           |40.0           |Dwyane Wade    |2005-05-15     |2005-05-22     |\n",
      "|   1495           |34.67          |Tim Duncan     |2005-05-22     |2005-05-29     |\n",
      "|   2405           |32.33          |Amar'e Stoudemire2005-05-29     |2005-06-05     |\n",
      "|   1938           |29.0           |Manu Ginobili  |2005-06-05     |2005-06-12     |\n",
      "|   1495           |23.0           |Tim Duncan     |2005-06-12     |2005-06-19     |\n",
      "|   1495           |24.0           |Tim Duncan     |2005-06-19     |2005-06-26     |\n"
     ]
    }
   ],
   "source": [
    "from sqlalchemy import create_engine\n",
    "import pandas as pd\n",
    "import numpy as np\n",
    "\n",
    "engine = create_engine('sqlite:///'+database_filename)\n",
    "\n",
    "statement_a = '''SELECT MIN(game_date_est) first, MAX(game_date_est) last from games'''\n",
    "\n",
    "dates_df = pd.read_sql(statement_a, engine)\n",
    "weeks = pd.date_range(*dates_df.values[0],freq=\"W\").strftime('%Y-%m-%d')\n",
    "\n",
    "selectors = ['points','def_rebound','off_rebound','assist','steal',\n",
    "             'block','free_throws_made','field_g_made','field_g3_made',\n",
    "             'free_throw_attempts','field_g_attempts','field_g3_attempts',\n",
    "             'turnover','game_id']\n",
    "\n",
    "show_results(['player_id','efficiency','player_name','week_start','week_end'])\n",
    "\n",
    "for idx in range(100): #range(len(weeks)-1):\n",
    "    query = '''SELECT player_id,\n",
    "    ROUND((SUM({}) + SUM({}) + SUM({}) + SUM({}) + SUM({}) + SUM({}) + \n",
    "    SUM({}) + SUM({}) + SUM({}) - SUM({}) - SUM({})  - SUM({}) - SUM({})) / COUNT({}),2) efficiency\n",
    "    FROM\n",
    "        (SELECT * FROM \n",
    "         details d JOIN games g ON g.game_id = d.game_id\n",
    "         WHERE g.game_date_est\n",
    "         BETWEEN date('{}','-1 day') AND date('{}','+1 day'))\n",
    "    GROUP BY player_id\n",
    "    ORDER BY efficiency DESC\n",
    "    LIMIT 1;'''.format(*selectors, weeks[idx], weeks[idx+1])\n",
    "  \n",
    "    result = pd.read_sql(query, engine)\n",
    "    if result.shape[0] > 0:\n",
    "        query_b = f'''SELECT player_name FROM players WHERE player_id={result.player_id[0]}'''\n",
    "        player = pd.read_sql(query_b, engine)\n",
    "        try:\n",
    "            player = player.player_name[0] if len(player)>0 else 'Unknown'\n",
    "            result[['player_name','week_start','week_end']] = [player, weeks[idx], weeks[idx+1]]\n",
    "            show_results(result.values[0])\n",
    "            efficiency = pd.concat([efficiency,result])\n",
    "        except NameError:\n",
    "            efficiency = result.copy()\n",
    "            \n",
    "results = efficiency.reset_index(drop=True)\n",
    "del efficiency"
   ]
  },
  {
   "cell_type": "code",
   "execution_count": 899,
   "id": "bce985ad",
   "metadata": {
    "scrolled": true
   },
   "outputs": [
    {
     "data": {
      "text/html": [
       "<div>\n",
       "<style scoped>\n",
       "    .dataframe tbody tr th:only-of-type {\n",
       "        vertical-align: middle;\n",
       "    }\n",
       "\n",
       "    .dataframe tbody tr th {\n",
       "        vertical-align: top;\n",
       "    }\n",
       "\n",
       "    .dataframe thead th {\n",
       "        text-align: right;\n",
       "    }\n",
       "</style>\n",
       "<table border=\"1\" class=\"dataframe\">\n",
       "  <thead>\n",
       "    <tr style=\"text-align: right;\">\n",
       "      <th></th>\n",
       "      <th>player_id</th>\n",
       "      <th>efficiency</th>\n",
       "      <th>player_name</th>\n",
       "      <th>week_start</th>\n",
       "      <th>week_end</th>\n",
       "    </tr>\n",
       "  </thead>\n",
       "  <tbody>\n",
       "    <tr>\n",
       "      <th>0</th>\n",
       "      <td>1740</td>\n",
       "      <td>38.00</td>\n",
       "      <td>Rashard Lewis</td>\n",
       "      <td>2003-10-05</td>\n",
       "      <td>2003-10-12</td>\n",
       "    </tr>\n",
       "    <tr>\n",
       "      <th>1</th>\n",
       "      <td>1882</td>\n",
       "      <td>38.00</td>\n",
       "      <td>Elton Brand</td>\n",
       "      <td>2003-10-26</td>\n",
       "      <td>2003-11-02</td>\n",
       "    </tr>\n",
       "    <tr>\n",
       "      <th>2</th>\n",
       "      <td>1894</td>\n",
       "      <td>32.00</td>\n",
       "      <td>Corey Maggette</td>\n",
       "      <td>2003-11-02</td>\n",
       "      <td>2003-11-09</td>\n",
       "    </tr>\n",
       "    <tr>\n",
       "      <th>3</th>\n",
       "      <td>708</td>\n",
       "      <td>32.50</td>\n",
       "      <td>Kevin Garnett</td>\n",
       "      <td>2003-11-09</td>\n",
       "      <td>2003-11-16</td>\n",
       "    </tr>\n",
       "    <tr>\n",
       "      <th>4</th>\n",
       "      <td>708</td>\n",
       "      <td>35.67</td>\n",
       "      <td>Kevin Garnett</td>\n",
       "      <td>2003-11-16</td>\n",
       "      <td>2003-11-23</td>\n",
       "    </tr>\n",
       "  </tbody>\n",
       "</table>\n",
       "</div>"
      ],
      "text/plain": [
       "   player_id  efficiency     player_name  week_start    week_end\n",
       "0       1740       38.00   Rashard Lewis  2003-10-05  2003-10-12\n",
       "1       1882       38.00     Elton Brand  2003-10-26  2003-11-02\n",
       "2       1894       32.00  Corey Maggette  2003-11-02  2003-11-09\n",
       "3        708       32.50   Kevin Garnett  2003-11-09  2003-11-16\n",
       "4        708       35.67   Kevin Garnett  2003-11-16  2003-11-23"
      ]
     },
     "execution_count": 899,
     "metadata": {},
     "output_type": "execute_result"
    }
   ],
   "source": [
    "results.head()"
   ]
  },
  {
   "cell_type": "code",
   "execution_count": null,
   "id": "b20078ae",
   "metadata": {
    "scrolled": true
   },
   "outputs": [],
   "source": []
  },
  {
   "cell_type": "code",
   "execution_count": null,
   "id": "beb2c5e8",
   "metadata": {
    "scrolled": true
   },
   "outputs": [],
   "source": []
  },
  {
   "cell_type": "code",
   "execution_count": null,
   "id": "a2930613",
   "metadata": {
    "scrolled": true
   },
   "outputs": [],
   "source": []
  },
  {
   "cell_type": "code",
   "execution_count": null,
   "id": "1639f290",
   "metadata": {
    "scrolled": true
   },
   "outputs": [],
   "source": []
  },
  {
   "cell_type": "markdown",
   "id": "1898bb9b",
   "metadata": {},
   "source": [
    "## Part C: Making Predictions with Our Data"
   ]
  },
  {
   "cell_type": "markdown",
   "id": "05a09761",
   "metadata": {},
   "source": [
    "2. Prediction of a match result between two teams\n",
    "\n",
    "- Prediction of a match result between two teams (the prediction model is up to you to create, the more interesting, the best)\n",
    "- (Exterior) The program can be web facing (FLASK) or command line only\n",
    "\n",
    "Predicting the winner of a match is scenario dependent and there are a number of ways which we can make that predition based on the available data. We can:\n",
    "  1. Predict the winner of an ongoing match:<br>\n",
    "            This approach uses data and statistics from the season, current match statistics and player stats.\n",
    "\n",
    "  2. Predict the winner of a match mid-season:<br>\n",
    "            This approach uses previous match data to predict the winner and is season dependent.\n",
    "\n",
    "  3. Predict the winner of a match pre-season:<br>\n",
    "            This approach uses data and statistics from the previous season to predict the winner.\n",
    "            \n",
    "To predict the winner in this notebook, we will be using the first scenario."
   ]
  },
  {
   "cell_type": "code",
   "execution_count": 900,
   "id": "1eafe096",
   "metadata": {},
   "outputs": [],
   "source": [
    "#Notes for statistics we have deleted\n",
    "\n",
    "#points  home/away , calc: gsd.groupby(['GAME_ID','TEAM_ID'])['PTS'].sum()  PTS\n",
    "#rebound home/away, calc: gsd.groupby([GAME_ID,'TEAM_ID'])['REB'].sum()     REB\n",
    "#assists home/away, calc: gsd.groupby([GAME_ID,'TEAM_ID'])['AST'].sum()     AST\n",
    "\n",
    "#percentage summaries:    gsd.groupby(['GAME_ID','TEAM_ID'])[[\n",
    "#fg_pct home/away, calc: GM/GA         'FGM','FGA',                         FIELDGOAL% \n",
    "#fg3_pct home/away, calc: G3M/G3A      'FG3M', 'FG3A',                      FIELDGOAL3PTS%\n",
    "#ft3_pct home/away, calc: TM/TA        'FTM', 'FTA']].sum().reset_index()   FREETHROW%\n",
    "\n",
    "#rankings[w_pct] , calc: ranking[W_PCT] = ranking['W'] / ranking['G'] #Divide by 0 possible\n",
    "\n",
    "#'REB' calc: games_details['REB'] = games_details['OREB'] + games_details['DREB']  TOTAL REBOUNDS"
   ]
  },
  {
   "cell_type": "code",
   "execution_count": 901,
   "id": "380dbe3a",
   "metadata": {},
   "outputs": [],
   "source": [
    "from sqlalchemy import create_engine\n",
    "import pandas as pd\n",
    "\n",
    "engine = create_engine('sqlite:///'+database_filename)"
   ]
  },
  {
   "cell_type": "code",
   "execution_count": 902,
   "id": "333166d3",
   "metadata": {},
   "outputs": [],
   "source": [
    "games = pd.read_sql('SELECT * FROM games ORDER BY game_id', engine)"
   ]
  },
  {
   "cell_type": "code",
   "execution_count": 903,
   "id": "20113523",
   "metadata": {},
   "outputs": [],
   "source": [
    "team_details = pd.read_sql('''SELECT game_id, team_id,\n",
    "                SUM(assist) assist,\n",
    "                SUM(field_g_made) / SUM(field_g_attempts) field_g_pct,\n",
    "                SUM(field_g3_made) / SUM(field_g3_attempts) field_g3_pct,\n",
    "                SUM(free_throws_made) / SUM(free_throw_attempts) free_throw_pct,\n",
    "                SUM(off_rebound) + SUM(def_rebound) rebound,\n",
    "                SUM(points) points FROM details\n",
    "                GROUP BY game_id, team_id \n",
    "                ORDER BY game_id;\n",
    "            ''', engine)"
   ]
  },
  {
   "cell_type": "code",
   "execution_count": 904,
   "id": "b59901e0",
   "metadata": {},
   "outputs": [
    {
     "data": {
      "text/html": [
       "<div>\n",
       "<style scoped>\n",
       "    .dataframe tbody tr th:only-of-type {\n",
       "        vertical-align: middle;\n",
       "    }\n",
       "\n",
       "    .dataframe tbody tr th {\n",
       "        vertical-align: top;\n",
       "    }\n",
       "\n",
       "    .dataframe thead th {\n",
       "        text-align: right;\n",
       "    }\n",
       "</style>\n",
       "<table border=\"1\" class=\"dataframe\">\n",
       "  <thead>\n",
       "    <tr style=\"text-align: right;\">\n",
       "      <th></th>\n",
       "      <th>game_id</th>\n",
       "      <th>game_date_est</th>\n",
       "      <th>home_team_id</th>\n",
       "      <th>visitor_team_id</th>\n",
       "      <th>game_status_text</th>\n",
       "      <th>season</th>\n",
       "    </tr>\n",
       "  </thead>\n",
       "  <tbody>\n",
       "    <tr>\n",
       "      <th>0</th>\n",
       "      <td>10300001</td>\n",
       "      <td>2003-10-05 00:00:00.000000</td>\n",
       "      <td>1610612762</td>\n",
       "      <td>1610612742</td>\n",
       "      <td>Final</td>\n",
       "      <td>2003</td>\n",
       "    </tr>\n",
       "    <tr>\n",
       "      <th>1</th>\n",
       "      <td>10300002</td>\n",
       "      <td>2003-10-06 00:00:00.000000</td>\n",
       "      <td>1610612763</td>\n",
       "      <td>1610612749</td>\n",
       "      <td>Final</td>\n",
       "      <td>2003</td>\n",
       "    </tr>\n",
       "    <tr>\n",
       "      <th>2</th>\n",
       "      <td>10300003</td>\n",
       "      <td>2003-10-07 00:00:00.000000</td>\n",
       "      <td>1610612765</td>\n",
       "      <td>1610612739</td>\n",
       "      <td>Final</td>\n",
       "      <td>2003</td>\n",
       "    </tr>\n",
       "    <tr>\n",
       "      <th>3</th>\n",
       "      <td>10300004</td>\n",
       "      <td>2003-10-07 00:00:00.000000</td>\n",
       "      <td>1610612742</td>\n",
       "      <td>1610612753</td>\n",
       "      <td>Final</td>\n",
       "      <td>2003</td>\n",
       "    </tr>\n",
       "    <tr>\n",
       "      <th>4</th>\n",
       "      <td>10300005</td>\n",
       "      <td>2003-10-07 00:00:00.000000</td>\n",
       "      <td>1610612757</td>\n",
       "      <td>1610612745</td>\n",
       "      <td>Final</td>\n",
       "      <td>2003</td>\n",
       "    </tr>\n",
       "  </tbody>\n",
       "</table>\n",
       "</div>"
      ],
      "text/plain": [
       "    game_id               game_date_est  home_team_id  visitor_team_id  \\\n",
       "0  10300001  2003-10-05 00:00:00.000000    1610612762       1610612742   \n",
       "1  10300002  2003-10-06 00:00:00.000000    1610612763       1610612749   \n",
       "2  10300003  2003-10-07 00:00:00.000000    1610612765       1610612739   \n",
       "3  10300004  2003-10-07 00:00:00.000000    1610612742       1610612753   \n",
       "4  10300005  2003-10-07 00:00:00.000000    1610612757       1610612745   \n",
       "\n",
       "  game_status_text  season  \n",
       "0            Final    2003  \n",
       "1            Final    2003  \n",
       "2            Final    2003  \n",
       "3            Final    2003  \n",
       "4            Final    2003  "
      ]
     },
     "execution_count": 904,
     "metadata": {},
     "output_type": "execute_result"
    }
   ],
   "source": [
    "games.head()"
   ]
  },
  {
   "cell_type": "code",
   "execution_count": 905,
   "id": "16ca74ca",
   "metadata": {},
   "outputs": [
    {
     "data": {
      "text/html": [
       "<div>\n",
       "<style scoped>\n",
       "    .dataframe tbody tr th:only-of-type {\n",
       "        vertical-align: middle;\n",
       "    }\n",
       "\n",
       "    .dataframe tbody tr th {\n",
       "        vertical-align: top;\n",
       "    }\n",
       "\n",
       "    .dataframe thead th {\n",
       "        text-align: right;\n",
       "    }\n",
       "</style>\n",
       "<table border=\"1\" class=\"dataframe\">\n",
       "  <thead>\n",
       "    <tr style=\"text-align: right;\">\n",
       "      <th></th>\n",
       "      <th>game_id</th>\n",
       "      <th>team_id</th>\n",
       "      <th>assist</th>\n",
       "      <th>field_g_pct</th>\n",
       "      <th>field_g3_pct</th>\n",
       "      <th>free_throw_pct</th>\n",
       "      <th>rebound</th>\n",
       "      <th>points</th>\n",
       "    </tr>\n",
       "  </thead>\n",
       "  <tbody>\n",
       "    <tr>\n",
       "      <th>0</th>\n",
       "      <td>10300001</td>\n",
       "      <td>1610612742</td>\n",
       "      <td>20.0</td>\n",
       "      <td>0.447368</td>\n",
       "      <td>0.250000</td>\n",
       "      <td>0.500000</td>\n",
       "      <td>38.0</td>\n",
       "      <td>85.0</td>\n",
       "    </tr>\n",
       "    <tr>\n",
       "      <th>1</th>\n",
       "      <td>10300001</td>\n",
       "      <td>1610612762</td>\n",
       "      <td>23.0</td>\n",
       "      <td>0.457143</td>\n",
       "      <td>0.142857</td>\n",
       "      <td>0.735294</td>\n",
       "      <td>41.0</td>\n",
       "      <td>90.0</td>\n",
       "    </tr>\n",
       "    <tr>\n",
       "      <th>2</th>\n",
       "      <td>10300002</td>\n",
       "      <td>1610612749</td>\n",
       "      <td>20.0</td>\n",
       "      <td>0.426667</td>\n",
       "      <td>0.153846</td>\n",
       "      <td>0.700000</td>\n",
       "      <td>43.0</td>\n",
       "      <td>94.0</td>\n",
       "    </tr>\n",
       "    <tr>\n",
       "      <th>3</th>\n",
       "      <td>10300002</td>\n",
       "      <td>1610612763</td>\n",
       "      <td>25.0</td>\n",
       "      <td>0.493827</td>\n",
       "      <td>0.266667</td>\n",
       "      <td>0.617647</td>\n",
       "      <td>48.0</td>\n",
       "      <td>105.0</td>\n",
       "    </tr>\n",
       "    <tr>\n",
       "      <th>4</th>\n",
       "      <td>10300003</td>\n",
       "      <td>1610612739</td>\n",
       "      <td>25.0</td>\n",
       "      <td>0.493506</td>\n",
       "      <td>0.666667</td>\n",
       "      <td>0.689655</td>\n",
       "      <td>52.0</td>\n",
       "      <td>100.0</td>\n",
       "    </tr>\n",
       "  </tbody>\n",
       "</table>\n",
       "</div>"
      ],
      "text/plain": [
       "    game_id     team_id  assist  field_g_pct  field_g3_pct  free_throw_pct  \\\n",
       "0  10300001  1610612742    20.0     0.447368      0.250000        0.500000   \n",
       "1  10300001  1610612762    23.0     0.457143      0.142857        0.735294   \n",
       "2  10300002  1610612749    20.0     0.426667      0.153846        0.700000   \n",
       "3  10300002  1610612763    25.0     0.493827      0.266667        0.617647   \n",
       "4  10300003  1610612739    25.0     0.493506      0.666667        0.689655   \n",
       "\n",
       "   rebound  points  \n",
       "0     38.0    85.0  \n",
       "1     41.0    90.0  \n",
       "2     43.0    94.0  \n",
       "3     48.0   105.0  \n",
       "4     52.0   100.0  "
      ]
     },
     "execution_count": 905,
     "metadata": {},
     "output_type": "execute_result"
    }
   ],
   "source": [
    "team_details.head()"
   ]
  },
  {
   "cell_type": "code",
   "execution_count": 906,
   "id": "5a7d8d5e",
   "metadata": {},
   "outputs": [],
   "source": [
    "def get_home(x):\n",
    "    game_id = x['game_id']\n",
    "    team_id = x['team_id']\n",
    "    game = games[games['game_id'] == game_id]\n",
    "    if game.shape[0] > 0: \n",
    "        return (game['home_team_id'] == team_id).sum()\n",
    "    return None"
   ]
  },
  {
   "cell_type": "code",
   "execution_count": 907,
   "id": "a246e07f",
   "metadata": {},
   "outputs": [
    {
     "data": {
      "text/html": [
       "<div>\n",
       "<style scoped>\n",
       "    .dataframe tbody tr th:only-of-type {\n",
       "        vertical-align: middle;\n",
       "    }\n",
       "\n",
       "    .dataframe tbody tr th {\n",
       "        vertical-align: top;\n",
       "    }\n",
       "\n",
       "    .dataframe thead th {\n",
       "        text-align: right;\n",
       "    }\n",
       "</style>\n",
       "<table border=\"1\" class=\"dataframe\">\n",
       "  <thead>\n",
       "    <tr style=\"text-align: right;\">\n",
       "      <th></th>\n",
       "      <th>game_id</th>\n",
       "      <th>team_id</th>\n",
       "      <th>assist</th>\n",
       "      <th>field_g_pct</th>\n",
       "      <th>field_g3_pct</th>\n",
       "      <th>free_throw_pct</th>\n",
       "      <th>rebound</th>\n",
       "      <th>points</th>\n",
       "    </tr>\n",
       "  </thead>\n",
       "  <tbody>\n",
       "    <tr>\n",
       "      <th>0</th>\n",
       "      <td>10300001</td>\n",
       "      <td>1610612742</td>\n",
       "      <td>20.0</td>\n",
       "      <td>0.447368</td>\n",
       "      <td>0.250000</td>\n",
       "      <td>0.500000</td>\n",
       "      <td>38.0</td>\n",
       "      <td>85.0</td>\n",
       "    </tr>\n",
       "    <tr>\n",
       "      <th>1</th>\n",
       "      <td>10300001</td>\n",
       "      <td>1610612762</td>\n",
       "      <td>23.0</td>\n",
       "      <td>0.457143</td>\n",
       "      <td>0.142857</td>\n",
       "      <td>0.735294</td>\n",
       "      <td>41.0</td>\n",
       "      <td>90.0</td>\n",
       "    </tr>\n",
       "    <tr>\n",
       "      <th>2</th>\n",
       "      <td>10300002</td>\n",
       "      <td>1610612749</td>\n",
       "      <td>20.0</td>\n",
       "      <td>0.426667</td>\n",
       "      <td>0.153846</td>\n",
       "      <td>0.700000</td>\n",
       "      <td>43.0</td>\n",
       "      <td>94.0</td>\n",
       "    </tr>\n",
       "    <tr>\n",
       "      <th>3</th>\n",
       "      <td>10300002</td>\n",
       "      <td>1610612763</td>\n",
       "      <td>25.0</td>\n",
       "      <td>0.493827</td>\n",
       "      <td>0.266667</td>\n",
       "      <td>0.617647</td>\n",
       "      <td>48.0</td>\n",
       "      <td>105.0</td>\n",
       "    </tr>\n",
       "    <tr>\n",
       "      <th>4</th>\n",
       "      <td>10300003</td>\n",
       "      <td>1610612739</td>\n",
       "      <td>25.0</td>\n",
       "      <td>0.493506</td>\n",
       "      <td>0.666667</td>\n",
       "      <td>0.689655</td>\n",
       "      <td>52.0</td>\n",
       "      <td>100.0</td>\n",
       "    </tr>\n",
       "  </tbody>\n",
       "</table>\n",
       "</div>"
      ],
      "text/plain": [
       "    game_id     team_id  assist  field_g_pct  field_g3_pct  free_throw_pct  \\\n",
       "0  10300001  1610612742    20.0     0.447368      0.250000        0.500000   \n",
       "1  10300001  1610612762    23.0     0.457143      0.142857        0.735294   \n",
       "2  10300002  1610612749    20.0     0.426667      0.153846        0.700000   \n",
       "3  10300002  1610612763    25.0     0.493827      0.266667        0.617647   \n",
       "4  10300003  1610612739    25.0     0.493506      0.666667        0.689655   \n",
       "\n",
       "   rebound  points  \n",
       "0     38.0    85.0  \n",
       "1     41.0    90.0  \n",
       "2     43.0    94.0  \n",
       "3     48.0   105.0  \n",
       "4     52.0   100.0  "
      ]
     },
     "execution_count": 907,
     "metadata": {},
     "output_type": "execute_result"
    }
   ],
   "source": [
    "cs = team_details.head(5).copy()\n",
    "cs"
   ]
  },
  {
   "cell_type": "code",
   "execution_count": 908,
   "id": "9c44a494",
   "metadata": {},
   "outputs": [],
   "source": [
    "home_team_ls = []\n",
    "for (_, items) in team_details[['game_id','team_id']].iterrows():\n",
    "    game_id = items[0]\n",
    "    team_id = items[1]\n",
    "    game = games[games['game_id'] == game_id]\n",
    "    if game.shape[0] > 0: \n",
    "        home_team_ls.append((game['home_team_id'] == team_id).sum())\n",
    "    else: \n",
    "        home_team_ls.append(np.nan)"
   ]
  },
  {
   "cell_type": "code",
   "execution_count": 909,
   "id": "3f40e248",
   "metadata": {},
   "outputs": [
    {
     "data": {
      "text/html": [
       "<div>\n",
       "<style scoped>\n",
       "    .dataframe tbody tr th:only-of-type {\n",
       "        vertical-align: middle;\n",
       "    }\n",
       "\n",
       "    .dataframe tbody tr th {\n",
       "        vertical-align: top;\n",
       "    }\n",
       "\n",
       "    .dataframe thead th {\n",
       "        text-align: right;\n",
       "    }\n",
       "</style>\n",
       "<table border=\"1\" class=\"dataframe\">\n",
       "  <thead>\n",
       "    <tr style=\"text-align: right;\">\n",
       "      <th></th>\n",
       "      <th>game_id</th>\n",
       "      <th>team_id</th>\n",
       "      <th>assist</th>\n",
       "      <th>field_g_pct</th>\n",
       "      <th>field_g3_pct</th>\n",
       "      <th>free_throw_pct</th>\n",
       "      <th>rebound</th>\n",
       "      <th>points</th>\n",
       "      <th>home_team</th>\n",
       "    </tr>\n",
       "  </thead>\n",
       "  <tbody>\n",
       "    <tr>\n",
       "      <th>0</th>\n",
       "      <td>10300001</td>\n",
       "      <td>1610612742</td>\n",
       "      <td>20.0</td>\n",
       "      <td>0.447368</td>\n",
       "      <td>0.250000</td>\n",
       "      <td>0.500000</td>\n",
       "      <td>38.0</td>\n",
       "      <td>85.0</td>\n",
       "      <td>0</td>\n",
       "    </tr>\n",
       "    <tr>\n",
       "      <th>1</th>\n",
       "      <td>10300001</td>\n",
       "      <td>1610612762</td>\n",
       "      <td>23.0</td>\n",
       "      <td>0.457143</td>\n",
       "      <td>0.142857</td>\n",
       "      <td>0.735294</td>\n",
       "      <td>41.0</td>\n",
       "      <td>90.0</td>\n",
       "      <td>1</td>\n",
       "    </tr>\n",
       "    <tr>\n",
       "      <th>2</th>\n",
       "      <td>10300002</td>\n",
       "      <td>1610612749</td>\n",
       "      <td>20.0</td>\n",
       "      <td>0.426667</td>\n",
       "      <td>0.153846</td>\n",
       "      <td>0.700000</td>\n",
       "      <td>43.0</td>\n",
       "      <td>94.0</td>\n",
       "      <td>0</td>\n",
       "    </tr>\n",
       "    <tr>\n",
       "      <th>3</th>\n",
       "      <td>10300002</td>\n",
       "      <td>1610612763</td>\n",
       "      <td>25.0</td>\n",
       "      <td>0.493827</td>\n",
       "      <td>0.266667</td>\n",
       "      <td>0.617647</td>\n",
       "      <td>48.0</td>\n",
       "      <td>105.0</td>\n",
       "      <td>1</td>\n",
       "    </tr>\n",
       "    <tr>\n",
       "      <th>4</th>\n",
       "      <td>10300003</td>\n",
       "      <td>1610612739</td>\n",
       "      <td>25.0</td>\n",
       "      <td>0.493506</td>\n",
       "      <td>0.666667</td>\n",
       "      <td>0.689655</td>\n",
       "      <td>52.0</td>\n",
       "      <td>100.0</td>\n",
       "      <td>0</td>\n",
       "    </tr>\n",
       "  </tbody>\n",
       "</table>\n",
       "</div>"
      ],
      "text/plain": [
       "    game_id     team_id  assist  field_g_pct  field_g3_pct  free_throw_pct  \\\n",
       "0  10300001  1610612742    20.0     0.447368      0.250000        0.500000   \n",
       "1  10300001  1610612762    23.0     0.457143      0.142857        0.735294   \n",
       "2  10300002  1610612749    20.0     0.426667      0.153846        0.700000   \n",
       "3  10300002  1610612763    25.0     0.493827      0.266667        0.617647   \n",
       "4  10300003  1610612739    25.0     0.493506      0.666667        0.689655   \n",
       "\n",
       "   rebound  points  home_team  \n",
       "0     38.0    85.0          0  \n",
       "1     41.0    90.0          1  \n",
       "2     43.0    94.0          0  \n",
       "3     48.0   105.0          1  \n",
       "4     52.0   100.0          0  "
      ]
     },
     "execution_count": 909,
     "metadata": {},
     "output_type": "execute_result"
    }
   ],
   "source": [
    "team_details['home_team'] = home_team_ls\n",
    "team_details.head()"
   ]
  },
  {
   "cell_type": "code",
   "execution_count": 910,
   "id": "a6798a18",
   "metadata": {},
   "outputs": [],
   "source": [
    "home_team = team_details[team_details['home_team']==1].drop(columns=['home_team']).reset_index()\n",
    "away_team = team_details[team_details['home_team']==0].drop(columns=['home_team']).reset_index()"
   ]
  },
  {
   "cell_type": "code",
   "execution_count": 911,
   "id": "0bb28396",
   "metadata": {},
   "outputs": [
    {
     "data": {
      "text/html": [
       "<div>\n",
       "<style scoped>\n",
       "    .dataframe tbody tr th:only-of-type {\n",
       "        vertical-align: middle;\n",
       "    }\n",
       "\n",
       "    .dataframe tbody tr th {\n",
       "        vertical-align: top;\n",
       "    }\n",
       "\n",
       "    .dataframe thead th {\n",
       "        text-align: right;\n",
       "    }\n",
       "</style>\n",
       "<table border=\"1\" class=\"dataframe\">\n",
       "  <thead>\n",
       "    <tr style=\"text-align: right;\">\n",
       "      <th></th>\n",
       "      <th>index</th>\n",
       "      <th>game_id</th>\n",
       "      <th>team_id</th>\n",
       "      <th>assist</th>\n",
       "      <th>field_g_pct</th>\n",
       "      <th>field_g3_pct</th>\n",
       "      <th>free_throw_pct</th>\n",
       "      <th>rebound</th>\n",
       "      <th>points</th>\n",
       "    </tr>\n",
       "  </thead>\n",
       "  <tbody>\n",
       "    <tr>\n",
       "      <th>0</th>\n",
       "      <td>1</td>\n",
       "      <td>10300001</td>\n",
       "      <td>1610612762</td>\n",
       "      <td>23.0</td>\n",
       "      <td>0.457143</td>\n",
       "      <td>0.142857</td>\n",
       "      <td>0.735294</td>\n",
       "      <td>41.0</td>\n",
       "      <td>90.0</td>\n",
       "    </tr>\n",
       "    <tr>\n",
       "      <th>1</th>\n",
       "      <td>3</td>\n",
       "      <td>10300002</td>\n",
       "      <td>1610612763</td>\n",
       "      <td>25.0</td>\n",
       "      <td>0.493827</td>\n",
       "      <td>0.266667</td>\n",
       "      <td>0.617647</td>\n",
       "      <td>48.0</td>\n",
       "      <td>105.0</td>\n",
       "    </tr>\n",
       "    <tr>\n",
       "      <th>2</th>\n",
       "      <td>5</td>\n",
       "      <td>10300003</td>\n",
       "      <td>1610612765</td>\n",
       "      <td>19.0</td>\n",
       "      <td>0.390805</td>\n",
       "      <td>0.444444</td>\n",
       "      <td>0.600000</td>\n",
       "      <td>37.0</td>\n",
       "      <td>96.0</td>\n",
       "    </tr>\n",
       "    <tr>\n",
       "      <th>3</th>\n",
       "      <td>6</td>\n",
       "      <td>10300004</td>\n",
       "      <td>1610612742</td>\n",
       "      <td>20.0</td>\n",
       "      <td>0.487805</td>\n",
       "      <td>0.166667</td>\n",
       "      <td>0.666667</td>\n",
       "      <td>52.0</td>\n",
       "      <td>99.0</td>\n",
       "    </tr>\n",
       "    <tr>\n",
       "      <th>4</th>\n",
       "      <td>9</td>\n",
       "      <td>10300005</td>\n",
       "      <td>1610612757</td>\n",
       "      <td>21.0</td>\n",
       "      <td>0.542857</td>\n",
       "      <td>0.428571</td>\n",
       "      <td>0.657143</td>\n",
       "      <td>32.0</td>\n",
       "      <td>102.0</td>\n",
       "    </tr>\n",
       "  </tbody>\n",
       "</table>\n",
       "</div>"
      ],
      "text/plain": [
       "   index   game_id     team_id  assist  field_g_pct  field_g3_pct  \\\n",
       "0      1  10300001  1610612762    23.0     0.457143      0.142857   \n",
       "1      3  10300002  1610612763    25.0     0.493827      0.266667   \n",
       "2      5  10300003  1610612765    19.0     0.390805      0.444444   \n",
       "3      6  10300004  1610612742    20.0     0.487805      0.166667   \n",
       "4      9  10300005  1610612757    21.0     0.542857      0.428571   \n",
       "\n",
       "   free_throw_pct  rebound  points  \n",
       "0        0.735294     41.0    90.0  \n",
       "1        0.617647     48.0   105.0  \n",
       "2        0.600000     37.0    96.0  \n",
       "3        0.666667     52.0    99.0  \n",
       "4        0.657143     32.0   102.0  "
      ]
     },
     "execution_count": 911,
     "metadata": {},
     "output_type": "execute_result"
    }
   ],
   "source": [
    "home_team.head()"
   ]
  },
  {
   "cell_type": "code",
   "execution_count": 912,
   "id": "939887a0",
   "metadata": {},
   "outputs": [
    {
     "data": {
      "text/html": [
       "<div>\n",
       "<style scoped>\n",
       "    .dataframe tbody tr th:only-of-type {\n",
       "        vertical-align: middle;\n",
       "    }\n",
       "\n",
       "    .dataframe tbody tr th {\n",
       "        vertical-align: top;\n",
       "    }\n",
       "\n",
       "    .dataframe thead th {\n",
       "        text-align: right;\n",
       "    }\n",
       "</style>\n",
       "<table border=\"1\" class=\"dataframe\">\n",
       "  <thead>\n",
       "    <tr style=\"text-align: right;\">\n",
       "      <th></th>\n",
       "      <th>index</th>\n",
       "      <th>game_id</th>\n",
       "      <th>team_id</th>\n",
       "      <th>assist</th>\n",
       "      <th>field_g_pct</th>\n",
       "      <th>field_g3_pct</th>\n",
       "      <th>free_throw_pct</th>\n",
       "      <th>rebound</th>\n",
       "      <th>points</th>\n",
       "    </tr>\n",
       "  </thead>\n",
       "  <tbody>\n",
       "    <tr>\n",
       "      <th>0</th>\n",
       "      <td>0</td>\n",
       "      <td>10300001</td>\n",
       "      <td>1610612742</td>\n",
       "      <td>20.0</td>\n",
       "      <td>0.447368</td>\n",
       "      <td>0.250000</td>\n",
       "      <td>0.500000</td>\n",
       "      <td>38.0</td>\n",
       "      <td>85.0</td>\n",
       "    </tr>\n",
       "    <tr>\n",
       "      <th>1</th>\n",
       "      <td>2</td>\n",
       "      <td>10300002</td>\n",
       "      <td>1610612749</td>\n",
       "      <td>20.0</td>\n",
       "      <td>0.426667</td>\n",
       "      <td>0.153846</td>\n",
       "      <td>0.700000</td>\n",
       "      <td>43.0</td>\n",
       "      <td>94.0</td>\n",
       "    </tr>\n",
       "    <tr>\n",
       "      <th>2</th>\n",
       "      <td>4</td>\n",
       "      <td>10300003</td>\n",
       "      <td>1610612739</td>\n",
       "      <td>25.0</td>\n",
       "      <td>0.493506</td>\n",
       "      <td>0.666667</td>\n",
       "      <td>0.689655</td>\n",
       "      <td>52.0</td>\n",
       "      <td>100.0</td>\n",
       "    </tr>\n",
       "    <tr>\n",
       "      <th>3</th>\n",
       "      <td>7</td>\n",
       "      <td>10300004</td>\n",
       "      <td>1610612753</td>\n",
       "      <td>14.0</td>\n",
       "      <td>0.409836</td>\n",
       "      <td>0.333333</td>\n",
       "      <td>0.833333</td>\n",
       "      <td>29.0</td>\n",
       "      <td>76.0</td>\n",
       "    </tr>\n",
       "    <tr>\n",
       "      <th>4</th>\n",
       "      <td>8</td>\n",
       "      <td>10300005</td>\n",
       "      <td>1610612745</td>\n",
       "      <td>10.0</td>\n",
       "      <td>0.468750</td>\n",
       "      <td>0.333333</td>\n",
       "      <td>0.666667</td>\n",
       "      <td>34.0</td>\n",
       "      <td>78.0</td>\n",
       "    </tr>\n",
       "  </tbody>\n",
       "</table>\n",
       "</div>"
      ],
      "text/plain": [
       "   index   game_id     team_id  assist  field_g_pct  field_g3_pct  \\\n",
       "0      0  10300001  1610612742    20.0     0.447368      0.250000   \n",
       "1      2  10300002  1610612749    20.0     0.426667      0.153846   \n",
       "2      4  10300003  1610612739    25.0     0.493506      0.666667   \n",
       "3      7  10300004  1610612753    14.0     0.409836      0.333333   \n",
       "4      8  10300005  1610612745    10.0     0.468750      0.333333   \n",
       "\n",
       "   free_throw_pct  rebound  points  \n",
       "0        0.500000     38.0    85.0  \n",
       "1        0.700000     43.0    94.0  \n",
       "2        0.689655     52.0   100.0  \n",
       "3        0.833333     29.0    76.0  \n",
       "4        0.666667     34.0    78.0  "
      ]
     },
     "execution_count": 912,
     "metadata": {},
     "output_type": "execute_result"
    }
   ],
   "source": [
    "away_team.head()"
   ]
  },
  {
   "cell_type": "code",
   "execution_count": 913,
   "id": "da5dd006",
   "metadata": {},
   "outputs": [
    {
     "data": {
      "text/html": [
       "<div>\n",
       "<style scoped>\n",
       "    .dataframe tbody tr th:only-of-type {\n",
       "        vertical-align: middle;\n",
       "    }\n",
       "\n",
       "    .dataframe tbody tr th {\n",
       "        vertical-align: top;\n",
       "    }\n",
       "\n",
       "    .dataframe thead th {\n",
       "        text-align: right;\n",
       "    }\n",
       "</style>\n",
       "<table border=\"1\" class=\"dataframe\">\n",
       "  <thead>\n",
       "    <tr style=\"text-align: right;\">\n",
       "      <th></th>\n",
       "      <th>index_h</th>\n",
       "      <th>game_id</th>\n",
       "      <th>team_id_h</th>\n",
       "      <th>assist_h</th>\n",
       "      <th>field_g_pct_h</th>\n",
       "      <th>field_g3_pct_h</th>\n",
       "      <th>free_throw_pct_h</th>\n",
       "      <th>rebound_h</th>\n",
       "      <th>points_h</th>\n",
       "      <th>index_a</th>\n",
       "      <th>team_id_a</th>\n",
       "      <th>assist_a</th>\n",
       "      <th>field_g_pct_a</th>\n",
       "      <th>field_g3_pct_a</th>\n",
       "      <th>free_throw_pct_a</th>\n",
       "      <th>rebound_a</th>\n",
       "      <th>points_a</th>\n",
       "    </tr>\n",
       "  </thead>\n",
       "  <tbody>\n",
       "    <tr>\n",
       "      <th>0</th>\n",
       "      <td>1</td>\n",
       "      <td>10300001</td>\n",
       "      <td>1610612762</td>\n",
       "      <td>23.0</td>\n",
       "      <td>0.457143</td>\n",
       "      <td>0.142857</td>\n",
       "      <td>0.735294</td>\n",
       "      <td>41.0</td>\n",
       "      <td>90.0</td>\n",
       "      <td>0</td>\n",
       "      <td>1610612742</td>\n",
       "      <td>20.0</td>\n",
       "      <td>0.447368</td>\n",
       "      <td>0.250000</td>\n",
       "      <td>0.500000</td>\n",
       "      <td>38.0</td>\n",
       "      <td>85.0</td>\n",
       "    </tr>\n",
       "    <tr>\n",
       "      <th>1</th>\n",
       "      <td>3</td>\n",
       "      <td>10300002</td>\n",
       "      <td>1610612763</td>\n",
       "      <td>25.0</td>\n",
       "      <td>0.493827</td>\n",
       "      <td>0.266667</td>\n",
       "      <td>0.617647</td>\n",
       "      <td>48.0</td>\n",
       "      <td>105.0</td>\n",
       "      <td>2</td>\n",
       "      <td>1610612749</td>\n",
       "      <td>20.0</td>\n",
       "      <td>0.426667</td>\n",
       "      <td>0.153846</td>\n",
       "      <td>0.700000</td>\n",
       "      <td>43.0</td>\n",
       "      <td>94.0</td>\n",
       "    </tr>\n",
       "    <tr>\n",
       "      <th>2</th>\n",
       "      <td>5</td>\n",
       "      <td>10300003</td>\n",
       "      <td>1610612765</td>\n",
       "      <td>19.0</td>\n",
       "      <td>0.390805</td>\n",
       "      <td>0.444444</td>\n",
       "      <td>0.600000</td>\n",
       "      <td>37.0</td>\n",
       "      <td>96.0</td>\n",
       "      <td>4</td>\n",
       "      <td>1610612739</td>\n",
       "      <td>25.0</td>\n",
       "      <td>0.493506</td>\n",
       "      <td>0.666667</td>\n",
       "      <td>0.689655</td>\n",
       "      <td>52.0</td>\n",
       "      <td>100.0</td>\n",
       "    </tr>\n",
       "    <tr>\n",
       "      <th>3</th>\n",
       "      <td>6</td>\n",
       "      <td>10300004</td>\n",
       "      <td>1610612742</td>\n",
       "      <td>20.0</td>\n",
       "      <td>0.487805</td>\n",
       "      <td>0.166667</td>\n",
       "      <td>0.666667</td>\n",
       "      <td>52.0</td>\n",
       "      <td>99.0</td>\n",
       "      <td>7</td>\n",
       "      <td>1610612753</td>\n",
       "      <td>14.0</td>\n",
       "      <td>0.409836</td>\n",
       "      <td>0.333333</td>\n",
       "      <td>0.833333</td>\n",
       "      <td>29.0</td>\n",
       "      <td>76.0</td>\n",
       "    </tr>\n",
       "    <tr>\n",
       "      <th>4</th>\n",
       "      <td>9</td>\n",
       "      <td>10300005</td>\n",
       "      <td>1610612757</td>\n",
       "      <td>21.0</td>\n",
       "      <td>0.542857</td>\n",
       "      <td>0.428571</td>\n",
       "      <td>0.657143</td>\n",
       "      <td>32.0</td>\n",
       "      <td>102.0</td>\n",
       "      <td>8</td>\n",
       "      <td>1610612745</td>\n",
       "      <td>10.0</td>\n",
       "      <td>0.468750</td>\n",
       "      <td>0.333333</td>\n",
       "      <td>0.666667</td>\n",
       "      <td>34.0</td>\n",
       "      <td>78.0</td>\n",
       "    </tr>\n",
       "  </tbody>\n",
       "</table>\n",
       "</div>"
      ],
      "text/plain": [
       "   index_h   game_id   team_id_h  assist_h  field_g_pct_h  field_g3_pct_h  \\\n",
       "0        1  10300001  1610612762      23.0       0.457143        0.142857   \n",
       "1        3  10300002  1610612763      25.0       0.493827        0.266667   \n",
       "2        5  10300003  1610612765      19.0       0.390805        0.444444   \n",
       "3        6  10300004  1610612742      20.0       0.487805        0.166667   \n",
       "4        9  10300005  1610612757      21.0       0.542857        0.428571   \n",
       "\n",
       "   free_throw_pct_h  rebound_h  points_h  index_a   team_id_a  assist_a  \\\n",
       "0          0.735294       41.0      90.0        0  1610612742      20.0   \n",
       "1          0.617647       48.0     105.0        2  1610612749      20.0   \n",
       "2          0.600000       37.0      96.0        4  1610612739      25.0   \n",
       "3          0.666667       52.0      99.0        7  1610612753      14.0   \n",
       "4          0.657143       32.0     102.0        8  1610612745      10.0   \n",
       "\n",
       "   field_g_pct_a  field_g3_pct_a  free_throw_pct_a  rebound_a  points_a  \n",
       "0       0.447368        0.250000          0.500000       38.0      85.0  \n",
       "1       0.426667        0.153846          0.700000       43.0      94.0  \n",
       "2       0.493506        0.666667          0.689655       52.0     100.0  \n",
       "3       0.409836        0.333333          0.833333       29.0      76.0  \n",
       "4       0.468750        0.333333          0.666667       34.0      78.0  "
      ]
     },
     "execution_count": 913,
     "metadata": {},
     "output_type": "execute_result"
    }
   ],
   "source": [
    "joined_data = home_team.merge(away_team, how='inner', left_on='game_id',\n",
    "                              right_on='game_id', suffixes = ('_h', '_a'))\n",
    "joined_data.head()"
   ]
  },
  {
   "cell_type": "code",
   "execution_count": 914,
   "id": "8a25cae9",
   "metadata": {},
   "outputs": [
    {
     "data": {
      "text/html": [
       "<div>\n",
       "<style scoped>\n",
       "    .dataframe tbody tr th:only-of-type {\n",
       "        vertical-align: middle;\n",
       "    }\n",
       "\n",
       "    .dataframe tbody tr th {\n",
       "        vertical-align: top;\n",
       "    }\n",
       "\n",
       "    .dataframe thead th {\n",
       "        text-align: right;\n",
       "    }\n",
       "</style>\n",
       "<table border=\"1\" class=\"dataframe\">\n",
       "  <thead>\n",
       "    <tr style=\"text-align: right;\">\n",
       "      <th></th>\n",
       "      <th>team_id_h</th>\n",
       "      <th>team_id_a</th>\n",
       "    </tr>\n",
       "  </thead>\n",
       "  <tbody>\n",
       "    <tr>\n",
       "      <th>0</th>\n",
       "      <td>1610612762</td>\n",
       "      <td>1610612742</td>\n",
       "    </tr>\n",
       "    <tr>\n",
       "      <th>1</th>\n",
       "      <td>1610612763</td>\n",
       "      <td>1610612749</td>\n",
       "    </tr>\n",
       "    <tr>\n",
       "      <th>2</th>\n",
       "      <td>1610612765</td>\n",
       "      <td>1610612739</td>\n",
       "    </tr>\n",
       "    <tr>\n",
       "      <th>3</th>\n",
       "      <td>1610612742</td>\n",
       "      <td>1610612753</td>\n",
       "    </tr>\n",
       "    <tr>\n",
       "      <th>4</th>\n",
       "      <td>1610612757</td>\n",
       "      <td>1610612745</td>\n",
       "    </tr>\n",
       "  </tbody>\n",
       "</table>\n",
       "</div>"
      ],
      "text/plain": [
       "    team_id_h   team_id_a\n",
       "0  1610612762  1610612742\n",
       "1  1610612763  1610612749\n",
       "2  1610612765  1610612739\n",
       "3  1610612742  1610612753\n",
       "4  1610612757  1610612745"
      ]
     },
     "execution_count": 914,
     "metadata": {},
     "output_type": "execute_result"
    }
   ],
   "source": [
    "joined_data[['team_id_h','team_id_a']].head()"
   ]
  },
  {
   "cell_type": "code",
   "execution_count": 915,
   "id": "52463b81",
   "metadata": {},
   "outputs": [],
   "source": [
    "#print information about the game\n",
    "#get team id, print team id"
   ]
  },
  {
   "cell_type": "code",
   "execution_count": 916,
   "id": "a5292fbf",
   "metadata": {},
   "outputs": [],
   "source": [
    "joined_data['home_team_wins'] = (joined_data['points_h'] > joined_data['points_a']).astype(int)"
   ]
  },
  {
   "cell_type": "code",
   "execution_count": 917,
   "id": "6e0326a8",
   "metadata": {},
   "outputs": [
    {
     "data": {
      "text/plain": [
       "0    1\n",
       "1    1\n",
       "2    0\n",
       "3    1\n",
       "4    1\n",
       "Name: home_team_wins, dtype: int64"
      ]
     },
     "execution_count": 917,
     "metadata": {},
     "output_type": "execute_result"
    }
   ],
   "source": [
    "joined_data['home_team_wins'].head()"
   ]
  },
  {
   "cell_type": "code",
   "execution_count": null,
   "id": "f25f178e",
   "metadata": {},
   "outputs": [],
   "source": []
  },
  {
   "cell_type": "markdown",
   "id": "1223e53d",
   "metadata": {},
   "source": [
    "### Predicting Winner from our game"
   ]
  },
  {
   "cell_type": "code",
   "execution_count": 918,
   "id": "242ffcf9",
   "metadata": {
    "scrolled": false
   },
   "outputs": [
    {
     "data": {
      "text/plain": [
       "index_h             0\n",
       "game_id             0\n",
       "team_id_h           0\n",
       "assist_h            0\n",
       "field_g_pct_h       0\n",
       "field_g3_pct_h      0\n",
       "free_throw_pct_h    0\n",
       "rebound_h           0\n",
       "points_h            0\n",
       "index_a             0\n",
       "team_id_a           0\n",
       "assist_a            0\n",
       "field_g_pct_a       1\n",
       "field_g3_pct_a      1\n",
       "free_throw_pct_a    1\n",
       "rebound_a           0\n",
       "points_a            0\n",
       "home_team_wins      0\n",
       "dtype: int64"
      ]
     },
     "execution_count": 918,
     "metadata": {},
     "output_type": "execute_result"
    }
   ],
   "source": [
    "joined_data.isna().sum()"
   ]
  },
  {
   "cell_type": "code",
   "execution_count": 919,
   "id": "312b190c",
   "metadata": {
    "scrolled": false
   },
   "outputs": [],
   "source": [
    "df = joined_data.dropna().copy()"
   ]
  },
  {
   "cell_type": "code",
   "execution_count": 920,
   "id": "3cdc8e0e",
   "metadata": {
    "scrolled": false
   },
   "outputs": [
    {
     "data": {
      "text/plain": [
       "Index(['index_h', 'game_id', 'team_id_h', 'assist_h', 'field_g_pct_h',\n",
       "       'field_g3_pct_h', 'free_throw_pct_h', 'rebound_h', 'points_h',\n",
       "       'index_a', 'team_id_a', 'assist_a', 'field_g_pct_a', 'field_g3_pct_a',\n",
       "       'free_throw_pct_a', 'rebound_a', 'points_a', 'home_team_wins'],\n",
       "      dtype='object')"
      ]
     },
     "execution_count": 920,
     "metadata": {},
     "output_type": "execute_result"
    }
   ],
   "source": [
    "df.columns"
   ]
  },
  {
   "cell_type": "code",
   "execution_count": 921,
   "id": "b9614126",
   "metadata": {
    "scrolled": true
   },
   "outputs": [],
   "source": [
    "from sklearn.model_selection import train_test_split\n",
    "import seaborn as sns\n",
    "import matplotlib.pyplot as plt\n",
    "\n",
    "df = joined_data.copy()\n",
    "\n",
    "to_drop = ['index_h','team_id_h','team_id_a','points_h', 'points_a']\n",
    "\n",
    "df_train, df_val_test = train_test_split(df.drop(columns=to_drop), test_size=0.3, random_state=42, shuffle=True)\n",
    "df_val, df_test = train_test_split(df_val_test, test_size=0.5, random_state=42)"
   ]
  },
  {
   "cell_type": "code",
   "execution_count": 922,
   "id": "6efb05e7",
   "metadata": {
    "scrolled": true
   },
   "outputs": [],
   "source": [
    "X_train, y_train = df_train.drop(columns=['home_team_wins','game_id']), df_train['home_team_wins']\n",
    "X_val, y_val = df_val.drop(columns=['home_team_wins','game_id']), df_val['home_team_wins']\n",
    "X_test, y_test = df_test.drop(columns=['home_team_wins','game_id']), df_test['home_team_wins']"
   ]
  },
  {
   "cell_type": "code",
   "execution_count": 923,
   "id": "b21b69f0",
   "metadata": {
    "scrolled": false
   },
   "outputs": [
    {
     "data": {
      "image/png": "[encoded data removed]",
      "text/plain": [
       "<Figure size 864x864 with 2 Axes>"
      ]
     },
     "metadata": {
      "needs_background": "light"
     },
     "output_type": "display_data"
    }
   ],
   "source": [
    "plt.figure(figsize=(12,12))\n",
    "sns.heatmap(df_train.corr('pearson'), cmap='Blues', annot=False);"
   ]
  },
  {
   "cell_type": "markdown",
   "id": "5f77831a",
   "metadata": {
    "scrolled": true
   },
   "source": [
    "What would a naive model predict?"
   ]
  },
  {
   "cell_type": "code",
   "execution_count": 924,
   "id": "3c007466",
   "metadata": {
    "scrolled": true
   },
   "outputs": [
    {
     "data": {
      "text/plain": [
       "home_team_wins\n",
       "0    0.409637\n",
       "1    0.590363\n",
       "Name: home_team_wins, dtype: float64"
      ]
     },
     "execution_count": 924,
     "metadata": {},
     "output_type": "execute_result"
    }
   ],
   "source": [
    "df_train.groupby(['home_team_wins'])['home_team_wins'].count() / df_train.shape[0]"
   ]
  },
  {
   "cell_type": "code",
   "execution_count": 925,
   "id": "1a3e8c1e",
   "metadata": {
    "scrolled": true
   },
   "outputs": [
    {
     "data": {
      "text/plain": [
       "home_team_wins\n",
       "0    0.405352\n",
       "1    0.594648\n",
       "Name: home_team_wins, dtype: float64"
      ]
     },
     "execution_count": 925,
     "metadata": {},
     "output_type": "execute_result"
    }
   ],
   "source": [
    "df_val.groupby(['home_team_wins'])['home_team_wins'].count() / df_val.shape[0]"
   ]
  },
  {
   "cell_type": "markdown",
   "id": "39b8bf57",
   "metadata": {
    "scrolled": true
   },
   "source": [
    "About 60% if we vie for the home team"
   ]
  },
  {
   "cell_type": "markdown",
   "id": "bfa4499c",
   "metadata": {
    "scrolled": true
   },
   "source": [
    "### Predictions with SKLearn"
   ]
  },
  {
   "cell_type": "code",
   "execution_count": 926,
   "id": "4d23f55b",
   "metadata": {
    "scrolled": true
   },
   "outputs": [],
   "source": [
    "from sklearn.preprocessing import StandardScaler\n",
    "from sklearn.pipeline import Pipeline\n",
    "\n",
    "\n",
    "from sklearn.impute import SimpleImputer\n",
    "from sklearn.linear_model import LogisticRegression\n",
    "from sklearn.dummy import DummyClassifier\n",
    "from sklearn.ensemble import RandomForestClassifier, AdaBoostClassifier\n",
    "from sklearn.tree import DecisionTreeClassifier\n",
    "\n",
    "from sklearn.model_selection import GridSearchCV\n",
    "from sklearn.metrics import accuracy_score, f1_score\n",
    "\n",
    "import time"
   ]
  },
  {
   "cell_type": "code",
   "execution_count": 927,
   "id": "d02843f0",
   "metadata": {
    "scrolled": true
   },
   "outputs": [],
   "source": [
    "# create instances of our models\n",
    "log_reg = LogisticRegression()\n",
    "tree = DecisionTreeClassifier()\n",
    "rand_forest = RandomForestClassifier(random_state=42)\n",
    "ada_boost = AdaBoostClassifier(random_state=42)\n",
    "\n",
    "test_models = [log_reg, tree, rand_forest, ada_boost]#, cat_class]"
   ]
  },
  {
   "cell_type": "code",
   "execution_count": 928,
   "id": "c11e18df",
   "metadata": {
    "scrolled": true
   },
   "outputs": [],
   "source": [
    "def train_model(model, X, y):\n",
    "    '''\n",
    "    Args:\n",
    "    model -  A model to train\n",
    "    X - Pandas Dataframe or Numpy array -  A dataset to use in training the model\n",
    "    y - Pandas Dataframe or Numpy array -  A dataset of label classes to use in training the model\n",
    "    Return:\n",
    "    trained_model - A trained model\n",
    "    train_time  (float) - The time taken to train the model\n",
    "    '''  \n",
    "    \n",
    "    print(f'training: {model.__class__.__name__}')\n",
    "    start = time.time()\n",
    "    \n",
    "    #train the model\n",
    "    trained_model = model.fit(X, y)\n",
    "    \n",
    "    end = time.time()\n",
    "    print('Training Concluded') \n",
    "    \n",
    "    train_time = end - start\n",
    "    \n",
    "    print(f'Model trained in {train_time} seconds')\n",
    "    \n",
    "    return trained_model, train_time\n",
    "\n",
    " \n",
    "def predict(model, y):\n",
    "    '''\n",
    "    Args:\n",
    "    model -  A model to make predictions from\n",
    "    y - Pandas Dataframe or Numpy Array - A dataset with which to make predictions\n",
    "    Return:\n",
    "    Numpy Array -  A numpy array of model predictions\n",
    "    prediction_time  (float) - The time taken to make a prediction the model\n",
    "    '''\n",
    "    print('Evaluating')\n",
    "    \n",
    "    start = time.time()\n",
    "    \n",
    "    predicted = model.predict(y)\n",
    "    \n",
    "    end = time.time()\n",
    "    \n",
    "    prediction_time = end - start\n",
    "    \n",
    "    return predicted, prediction_time\n",
    "\n",
    "\n",
    "def score(model, y, predictions, scoring_metric):\n",
    "    '''\n",
    "    Args:\n",
    "    data - Pandas Dataframe - A dataset with a \"prediction\" column\n",
    "    metric sklearn_class -  A scoring metric from the sklearn library\n",
    "    Return:\n",
    "    score - The score of the model\n",
    "    '''\n",
    "    print(f'Evaluating Model with {scoring_metric.__name__}')\n",
    "    \n",
    "    score = scoring_metric(y, predictions)\n",
    "    \n",
    "    print(f'The {scoring_metric.__name__} for {model.__class__.__name__} is:{score}')\n",
    "    \n",
    "    return score"
   ]
  },
  {
   "cell_type": "code",
   "execution_count": 929,
   "id": "e9db2f81",
   "metadata": {
    "scrolled": true
   },
   "outputs": [
    {
     "name": "stdout",
     "output_type": "stream",
     "text": [
      "training: LogisticRegression\n",
      "Training Concluded\n",
      "Model trained in 0.0332789421081543 seconds\n",
      "Evaluating\n",
      "Evaluating\n",
      "Evaluating Model with f1_score\n",
      "The f1_score for LogisticRegression is:0.8649289099526065\n",
      "Evaluating Model with accuracy_score\n",
      "The accuracy_score for LogisticRegression is:0.8377455166524338\n",
      "Evaluating Model with f1_score\n",
      "The f1_score for LogisticRegression is:0.8666189697465249\n",
      "Evaluating Model with accuracy_score\n",
      "The accuracy_score for LogisticRegression is:0.8408051235132662\n",
      "training: DecisionTreeClassifier\n",
      "Training Concluded\n",
      "Model trained in 0.16798686981201172 seconds\n",
      "Evaluating\n",
      "Evaluating\n",
      "Evaluating Model with f1_score\n",
      "The f1_score for DecisionTreeClassifier is:0.7914081145584725\n",
      "Evaluating Model with accuracy_score\n",
      "The accuracy_score for DecisionTreeClassifier is:0.7512097922003985\n",
      "Evaluating Model with f1_score\n",
      "The f1_score for DecisionTreeClassifier is:1.0\n",
      "Evaluating Model with accuracy_score\n",
      "The accuracy_score for DecisionTreeClassifier is:1.0\n",
      "training: RandomForestClassifier\n",
      "Training Concluded\n",
      "Model trained in 3.552501916885376 seconds\n",
      "Evaluating\n",
      "Evaluating\n",
      "Evaluating Model with f1_score\n",
      "The f1_score for RandomForestClassifier is:0.8611176609290262\n",
      "Evaluating Model with accuracy_score\n",
      "The accuracy_score for RandomForestClassifier is:0.8323370338741816\n",
      "Evaluating Model with f1_score\n",
      "The f1_score for RandomForestClassifier is:1.0\n",
      "Evaluating Model with accuracy_score\n",
      "The accuracy_score for RandomForestClassifier is:1.0\n",
      "training: AdaBoostClassifier\n",
      "Training Concluded\n",
      "Model trained in 1.035229206085205 seconds\n",
      "Evaluating\n",
      "Evaluating\n",
      "Evaluating Model with f1_score\n",
      "The f1_score for AdaBoostClassifier is:0.8502851711026617\n",
      "Evaluating Model with accuracy_score\n",
      "The accuracy_score for AdaBoostClassifier is:0.82066609735269\n",
      "Evaluating Model with f1_score\n",
      "The f1_score for AdaBoostClassifier is:0.8636829168373618\n",
      "Evaluating Model with accuracy_score\n",
      "The accuracy_score for AdaBoostClassifier is:0.8376334248246416\n"
     ]
    }
   ],
   "source": [
    "results = {}\n",
    "saved_model = []\n",
    "scaler = StandardScaler()\n",
    "scaled_X_train = scaler.fit_transform(X_train)\n",
    "scaled_X_val = scaler.transform(X_val)\n",
    "\n",
    "for model in test_models:\n",
    "    model_name = model.__class__.__name__\n",
    "\n",
    "    #training our model\n",
    "    trained_model, train_time = train_model(model, scaled_X_train, y_train)\n",
    "    \n",
    "    #predictions on our val and training dataset\n",
    "    val_predicted, val_prediction_time = predict(trained_model, scaled_X_val)\n",
    "    train_predicted, train_prediction_time = predict(trained_model, scaled_X_train)\n",
    "    \n",
    "    #scoring our test predictions \n",
    "    val_f1_score = score(model, y_val, val_predicted, f1_score)\n",
    "    val_acc_score = score(model, y_val, val_predicted, accuracy_score)\n",
    "\n",
    "    \n",
    "    #scoring our training predictions\n",
    "    train_f1_score = score(model, y_train, train_predicted, f1_score)\n",
    "    train_acc_score = score(model, y_train, train_predicted, accuracy_score)\n",
    "    \n",
    "    #saving our metrics\n",
    "    results[model_name] = {}\n",
    "    \n",
    "    results[model_name]['training_time'] = train_time\n",
    "    \n",
    "    results[model_name]['val_prediction_time'] = val_prediction_time\n",
    "    results[model_name]['train_prediction_time'] = train_prediction_time\n",
    "    \n",
    "    results[model_name]['val_f1_score'] = val_f1_score\n",
    "    results[model_name]['val_acc_score'] = val_acc_score\n",
    "    \n",
    "    results[model_name]['train_f1_score'] = train_f1_score\n",
    "    results[model_name]['train_acc_score'] = train_acc_score\n",
    "    \n",
    "    saved_model.append(trained_model)"
   ]
  },
  {
   "cell_type": "code",
   "execution_count": 930,
   "id": "881810a0",
   "metadata": {
    "scrolled": true
   },
   "outputs": [
    {
     "data": {
      "text/html": [
       "<div>\n",
       "<style scoped>\n",
       "    .dataframe tbody tr th:only-of-type {\n",
       "        vertical-align: middle;\n",
       "    }\n",
       "\n",
       "    .dataframe tbody tr th {\n",
       "        vertical-align: top;\n",
       "    }\n",
       "\n",
       "    .dataframe thead th {\n",
       "        text-align: right;\n",
       "    }\n",
       "</style>\n",
       "<table border=\"1\" class=\"dataframe\">\n",
       "  <thead>\n",
       "    <tr style=\"text-align: right;\">\n",
       "      <th></th>\n",
       "      <th>LogisticRegression</th>\n",
       "      <th>DecisionTreeClassifier</th>\n",
       "      <th>RandomForestClassifier</th>\n",
       "      <th>AdaBoostClassifier</th>\n",
       "    </tr>\n",
       "  </thead>\n",
       "  <tbody>\n",
       "    <tr>\n",
       "      <th>training_time</th>\n",
       "      <td>0.033279</td>\n",
       "      <td>0.167987</td>\n",
       "      <td>3.552502</td>\n",
       "      <td>1.035229</td>\n",
       "    </tr>\n",
       "    <tr>\n",
       "      <th>train_prediction_time</th>\n",
       "      <td>0.001152</td>\n",
       "      <td>0.003868</td>\n",
       "      <td>0.396019</td>\n",
       "      <td>0.113769</td>\n",
       "    </tr>\n",
       "    <tr>\n",
       "      <th>val_prediction_time</th>\n",
       "      <td>0.000891</td>\n",
       "      <td>0.001563</td>\n",
       "      <td>0.113825</td>\n",
       "      <td>0.034798</td>\n",
       "    </tr>\n",
       "    <tr>\n",
       "      <th>train_acc_score</th>\n",
       "      <td>0.840805</td>\n",
       "      <td>1.000000</td>\n",
       "      <td>1.000000</td>\n",
       "      <td>0.837633</td>\n",
       "    </tr>\n",
       "    <tr>\n",
       "      <th>val_acc_score</th>\n",
       "      <td>0.837746</td>\n",
       "      <td>0.751210</td>\n",
       "      <td>0.832337</td>\n",
       "      <td>0.820666</td>\n",
       "    </tr>\n",
       "    <tr>\n",
       "      <th>train_f1_score</th>\n",
       "      <td>0.866619</td>\n",
       "      <td>1.000000</td>\n",
       "      <td>1.000000</td>\n",
       "      <td>0.863683</td>\n",
       "    </tr>\n",
       "    <tr>\n",
       "      <th>val_f1_score</th>\n",
       "      <td>0.864929</td>\n",
       "      <td>0.791408</td>\n",
       "      <td>0.861118</td>\n",
       "      <td>0.850285</td>\n",
       "    </tr>\n",
       "  </tbody>\n",
       "</table>\n",
       "</div>"
      ],
      "text/plain": [
       "                       LogisticRegression  DecisionTreeClassifier  \\\n",
       "training_time                    0.033279                0.167987   \n",
       "train_prediction_time            0.001152                0.003868   \n",
       "val_prediction_time              0.000891                0.001563   \n",
       "train_acc_score                  0.840805                1.000000   \n",
       "val_acc_score                    0.837746                0.751210   \n",
       "train_f1_score                   0.866619                1.000000   \n",
       "val_f1_score                     0.864929                0.791408   \n",
       "\n",
       "                       RandomForestClassifier  AdaBoostClassifier  \n",
       "training_time                        3.552502            1.035229  \n",
       "train_prediction_time                0.396019            0.113769  \n",
       "val_prediction_time                  0.113825            0.034798  \n",
       "train_acc_score                      1.000000            0.837633  \n",
       "val_acc_score                        0.832337            0.820666  \n",
       "train_f1_score                       1.000000            0.863683  \n",
       "val_f1_score                         0.861118            0.850285  "
      ]
     },
     "execution_count": 930,
     "metadata": {},
     "output_type": "execute_result"
    }
   ],
   "source": [
    "grid_results = pd.DataFrame(results)\n",
    "grid_results = grid_results.reindex(['training_time','train_prediction_time','val_prediction_time','train_acc_score', 'val_acc_score','train_f1_score','val_f1_score'])\n",
    "grid_results"
   ]
  },
  {
   "cell_type": "code",
   "execution_count": 931,
   "id": "3fa246cd",
   "metadata": {},
   "outputs": [],
   "source": [
    "from sklearn.model_selection import GridSearchCV"
   ]
  },
  {
   "cell_type": "code",
   "execution_count": 932,
   "id": "3c1c5836",
   "metadata": {},
   "outputs": [],
   "source": [
    "params = {}\n",
    "pipe = Pipeline([('imputer', SimpleImputer(missing_values=np.nan, strategy='median')),\n",
    "                 ('scaler', StandardScaler()),\n",
    "                 ('clf',RandomForestClassifier())])\n",
    "cv = GridSearchCV(pipe, param_grid=params)"
   ]
  },
  {
   "cell_type": "code",
   "execution_count": 933,
   "id": "cf420ef8",
   "metadata": {},
   "outputs": [
    {
     "name": "stdout",
     "output_type": "stream",
     "text": [
      "Fitting 5 folds for each of 3 candidates, totalling 15 fits\n"
     ]
    },
    {
     "data": {
      "text/plain": [
       "0.8309137489325363"
      ]
     },
     "execution_count": 933,
     "metadata": {},
     "output_type": "execute_result"
    }
   ],
   "source": [
    "parameters = {'clf__n_estimators':list(range(1,30,10))}\n",
    "\n",
    "cv = GridSearchCV(pipe, parameters, verbose=1)\n",
    "\n",
    "cv.fit(X_train, y_train)\n",
    "\n",
    "y_pred = cv.predict(X_val)\n",
    "\n",
    "accuracy_score(y_pred,y_val)"
   ]
  },
  {
   "cell_type": "code",
   "execution_count": 934,
   "id": "8332a81a",
   "metadata": {},
   "outputs": [
    {
     "data": {
      "text/plain": [
       "0.8232783153101878"
      ]
     },
     "execution_count": 934,
     "metadata": {},
     "output_type": "execute_result"
    }
   ],
   "source": [
    "y_pred = cv.predict(X_test)\n",
    "\n",
    "accuracy_score(y_pred, y_test)"
   ]
  },
  {
   "cell_type": "code",
   "execution_count": 935,
   "id": "33bbc059",
   "metadata": {},
   "outputs": [
    {
     "data": {
      "text/plain": [
       "Pipeline(steps=[('imputer', SimpleImputer(strategy='median')),\n",
       "                ('scaler', StandardScaler()),\n",
       "                ('clf', RandomForestClassifier(n_estimators=21))])"
      ]
     },
     "execution_count": 935,
     "metadata": {},
     "output_type": "execute_result"
    }
   ],
   "source": [
    "cv.best_estimator_"
   ]
  },
  {
   "cell_type": "code",
   "execution_count": null,
   "id": "6aeb2549",
   "metadata": {},
   "outputs": [],
   "source": []
  },
  {
   "cell_type": "code",
   "execution_count": null,
   "id": "5987edc6",
   "metadata": {},
   "outputs": [],
   "source": []
  },
  {
   "cell_type": "code",
   "execution_count": null,
   "id": "36f7d19f",
   "metadata": {},
   "outputs": [],
   "source": []
  },
  {
   "cell_type": "code",
   "execution_count": null,
   "id": "2923f884",
   "metadata": {},
   "outputs": [],
   "source": []
  },
  {
   "cell_type": "code",
   "execution_count": null,
   "id": "dfdf5b69",
   "metadata": {},
   "outputs": [],
   "source": []
  }
 ],
 "metadata": {
  "kernelspec": {
   "display_name": "Python 3 (ipykernel)",
   "language": "python",
   "name": "python3"
  },
  "language_info": {
   "codemirror_mode": {
    "name": "ipython",
    "version": 3
   },
   "file_extension": ".py",
   "mimetype": "text/x-python",
   "name": "python",
   "nbconvert_exporter": "python",
   "pygments_lexer": "ipython3",
   "version": "3.9.7"
  }
 },
 "nbformat": 4,
 "nbformat_minor": 5
}
